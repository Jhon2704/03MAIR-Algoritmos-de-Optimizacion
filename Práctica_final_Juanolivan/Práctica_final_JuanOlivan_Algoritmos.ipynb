{
  "nbformat": 4,
  "nbformat_minor": 0,
  "metadata": {
    "colab": {
      "name": "Práctica_final_JuanOlivan-Algoritmos.ipynb",
      "provenance": [],
      "collapsed_sections": [],
      "include_colab_link": true
    },
    "kernelspec": {
      "name": "python3",
      "display_name": "Python 3"
    }
  },
  "cells": [
    {
      "cell_type": "markdown",
      "metadata": {
        "id": "view-in-github",
        "colab_type": "text"
      },
      "source": [
        "<a href=\"https://colab.research.google.com/github/Jhon2704/03MAIR-Algoritmos-de-Optimizacion/blob/main/Pr%C3%A1ctica_final_Juanolivan/Pr%C3%A1ctica_final_JuanOlivan_Algoritmos.ipynb\" target=\"_parent\"><img src=\"https://colab.research.google.com/assets/colab-badge.svg\" alt=\"Open In Colab\"/></a>"
      ]
    },
    {
      "cell_type": "markdown",
      "metadata": {
        "id": "hVbXYX-RfPWh"
      },
      "source": [
        "# Algoritmos de optimización - Seminario<br>\n",
        "Nombre y Apellidos: Juan Olivan Marquina  <br>\n",
        "Url: https://github.com/Jhon2704/03MAIR-Algoritmos-de-Optimizacion/blob/main/Pr%C3%A1ctica_final_Juanolivan/Pr%C3%A1ctica_final_JuanOlivan_Algoritmos.ipynb\n",
        "<br>\n",
        "Problema:\n",
        "\n",
        "\n",
        "3. Combinar cifras y operaciones\n",
        "\n",
        "Descripción del problema:(copiar enunciado)\n",
        "El problema consiste en analizar el siguiente problema y diseñar un algoritmo que lo resuelva.\n",
        "Disponemos de las 9 cifras del 1 al 9(excluimos el 0) y de los 4 signos básicos de las operaciones fundamentales: suma(+),resta(-),multiplicación(*) y división(/)\n",
        "\n",
        "Debemos combinarlos alternativamente sin repetir niguno de ellos para obtener una cantidad dada. Un ejemplo sería para obtener el 4:\n",
        "\n",
        "\n",
        " 4+2-6/3*1=4\n",
        "\n",
        "Debe analizarse el problema para encontrar todos los valores enteros posibles planteando las siguientes cuestiones:\n",
        "-¿ Qué valor máximo y mínimo se pueden obtener según las condiciones del problema?\n",
        "-¿Es posible encontrar todos los valores enteros posibles entre dicho mínimo y máximo?\n",
        "\n",
        "Nota: Es posible usar la función de python \"eval\" para evual una expresión.\n",
        "\n",
        "\n",
        "\n",
        "(*) La respuesta es obligatoria\n",
        "\n",
        "\n",
        "\n",
        "\n",
        "\n",
        "                                        "
      ]
    },
    {
      "cell_type": "markdown",
      "metadata": {
        "id": "3_-exlrTgLd-"
      },
      "source": [
        "(*)¿Cuantas posibilidades hay sin tener en cuenta las restricciones?<br>\n",
        "\n",
        "\n",
        "\n",
        "¿Cuantas posibilidades hay teniendo en cuenta todas las restricciones.\n",
        "\n",
        "\n"
      ]
    },
    {
      "cell_type": "markdown",
      "metadata": {
        "id": "WfCUqJyKhPcw"
      },
      "source": [
        "Respuesta"
      ]
    },
    {
      "cell_type": "markdown",
      "source": [
        "Si tenemos en cuenta las restricciones, que no se admiten repetir números ni operadores, podemos utilizar la definición de Muestreo Ordenado sin remplazo, la fórmula es : nPk=(n!)/(n-k)!\n",
        "n: longitud de la lista\n",
        "k: cantidad de números \n",
        "\n",
        "Poisibilidades númericas:\n",
        "\n",
        "9P5=15120, cantidad de posibilidades para los núumeros \n",
        "\n",
        "4!=24, cantidad de posibilidades para los signos\n",
        "\n",
        "si combinamos ambas obtendremos: nPk·len(operadores)!=362880\n",
        "\n",
        "al no tener restrcciones, la posibilidades aumentan, ya que podemos repetir el operador que haga falta.\n",
        "\n",
        "9^5=59049\n",
        "\n",
        "4^4=256\n",
        "\n",
        "total posibilidades=15116544\n",
        "\n"
      ],
      "metadata": {
        "id": "qKfib-L_N5o9"
      }
    },
    {
      "cell_type": "markdown",
      "metadata": {
        "id": "dzynfVJahHoY"
      },
      "source": [
        "Modelo para el espacio de soluciones<br>\n",
        "(*) ¿Cual es la estructura de datos que mejor se adapta al problema? Argumentalo.(Es posible que hayas elegido una al principio y veas la necesidad de cambiar, arguentalo)\n"
      ]
    },
    {
      "cell_type": "markdown",
      "metadata": {
        "id": "xFIJrOwKi2Ti"
      },
      "source": [
        "Respuesta"
      ]
    },
    {
      "cell_type": "markdown",
      "source": [
        ""
      ],
      "metadata": {
        "id": "5O8YIdedPeEt"
      }
    },
    {
      "cell_type": "code",
      "metadata": {
        "id": "38c-7-ejhJmA"
      },
      "source": [
        "números=[\"1\",\"2\",\"3\",\"4\",\"5\",\"6\",\"7\",\"8\",\"9\"]\n",
        "lista_signos=[\"+\",\"-\",\"*\",\"/\"]"
      ],
      "execution_count": 44,
      "outputs": []
    },
    {
      "cell_type": "markdown",
      "source": [
        "La mejor estructura de datos a simple vista es dos listas que contengan los carácteres. Es importante que las dos listas contengan string para su evaluación."
      ],
      "metadata": {
        "id": "kZktbVVYP7HI"
      }
    },
    {
      "cell_type": "markdown",
      "metadata": {
        "id": "7Z9U2W7bi-XS"
      },
      "source": [
        "Según el modelo para el espacio de soluciones<br>\n",
        "(*)¿Cual es la función objetivo?\n",
        "\n",
        "(*)¿Es un problema de maximización o minimización?"
      ]
    },
    {
      "cell_type": "markdown",
      "metadata": {
        "id": "hBalWLM7j1_d"
      },
      "source": [
        "Respuesta"
      ]
    },
    {
      "cell_type": "markdown",
      "source": [
        "* La función objetivo en el problema es la que estará pasando como parámetro de entrada un cadena de texto y devuelve un True si el resultado de esta operación és el número deseado sino un False.\n",
        "\n",
        "* Este problema no es de maximizar ni minimizar, se debe de realizar la búsqueda de un espacio de soluciones de una expresión y que su resultado sea el valor deseado."
      ],
      "metadata": {
        "id": "ynUwyJftQamz"
      }
    },
    {
      "cell_type": "markdown",
      "metadata": {
        "id": "rlnTYgY1j6I2"
      },
      "source": [
        "Diseña un algoritmo para resolver el problema por fuerza bruta"
      ]
    },
    {
      "cell_type": "markdown",
      "metadata": {
        "id": "70rDgxYXkC8r"
      },
      "source": [
        "Respuesta"
      ]
    },
    {
      "cell_type": "code",
      "metadata": {
        "id": "CJb5sQ0qkENy"
      },
      "source": [
        "from itertools import permutations\n",
        "\n",
        "def resultado(l): \n",
        "    expresion = \"\"\n",
        "    for i in range(len(l)):\n",
        "        expresion += str(l[i])\n",
        "        if i < len(l) - 1:\n",
        "            expresion += lista_signos[i]\n",
        "    return expresion\n",
        "\n",
        "def space(n):\n",
        "    return list(permutations(range(1,n+1),5))\n",
        "\n",
        "def fuerza_bruta(val):\n",
        "    pos = space(9) # posibles soluciones para 1..9 numeros\n",
        "    for p in pos:\n",
        "        expresion = resultado(p)\n",
        "        if eval(expresion) == val:\n",
        "            return expresion\n",
        "    return \"Err\""
      ],
      "execution_count": 50,
      "outputs": []
    },
    {
      "cell_type": "code",
      "source": [
        "fuerza_bruta(1)"
      ],
      "metadata": {
        "colab": {
          "base_uri": "https://localhost:8080/",
          "height": 36
        },
        "id": "tAkpUOD3R1wW",
        "outputId": "6edc636e-8a27-46cd-e877-a447080c0989"
      },
      "execution_count": 52,
      "outputs": [
        {
          "output_type": "execute_result",
          "data": {
            "application/vnd.google.colaboratory.intrinsic+json": {
              "type": "string"
            },
            "text/plain": [
              "'1+2-3*4/6'"
            ]
          },
          "metadata": {},
          "execution_count": 52
        }
      ]
    },
    {
      "cell_type": "markdown",
      "metadata": {
        "id": "tgrnsC2nkFa8"
      },
      "source": [
        "Calcula la complejidad del algoritmo por fuerza bruta"
      ]
    },
    {
      "cell_type": "markdown",
      "metadata": {
        "id": "9eUd3xwckP68"
      },
      "source": [
        "Respuesta"
      ]
    },
    {
      "cell_type": "markdown",
      "source": [
        "La solución que se ha propuesto es generar todo el conjunto de soluciones posibles y luego iterar sobre el conjunto para encontrar la expresión adecuada. Como generamos todas las combinaciones posibles, el peor caso de complejidad de este algoritmo sería \n",
        "\n",
        " O(nPk)"
      ],
      "metadata": {
        "id": "w9qHZBsx9sqE"
      }
    },
    {
      "cell_type": "markdown",
      "metadata": {
        "id": "3M6QjTsSkmYe"
      },
      "source": [
        "Según el problema (y tenga sentido), diseña un juego de datos de entrada aleatorios"
      ]
    },
    {
      "cell_type": "markdown",
      "metadata": {
        "id": "zy5ZROmjlGo1"
      },
      "source": [
        "Aplica el algoritmo al juego de datos generado"
      ]
    },
    {
      "cell_type": "markdown",
      "metadata": {
        "id": "_Cmj-PVylMsa"
      },
      "source": [
        "Respuesta"
      ]
    },
    {
      "cell_type": "markdown",
      "source": [
        "Para las dos preguntas anteriores no tiene sentido imaginar un conjunto de daroas de entrada aleatorios, ya que el unico parametro de entrada que introducimos es el valor que deseamos alcanzar."
      ],
      "metadata": {
        "id": "rKsbhdPgTnx8"
      }
    },
    {
      "cell_type": "markdown",
      "metadata": {
        "id": "eTFWUJQrtGcv"
      },
      "source": [
        "Enumera las referencias que has utilizado(si ha sido necesario) para llevar a cabo el trabajo"
      ]
    },
    {
      "cell_type": "markdown",
      "metadata": {
        "id": "YKQ_mRBttWsP"
      },
      "source": [
        "Respuesta"
      ]
    },
    {
      "cell_type": "markdown",
      "metadata": {
        "id": "kAkDPUyRtYyH"
      },
      "source": [
        "Describe brevemente las lineas de como crees que es posible avanzar en el estudio del problema. Ten en cuenta incluso posibles variaciones del problema y/o variaciones al alza del tamaño"
      ]
    },
    {
      "cell_type": "markdown",
      "source": [
        "https://en.wikipedia.org/wiki/Reverse_Polish_notation"
      ],
      "metadata": {
        "id": "p8BJ5-eeUN5z"
      }
    },
    {
      "cell_type": "markdown",
      "metadata": {
        "id": "IE0uZmo-tZu-"
      },
      "source": [
        "Respuesta"
      ]
    },
    {
      "cell_type": "markdown",
      "source": [
        "Como hemos podido observar el problema sólo se ha realizado con números enteros, por ello se podría avanzar mejorando el algoritmo introduciendo operaciones para los floats.\n",
        "\n",
        "Se podría mejorar el algoritmo utilizando los algoritmos genéticos."
      ],
      "metadata": {
        "id": "6Pbu7j45UPRr"
      }
    }
  ]
}