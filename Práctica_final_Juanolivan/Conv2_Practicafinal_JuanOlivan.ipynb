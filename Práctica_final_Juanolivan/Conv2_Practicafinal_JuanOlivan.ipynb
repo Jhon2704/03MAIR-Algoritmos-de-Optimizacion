{
  "cells": [
    {
      "cell_type": "markdown",
      "metadata": {
        "id": "view-in-github",
        "colab_type": "text"
      },
      "source": [
        "<a href=\"https://colab.research.google.com/github/Jhon2704/03MAIR-Algoritmos-de-Optimizacion/blob/main/Pr%C3%A1ctica_final_Juanolivan/Conv2_Practicafinal_JuanOlivan.ipynb\" target=\"_parent\"><img src=\"https://colab.research.google.com/assets/colab-badge.svg\" alt=\"Open In Colab\"/></a>"
      ]
    },
    {
      "cell_type": "markdown",
      "metadata": {
        "id": "hVbXYX-RfPWh"
      },
      "source": [
        "# Algoritmos de optimización - Convocatoria 2 Práctica final<br>\n",
        "**Nombre y Apellidos:**  Juan Olivan Marquina <br>\n",
        "**Url:** https://github.com/Jhon2704/03MAIR-Algoritmos-de-Optimizacion/blob/main/Pr%C3%A1ctica_final_Juanolivan/Conv2_Practicafinal_JuanOlivan.ipynb\n",
        "\n",
        "**Problema:** 2. Organizar los horarios de partidos de La Liga\n",
        "\n",
        "**Descripción del problema:**                                      "
      ]
    },
    {
      "cell_type": "markdown",
      "metadata": {
        "id": "P232edrm6I-c"
      },
      "source": [
        "Desde la La Liga de fútbol profesional se pretende organizar los horarios de los partidos de liga de de cada jornada. Se conocen algunos datos que nos deben llevar a diseñar un algoritmo que realice la asignación de los partidos a los horarios que maximice la audiencia.\n",
        "\n",
        "Los horarios disponibles se conocen a priori y son los siguientes:"
      ]
    },
    {
      "cell_type": "markdown",
      "metadata": {
        "id": "db7m5kRf7iJU"
      },
      "source": [
        "<table>\n",
        "    \n",
        "<thead>\n",
        "<tr>\n",
        "\t<th></th>\n",
        "</tr>\n",
        "</thead>\n",
        "<tbody>\n",
        "    \n",
        "  <tr> \n",
        "\t<th> Día</th>\n",
        "  <th>Hora</th>\n",
        "</tr>\n",
        "  \n",
        "<tr> \n",
        "\t<th> Viernes</th>\n",
        "  <td>20</td>\n",
        "</tr>\n",
        "\n",
        "<tr> \n",
        "\t<th> Sábado</th>\n",
        "  <td>12, 16, 18, 20</td>\n",
        "</tr>\n",
        "  <tr> \n",
        "\t<th> Domingo</th>\n",
        "  <td>12, 16, 18, 20</td>\n",
        "</tr>\n",
        "  \n",
        "  <tr> \n",
        "\t<th> Lunes</th>\n",
        "  <td>20</td>\n",
        "</tr>\n",
        "  \n",
        "</tbody>\n",
        "</table>"
      ]
    },
    {
      "cell_type": "markdown",
      "metadata": {
        "id": "Bpffwwb98DR-"
      },
      "source": [
        "En primer lugar se clasifican los equipos en tres categorías según el numero de seguidores que tienen relación directa con la audiencia. Hay **3 equipos en la categoría A, 11 equipos de categoría B y 6 equipos de categoría C**\n",
        "\n",
        "Se conoce estadísticamente la audiencia que genera cada partido según los equipos que se enfrentan y en horario de sábado a las 20h (el mejor en todos los casos):"
      ]
    },
    {
      "cell_type": "markdown",
      "metadata": {
        "id": "kI2Znn8u8Z4L"
      },
      "source": [
        "<table>\n",
        "    \n",
        "<thead>\n",
        "<tr>\n",
        "\t<th></th>\n",
        "</tr>\n",
        "</thead>\n",
        "<tbody>\n",
        "    \n",
        "  <tr> \n",
        "   <th> - </th>\n",
        "\t<th> Categoría A</th>\n",
        "  <th>Categoría  B</th>\n",
        "  <th>Categoría  C</th>\n",
        "</tr>\n",
        "  \n",
        "<tr> \n",
        "\t<th>Categoría A</th>\n",
        "  <td>2 M</td>\n",
        "  <td>1.3 M</td>\n",
        "  <td>1 M</td>\n",
        "</tr>\n",
        "\n",
        "<tr> \n",
        "\t<th>Categoría B</th>\n",
        "  <td> ... </td>\n",
        "  <td>0.9 M</td>\n",
        "  <td>0.75 M</td>\n",
        "</tr>\n",
        "  \n",
        "  <tr> \n",
        "\t<th>Categoría C</th>\n",
        "  <td>...</td>\n",
        "  <td>...</td>\n",
        "  <td>0.47 M</td>\n",
        "</tr>\n",
        "  \n",
        "</tbody>\n",
        "</table>"
      ]
    },
    {
      "cell_type": "markdown",
      "metadata": {
        "id": "zyY4RnO19eja"
      },
      "source": [
        "Si el horario del partido no se realiza a las 20 horas del sábado se sabe que **se reduce según los coeficientes** de la siguiente tabla:"
      ]
    },
    {
      "cell_type": "markdown",
      "metadata": {
        "id": "4RqoyQYb9nJx"
      },
      "source": [
        "<table>\n",
        "    \n",
        "<thead>\n",
        "<tr>\n",
        "\t<th></th>\n",
        "</tr>\n",
        "</thead>\n",
        "<tbody>\n",
        "    \n",
        "  <tr> \n",
        "   <th> - </th>\n",
        "\t<th> Viernes</th>\n",
        "  <th>Sábado</th>\n",
        "  <th>Domingo</th>\n",
        "   <th>Lunes</th> \n",
        "</tr>\n",
        "  \n",
        "<tr> \n",
        "\t<th> 12 h</th>\n",
        "  <td>...</td>\n",
        "  <td>0.55</td>\n",
        "  <td>0.45</td>\n",
        "  <td>...</td>\n",
        "</tr>\n",
        "  \n",
        "  <tr> \n",
        "\t<th> 16 h</th>\n",
        "  <td>...</td>\n",
        "  <td>0.7</td>\n",
        "  <td>0.75</td>\n",
        "  <td>...</td>\n",
        "</tr>\n",
        "  \n",
        "  <tr> \n",
        "\t<th> 18 h</th>\n",
        "  <td>...</td>\n",
        "  <td>0.8</td>\n",
        "  <td>0.85</td>\n",
        "  <td>...</td>\n",
        "</tr>\n",
        "  \n",
        "  <tr> \n",
        "\t<th> 20 h</th>\n",
        "  <td>0.4</td>\n",
        "  <td>1</td>\n",
        "  <td>1</td>\n",
        "  <td>0.4</td>\n",
        "</tr>\n",
        "\n",
        "\n",
        "  \n",
        "</tbody>\n",
        "</table>"
      ]
    },
    {
      "cell_type": "markdown",
      "metadata": {
        "id": "fK_0B5Jb-krb"
      },
      "source": [
        "Debemos asignar obligatoriamente siempre un partido el viernes y un partido el lunes.\n",
        "\n",
        "Es posible la coincidencia de horarios pero en este caso la audiencia se verá afectada(no se acumula) y se repartirá según los siguientes criterios:\n",
        "- se tomará la mejor audiencia y se repartirá según la ponderación."
      ]
    },
    {
      "cell_type": "markdown",
      "metadata": {
        "id": "zSIAMgIS6G3q"
      },
      "source": [
        "....\n",
        "\n",
        "<font color='red'>Nota: </font>\n",
        "\n",
        "(*) La respuesta es obligatoria"
      ]
    },
    {
      "cell_type": "code",
      "execution_count": null,
      "metadata": {
        "id": "AiskKkzZfy4e"
      },
      "outputs": [],
      "source": [
        ""
      ]
    },
    {
      "cell_type": "markdown",
      "metadata": {
        "id": "NWJlG8sN3L0U"
      },
      "source": [
        "---"
      ]
    },
    {
      "cell_type": "markdown",
      "metadata": {
        "id": "ZE2034Ud29_t"
      },
      "source": [
        "# APARTADO 1 (*)"
      ]
    },
    {
      "cell_type": "markdown",
      "metadata": {
        "id": "3_-exlrTgLd-"
      },
      "source": [
        "(*)¿Cuantas posibilidades hay sin tener en cuenta las restricciones?<br>\n",
        "\n",
        "\n",
        "\n",
        "¿Cuantas posibilidades hay teniendo en cuenta todas las restricciones.\n",
        "\n",
        "\n"
      ]
    },
    {
      "cell_type": "markdown",
      "metadata": {
        "id": "WfCUqJyKhPcw"
      },
      "source": [
        "**Respuesta**"
      ]
    },
    {
      "cell_type": "markdown",
      "metadata": {
        "id": "m75WELce2uLC"
      },
      "source": [
        "Se dispone de 20 equipos, por lo que se celebran 10 partidos. Las **obligaciones** que nos pone el enunciado son:\n",
        "\n",
        "Obtener la **máxima audiencia** para la jornada, y se ha de jugar un partido el **viernes** y un partido el **lunes**\n",
        "\n",
        "La finalidad es obtener un máximo de audiencia para la jornada, y los horarios coinciden con el número de partidos. Al coincidir los partidos, se genera sólo el de mayor audiencia (aunque se divide entre los dos partidos, la suma es la máxima audiencia de los dos partidos, es decir, el total de audiencia en ese horario). Si aumentara en algo la audiencia del horario, tendría sentido usar esta opción, pues la finalidad es conseguir la audiencia máxima para la jornada.Se podría dar la opción de que coincidan en horario dos partidos, como opción por si el cliente lo quisiera usar en un futuro. Pero esto sería una mejora que añadimos a lo que nos solicitan.\n",
        "Lo que queremos es organizar la jornada de forma que se maximice la audiencia de la jornada. Por lo tanto N es el número de partidos. \n",
        "\n",
        "Se conoce estadísticamente la audiencia que genera cada partido según los equipos que se enfrentan y en horario de sábado a las 20h (el mejor en todos los casos).  Y si el horario del partido no se realiza a las 20 horas del sábado se sabe que se reduce según los coeficientes.\n",
        "\n",
        "El ejercicio consiste asignar el máximo coeficiente de reducción disponible, a el partido, de los disponibles, con mayor audiencia. Es decir, se trata de aplicar un **algoritmo de ordenación** para:\n",
        "\n",
        "- Ordenar los partidos de mayor a menor audiencia\n",
        "- Ordenar los coeficientes de mayor a menor\n",
        "\n",
        "Por lo tanto, en función de la complejidad de el algoritmo de ordenación, obtendremos la complejidad de nuestro problema.  Como hemos visto en clase, en el peor caso obtendremos una complejidad de **O(n²)**."
      ]
    },
    {
      "cell_type": "markdown",
      "metadata": {
        "id": "9gxuchOSgkMJ"
      },
      "source": [
        "Por otra lado para diferentes soluciones posibles tendriamos, N! posibles soluciones"
      ]
    },
    {
      "cell_type": "markdown",
      "metadata": {
        "id": "uvGWhnhu3U-u"
      },
      "source": [
        "# APARTADO 2 (*)"
      ]
    },
    {
      "cell_type": "markdown",
      "metadata": {
        "id": "dzynfVJahHoY"
      },
      "source": [
        "Modelo para el espacio de soluciones<br>\n",
        "(*) ¿Cual es la estructura de datos que mejor se adapta al problema? Argumentalo.(Es posible que hayas elegido una al principio y veas la necesidad de cambiar, arguentalo)\n"
      ]
    },
    {
      "cell_type": "markdown",
      "metadata": {
        "id": "xFIJrOwKi2Ti"
      },
      "source": [
        "**Respuesta**"
      ]
    },
    {
      "cell_type": "markdown",
      "metadata": {
        "id": "j8jp9fHmkMoc"
      },
      "source": [
        "La mejor estructura que se adapta al problema es sin duda la estrudctura de datos como DataFrame de pandas, ya que permite mostrar valores de forma comprensible."
      ]
    },
    {
      "cell_type": "markdown",
      "metadata": {
        "id": "IBvwIyxYhB-H"
      },
      "source": [
        "## 2.1. Importar librerías"
      ]
    },
    {
      "cell_type": "code",
      "execution_count": 3,
      "metadata": {
        "id": "7FIy-bU1IEi9"
      },
      "outputs": [],
      "source": [
        "# inportar librerias\n",
        "import pandas as pd\n",
        "import numpy as np"
      ]
    },
    {
      "cell_type": "markdown",
      "metadata": {
        "id": "XsAfmHHoicvZ"
      },
      "source": [
        "## 2.2. Audiencias y Coeficientes de reducción"
      ]
    },
    {
      "cell_type": "markdown",
      "metadata": {
        "id": "oeefTs4ihoIE"
      },
      "source": [
        "Conocemos estadísticamente la audiencia que se genera cada partido según los enfrentados, horario de sábado a las 20h. Para disponer de estos datos generamos un diccionario, que nos permitirá tener la audiencia de cada partido en función del tipo de partido:"
      ]
    },
    {
      "cell_type": "code",
      "execution_count": 5,
      "metadata": {
        "id": "ZqoiD_GuLZoS"
      },
      "outputs": [],
      "source": [
        "mejor_audiencia = {'AA':2e6,'AB':1.3e6,'AC':1e6,'BB':0.9e6,'BC':0.75e6,'CC':0.47e6}"
      ]
    },
    {
      "cell_type": "code",
      "execution_count": 6,
      "metadata": {
        "colab": {
          "base_uri": "https://localhost:8080/"
        },
        "id": "CVWEIJwILvvZ",
        "outputId": "d4ef95f9-5fbb-4066-9ab6-8061deff6cab"
      },
      "outputs": [
        {
          "output_type": "execute_result",
          "data": {
            "text/plain": [
              "{'AA': 2000000.0,\n",
              " 'AB': 1300000.0,\n",
              " 'AC': 1000000.0,\n",
              " 'BB': 900000.0,\n",
              " 'BC': 750000.0,\n",
              " 'CC': 470000.0}"
            ]
          },
          "metadata": {},
          "execution_count": 6
        }
      ],
      "source": [
        "mejor_audiencia"
      ]
    },
    {
      "cell_type": "markdown",
      "metadata": {
        "id": "Wy4TsRrxi1cW"
      },
      "source": [
        "Si el horario del partido no se realiza a las 20 horas del sábado se sabe que se reduce según los coeficientes de la siguiente tabla:"
      ]
    },
    {
      "cell_type": "code",
      "execution_count": 7,
      "metadata": {
        "colab": {
          "base_uri": "https://localhost:8080/",
          "height": 362
        },
        "id": "G4nk_tTXi2ye",
        "outputId": "bee59b5c-877e-4a34-fb04-e31c5d8bbc18"
      },
      "outputs": [
        {
          "output_type": "execute_result",
          "data": {
            "text/plain": [
              "           dia    cr\n",
              "0  viernes_20h  0.40\n",
              "1   sabado_12h  0.55\n",
              "2   sabado_16h  0.70\n",
              "3   sabado_18h  0.80\n",
              "4   sabado_20h  1.00\n",
              "5  domingo_12h  0.45\n",
              "6  domingo_16h  0.75\n",
              "7  domingo_18h  0.85\n",
              "8  domingo_20h  1.00\n",
              "9    lunes_20h  0.40"
            ],
            "text/html": [
              "\n",
              "  <div id=\"df-d84214f8-cb97-4662-b09d-c6f17f12d678\">\n",
              "    <div class=\"colab-df-container\">\n",
              "      <div>\n",
              "<style scoped>\n",
              "    .dataframe tbody tr th:only-of-type {\n",
              "        vertical-align: middle;\n",
              "    }\n",
              "\n",
              "    .dataframe tbody tr th {\n",
              "        vertical-align: top;\n",
              "    }\n",
              "\n",
              "    .dataframe thead th {\n",
              "        text-align: right;\n",
              "    }\n",
              "</style>\n",
              "<table border=\"1\" class=\"dataframe\">\n",
              "  <thead>\n",
              "    <tr style=\"text-align: right;\">\n",
              "      <th></th>\n",
              "      <th>dia</th>\n",
              "      <th>cr</th>\n",
              "    </tr>\n",
              "  </thead>\n",
              "  <tbody>\n",
              "    <tr>\n",
              "      <th>0</th>\n",
              "      <td>viernes_20h</td>\n",
              "      <td>0.40</td>\n",
              "    </tr>\n",
              "    <tr>\n",
              "      <th>1</th>\n",
              "      <td>sabado_12h</td>\n",
              "      <td>0.55</td>\n",
              "    </tr>\n",
              "    <tr>\n",
              "      <th>2</th>\n",
              "      <td>sabado_16h</td>\n",
              "      <td>0.70</td>\n",
              "    </tr>\n",
              "    <tr>\n",
              "      <th>3</th>\n",
              "      <td>sabado_18h</td>\n",
              "      <td>0.80</td>\n",
              "    </tr>\n",
              "    <tr>\n",
              "      <th>4</th>\n",
              "      <td>sabado_20h</td>\n",
              "      <td>1.00</td>\n",
              "    </tr>\n",
              "    <tr>\n",
              "      <th>5</th>\n",
              "      <td>domingo_12h</td>\n",
              "      <td>0.45</td>\n",
              "    </tr>\n",
              "    <tr>\n",
              "      <th>6</th>\n",
              "      <td>domingo_16h</td>\n",
              "      <td>0.75</td>\n",
              "    </tr>\n",
              "    <tr>\n",
              "      <th>7</th>\n",
              "      <td>domingo_18h</td>\n",
              "      <td>0.85</td>\n",
              "    </tr>\n",
              "    <tr>\n",
              "      <th>8</th>\n",
              "      <td>domingo_20h</td>\n",
              "      <td>1.00</td>\n",
              "    </tr>\n",
              "    <tr>\n",
              "      <th>9</th>\n",
              "      <td>lunes_20h</td>\n",
              "      <td>0.40</td>\n",
              "    </tr>\n",
              "  </tbody>\n",
              "</table>\n",
              "</div>\n",
              "      <button class=\"colab-df-convert\" onclick=\"convertToInteractive('df-d84214f8-cb97-4662-b09d-c6f17f12d678')\"\n",
              "              title=\"Convert this dataframe to an interactive table.\"\n",
              "              style=\"display:none;\">\n",
              "        \n",
              "  <svg xmlns=\"http://www.w3.org/2000/svg\" height=\"24px\"viewBox=\"0 0 24 24\"\n",
              "       width=\"24px\">\n",
              "    <path d=\"M0 0h24v24H0V0z\" fill=\"none\"/>\n",
              "    <path d=\"M18.56 5.44l.94 2.06.94-2.06 2.06-.94-2.06-.94-.94-2.06-.94 2.06-2.06.94zm-11 1L8.5 8.5l.94-2.06 2.06-.94-2.06-.94L8.5 2.5l-.94 2.06-2.06.94zm10 10l.94 2.06.94-2.06 2.06-.94-2.06-.94-.94-2.06-.94 2.06-2.06.94z\"/><path d=\"M17.41 7.96l-1.37-1.37c-.4-.4-.92-.59-1.43-.59-.52 0-1.04.2-1.43.59L10.3 9.45l-7.72 7.72c-.78.78-.78 2.05 0 2.83L4 21.41c.39.39.9.59 1.41.59.51 0 1.02-.2 1.41-.59l7.78-7.78 2.81-2.81c.8-.78.8-2.07 0-2.86zM5.41 20L4 18.59l7.72-7.72 1.47 1.35L5.41 20z\"/>\n",
              "  </svg>\n",
              "      </button>\n",
              "      \n",
              "  <style>\n",
              "    .colab-df-container {\n",
              "      display:flex;\n",
              "      flex-wrap:wrap;\n",
              "      gap: 12px;\n",
              "    }\n",
              "\n",
              "    .colab-df-convert {\n",
              "      background-color: #E8F0FE;\n",
              "      border: none;\n",
              "      border-radius: 50%;\n",
              "      cursor: pointer;\n",
              "      display: none;\n",
              "      fill: #1967D2;\n",
              "      height: 32px;\n",
              "      padding: 0 0 0 0;\n",
              "      width: 32px;\n",
              "    }\n",
              "\n",
              "    .colab-df-convert:hover {\n",
              "      background-color: #E2EBFA;\n",
              "      box-shadow: 0px 1px 2px rgba(60, 64, 67, 0.3), 0px 1px 3px 1px rgba(60, 64, 67, 0.15);\n",
              "      fill: #174EA6;\n",
              "    }\n",
              "\n",
              "    [theme=dark] .colab-df-convert {\n",
              "      background-color: #3B4455;\n",
              "      fill: #D2E3FC;\n",
              "    }\n",
              "\n",
              "    [theme=dark] .colab-df-convert:hover {\n",
              "      background-color: #434B5C;\n",
              "      box-shadow: 0px 1px 3px 1px rgba(0, 0, 0, 0.15);\n",
              "      filter: drop-shadow(0px 1px 2px rgba(0, 0, 0, 0.3));\n",
              "      fill: #FFFFFF;\n",
              "    }\n",
              "  </style>\n",
              "\n",
              "      <script>\n",
              "        const buttonEl =\n",
              "          document.querySelector('#df-d84214f8-cb97-4662-b09d-c6f17f12d678 button.colab-df-convert');\n",
              "        buttonEl.style.display =\n",
              "          google.colab.kernel.accessAllowed ? 'block' : 'none';\n",
              "\n",
              "        async function convertToInteractive(key) {\n",
              "          const element = document.querySelector('#df-d84214f8-cb97-4662-b09d-c6f17f12d678');\n",
              "          const dataTable =\n",
              "            await google.colab.kernel.invokeFunction('convertToInteractive',\n",
              "                                                     [key], {});\n",
              "          if (!dataTable) return;\n",
              "\n",
              "          const docLinkHtml = 'Like what you see? Visit the ' +\n",
              "            '<a target=\"_blank\" href=https://colab.research.google.com/notebooks/data_table.ipynb>data table notebook</a>'\n",
              "            + ' to learn more about interactive tables.';\n",
              "          element.innerHTML = '';\n",
              "          dataTable['output_type'] = 'display_data';\n",
              "          await google.colab.output.renderOutput(dataTable, element);\n",
              "          const docLink = document.createElement('div');\n",
              "          docLink.innerHTML = docLinkHtml;\n",
              "          element.appendChild(docLink);\n",
              "        }\n",
              "      </script>\n",
              "    </div>\n",
              "  </div>\n",
              "  "
            ]
          },
          "metadata": {},
          "execution_count": 7
        }
      ],
      "source": [
        "cr_audiencias = pd.DataFrame(columns=('dia','cr'))\n",
        "\n",
        "cr_audiencias.loc[len(cr_audiencias)]=['viernes_20h',0.4]\n",
        "cr_audiencias.loc[len(cr_audiencias)]=['sabado_12h',0.55]\n",
        "cr_audiencias.loc[len(cr_audiencias)]=['sabado_16h',0.7]\n",
        "cr_audiencias.loc[len(cr_audiencias)]=['sabado_18h',0.8]\n",
        "cr_audiencias.loc[len(cr_audiencias)]=['sabado_20h',1]\n",
        "cr_audiencias.loc[len(cr_audiencias)]=['domingo_12h',0.45]\n",
        "cr_audiencias.loc[len(cr_audiencias)]=['domingo_16h',0.75]\n",
        "cr_audiencias.loc[len(cr_audiencias)]=['domingo_18h',0.85]\n",
        "cr_audiencias.loc[len(cr_audiencias)]=['domingo_20h',1]\n",
        "cr_audiencias.loc[len(cr_audiencias)]=['lunes_20h',0.4]\n",
        "\n",
        "cr_audiencias"
      ]
    },
    {
      "cell_type": "markdown",
      "metadata": {
        "id": "tkTfhcj3Uv8O"
      },
      "source": [
        "## 2.3. Datos de los partidos"
      ]
    },
    {
      "cell_type": "markdown",
      "metadata": {
        "id": "A0Vj61dRjBoW"
      },
      "source": [
        "Disponemos de equipos de clase A, B y C que se enfrentan entre ellos. Según la clase de equipos que se enfrenten la audiencia obtiene mejor resultados o peores, siendo un partido AA el que mejor audiencia obtiene y un partido CC el peor caso. \n",
        "\n",
        "En la siguiente tabla se muestran todas las combinaciones de partidos, ordenadas de mayor a menor audiencia:"
      ]
    },
    {
      "cell_type": "markdown",
      "metadata": {
        "id": "WcGEVd-Rlafs"
      },
      "source": [
        "<table>\n",
        "    \n",
        "<thead>\n",
        "<tr>\n",
        "\t<th></th>\n",
        "</tr>\n",
        "</thead>\n",
        "<tbody>\n",
        "    \n",
        "<tr> \n",
        "\t<th> AA</th>\n",
        "  <th> AB</th>\n",
        "  <th> AC</th>\n",
        "  <th> BB</th>\n",
        "  <th> BC</th>\n",
        "  <th> CC</th>  \n",
        "</tr>\n",
        "\n",
        "<tr>\n",
        "\t<td>2 M</td>\n",
        "  <td>1.3 M</td>\n",
        "  <td>1 M</td>\n",
        "  <td>0.9 M</td>\n",
        "  <td>0.75 M</td>\n",
        "  <td>0.47 M</td>\n",
        "</tr>\n",
        "  \n",
        "</tbody>\n",
        "</table>"
      ]
    },
    {
      "cell_type": "markdown",
      "metadata": {
        "id": "CJyCNu8KmaKf"
      },
      "source": [
        "Puntos que debemos tener en cuenta:\n",
        "\n",
        "- Organizar los horarios de los partidos de tal manera que se maximice la audiencia\n",
        "\n",
        "- Disponemos de 10 partidos y 10 horarios distintos,vamos a suponer que no se puede jugar más de un partido en el mismo horario\n",
        "\n",
        "-Las audiencias de los partidos se ven afectadas por un coeficiente en función del dia y horario. \n",
        "\n",
        "Teniendo en cuenta que queremos maximizar la audiancia, lo lógico es asignar los mejores coeficientes a las mejores audiencias (clase con más seguidores). Para ello, debemos de  tener los coeficientes ordenados del mayor a menor, y asignarlos a los partidos ordenados de mayor a menor audiencia.\n",
        "\n",
        "Veamos un ejemplo de una jornada concreta para entenderlo:\n"
      ]
    },
    {
      "cell_type": "markdown",
      "metadata": {
        "id": "wfT80TBVszie"
      },
      "source": [
        "<table>\n",
        "    \n",
        "<thead>\n",
        "<tr>\n",
        "\t<th></th>\n",
        "</tr>\n",
        "</thead>\n",
        "<tbody>\n",
        "    \n",
        "<tr> \n",
        "  <th> Partido: </th>\n",
        "\t<th> AA</th>\n",
        "  <th> AB</th>\n",
        "  <th> AC</th>\n",
        "  <th> BB</th>\n",
        "  <th> BB</th>\n",
        "  <th> BB</th> \n",
        "  <th> BB</th>\n",
        "  <th> BC</th>  \n",
        "  <th> CC</th>  \n",
        "  <th> CC</th>  \n",
        "</tr>\n",
        "\n",
        "<tr>\n",
        "  <th> Mejor audiencia </th>\n",
        "\t<td>2 M</td>\n",
        "  <td>1.3 M</td>\n",
        "  <td>1 M</td>\n",
        "  <td>0.9 M</td>\n",
        "  <td>0.9 M</td>\n",
        "  <td>0.9 M</td>\n",
        "  <td>0.9 M</td>\n",
        "  <td>0.75 M</td>\n",
        "  <td>0.47 M</td>\n",
        "  <td>0.47 M</td>\n",
        "</tr>\n",
        "  \n",
        "<tr>\n",
        "  <th> Coeficiente: </th>\n",
        "\t<td>1</td>\n",
        "  <td>1</td>\n",
        "  <td>0.85</td>\n",
        "  <td>0.8</td>\n",
        "  <td>0.75</td>\n",
        "  <td>0.7</td>\n",
        "  <td>0.55</td>\n",
        "  <td>0.45</td>\n",
        "  <td>0.4</td>\n",
        "  <td>0.4</td>\n",
        "</tr>\n",
        "  \n",
        "<tr>\n",
        "  <th> Día: </th>\n",
        "\t<td>Sábado 20h</td>\n",
        "  <td>Domingo 20h</td>\n",
        "  <td>Domingo 18h</td>\n",
        "  <td>Sábado 18h</td>\n",
        "  <td>Domingo 16h</td>\n",
        "  <td>Sábado 16h</td>\n",
        "  <td>Sábado 12h</td>\n",
        "  <td>Domingo 12h</td>\n",
        "  <td>Viernes 20h</td>\n",
        "  <td>Lunes 20h</td>\n",
        "</tr>\n",
        "  \n",
        "</tbody>\n",
        "</table>"
      ]
    },
    {
      "cell_type": "markdown",
      "metadata": {
        "id": "VHrF6pHLyEnI"
      },
      "source": [
        "Tener la lista de coeficientes ordenadas no es un problema, se puede almacenar directamente.\n",
        "\n",
        "Los partidos vienen desordenados, sólo sabemos quien se enfrenta a quien, pero debemos de ordenarlos según la audiencia de mayor a menor. Para ello he pensado en el algoritmo de ordenación rápida (quick sort), ya que es el más utilizado, y además lo hemos implementado en clase.\n",
        "\n",
        "Para ordenar los partidos de mejor audiencia a la peor, nos fijaremos en la clase de los equipos enfrentados. El problema viene en como calcular el pivote y como decidir que partido va a una o a otra sublista, pues las clases de los partidos son caracteres. Para poder calcular el pivote mediante la media, vamos a realizar una conversión de la clase de equipo a númerica mediante el código ASCII, donde:"
      ]
    },
    {
      "cell_type": "markdown",
      "metadata": {
        "id": "_oipAaM91tLe"
      },
      "source": [
        "<table>\n",
        "    \n",
        "<thead>\n",
        "<tr>\n",
        "\t<th></th>\n",
        "</tr>\n",
        "</thead>\n",
        "<tbody>\n",
        "    \n",
        "  <tr> \n",
        "\t<th> Clase</th>\n",
        "  <th> ASCII</th>\n",
        "</tr>\n",
        "  \n",
        "<tr> \n",
        "\t<th> A</th>\n",
        "  <td>65</td>\n",
        "</tr>\n",
        "\n",
        "<tr> \n",
        "\t<th> B</th>\n",
        "  <td>66</td>\n",
        "</tr>\n",
        "  \n",
        "  <tr> \n",
        "\t<th> C</th>\n",
        "  <td>67</td>\n",
        "</tr>\n",
        "  \n",
        "</tbody>\n",
        "</table>"
      ]
    },
    {
      "cell_type": "markdown",
      "metadata": {
        "id": "i5rQFkEu2Sr9"
      },
      "source": [
        "Por lo tanto,  las combinaciones de partidos posibles son (ordenadas de mayor a menor audiencia):"
      ]
    },
    {
      "cell_type": "markdown",
      "metadata": {
        "id": "nRGsFoNdmSGG"
      },
      "source": [
        "<table>\n",
        "    \n",
        "<thead>\n",
        "<tr>\n",
        "\t<th></th>\n",
        "</tr>\n",
        "</thead>\n",
        "<tbody>\n",
        "    \n",
        "<tr> \n",
        "\t<th> AA</th>\n",
        "  <th> AB</th>\n",
        "  <th> AC</th>\n",
        "  <th> BB</th>\n",
        "  <th> BC</th>\n",
        "  <th> CC</th>  \n",
        "</tr>\n",
        "\n",
        "<tr>\n",
        "\t<td>6565</td>\n",
        "  <td>6566</td>\n",
        "  <td>6567</td>\n",
        "  <td>6666</td>\n",
        "  <td>6667</td>\n",
        "  <td>6767</td>\n",
        "</tr>\n",
        "  \n",
        "</tbody>\n",
        "</table>"
      ]
    },
    {
      "cell_type": "markdown",
      "metadata": {
        "id": "0XFefavjhIEt"
      },
      "source": [
        "De esta forma, lo unico que debemos hacer es ordenar el número generado usando el código ASCII de menor a mayor, para obtener los partidos ordenados de  mayor  a menor audiencia. "
      ]
    },
    {
      "cell_type": "markdown",
      "metadata": {
        "id": "aNIAwHXixLjd"
      },
      "source": [
        "Si tenemos la posibilidad que nos da el ejercicio de jugar más de un partido en el mismo horario. \n",
        "\n",
        "La finalidad es la organización de los horarios de una jornada de la liga de fútbol, que se obtenga la máxima audiencia en la jornada.\n",
        "\n",
        "Al coincidir el número de partidos con el número de horarios, la audiencia máxima, se obtiene si se juega un partido cada día,pues es sería la suma de todas las audiencias. Pues por muy pequeña que sea la audiencia de un lunes, aporta audiencia al global.\n",
        "\n",
        "Por esta razón no se considerará que dos partidos puedan conincidir, pues carece de sentido si se pretende maximizar la audiencia (como se comenta en el ejercicio1)."
      ]
    },
    {
      "cell_type": "markdown",
      "metadata": {
        "id": "i3zRyPO4iJZO"
      },
      "source": [
        "### 2.3.1. Equipos en la liga"
      ]
    },
    {
      "cell_type": "markdown",
      "metadata": {
        "id": "KBAYfIUDqA1Z"
      },
      "source": [
        "La Liga de fútbol esta formada por 20 equipos clasificados en tres categorías según el número de seguidores, que tienen relación directa con la audiencia. Catrgorías: \n",
        "\n",
        "-  Categoría A: Mayor número de seguidores. Hay 3 equipos en la categoría A\n",
        "-  Categoría B: Número intermedio de seguidores. Hay 11 equipos de categoría B  \n",
        "-  Categoría C: Menor número de seguidores. Hay 6 equipos de categoría C\n",
        "\n",
        "La forma más habitual de almacenar unos datos como los de la liga, es el uso de un Data Frame de pandas (DF), pues nos permite la manipulación sencilla delos datos y una facil legibilidad de estos. Por estas razones los datos de la liga se reciben en una DF, que creamos a continuación, con una columna con el nombre del equipo y otra columna con la categoría del equipo:\n"
      ]
    },
    {
      "cell_type": "code",
      "execution_count": 10,
      "metadata": {
        "id": "4WyVeWUTMd_Y"
      },
      "outputs": [],
      "source": [
        "# DF equipos de la liga y su categoría (Liga 2018/19)\n",
        "equipos_liga = pd.DataFrame(columns=('nombre','categoria'))\n",
        "\n",
        "equipos_liga.loc[len(equipos_liga)]=['FC Barcelona','A']\n",
        "equipos_liga.loc[len(equipos_liga)]=['Real Madrid','A']\n",
        "equipos_liga.loc[len(equipos_liga)]=['Real Sociedad','A']\n",
        "\n",
        "equipos_liga.loc[len(equipos_liga)]=['Valencia CF','B']\n",
        "equipos_liga.loc[len(equipos_liga)]=['Athletic Club','B']\n",
        "equipos_liga.loc[len(equipos_liga)]=['Real Betis','B']\n",
        "equipos_liga.loc[len(equipos_liga)]=['Villareal','B']\n",
        "equipos_liga.loc[len(equipos_liga)]=['Levante UD','B']\n",
        "equipos_liga.loc[len(equipos_liga)]=['Getafe CF','B']\n",
        "equipos_liga.loc[len(equipos_liga)]=['RCD Espanyol','B']\n",
        "equipos_liga.loc[len(equipos_liga)]=['Sevilla','B']\n",
        "equipos_liga.loc[len(equipos_liga)]=['RC Celta','B']\n",
        "equipos_liga.loc[len(equipos_liga)]=['D. Alavés','B']\n",
        "equipos_liga.loc[len(equipos_liga)]=['Atlético','B']\n",
        "\n",
        "\n",
        "\n",
        "equipos_liga.loc[len(equipos_liga)]=['CD Leganés','C']\n",
        "equipos_liga.loc[len(equipos_liga)]=['Osasuna','C']\n",
        "equipos_liga.loc[len(equipos_liga)]=['SD Eibar','C']\n",
        "equipos_liga.loc[len(equipos_liga)]=['Real Valladolid','C']\n",
        "equipos_liga.loc[len(equipos_liga)]=['Mallorca','C']\n",
        "equipos_liga.loc[len(equipos_liga)]=['Menorca','C']\n",
        "\n"
      ]
    },
    {
      "cell_type": "code",
      "execution_count": 11,
      "metadata": {
        "colab": {
          "base_uri": "https://localhost:8080/",
          "height": 676
        },
        "id": "veLJMEsCKMyN",
        "outputId": "532c240c-5d6d-43e4-f63d-d09ff5edf177"
      },
      "outputs": [
        {
          "output_type": "execute_result",
          "data": {
            "text/plain": [
              "             nombre categoria\n",
              "0      FC Barcelona         A\n",
              "1       Real Madrid         A\n",
              "2     Real Sociedad         A\n",
              "3       Valencia CF         B\n",
              "4     Athletic Club         B\n",
              "5        Real Betis         B\n",
              "6         Villareal         B\n",
              "7        Levante UD         B\n",
              "8         Getafe CF         B\n",
              "9      RCD Espanyol         B\n",
              "10          Sevilla         B\n",
              "11         RC Celta         B\n",
              "12        D. Alavés         B\n",
              "13         Atlético         B\n",
              "14       CD Leganés         C\n",
              "15          Osasuna         C\n",
              "16         SD Eibar         C\n",
              "17  Real Valladolid         C\n",
              "18         Mallorca         C\n",
              "19          Menorca         C"
            ],
            "text/html": [
              "\n",
              "  <div id=\"df-8c412c76-8723-4e37-84d5-2a43efebeb63\">\n",
              "    <div class=\"colab-df-container\">\n",
              "      <div>\n",
              "<style scoped>\n",
              "    .dataframe tbody tr th:only-of-type {\n",
              "        vertical-align: middle;\n",
              "    }\n",
              "\n",
              "    .dataframe tbody tr th {\n",
              "        vertical-align: top;\n",
              "    }\n",
              "\n",
              "    .dataframe thead th {\n",
              "        text-align: right;\n",
              "    }\n",
              "</style>\n",
              "<table border=\"1\" class=\"dataframe\">\n",
              "  <thead>\n",
              "    <tr style=\"text-align: right;\">\n",
              "      <th></th>\n",
              "      <th>nombre</th>\n",
              "      <th>categoria</th>\n",
              "    </tr>\n",
              "  </thead>\n",
              "  <tbody>\n",
              "    <tr>\n",
              "      <th>0</th>\n",
              "      <td>FC Barcelona</td>\n",
              "      <td>A</td>\n",
              "    </tr>\n",
              "    <tr>\n",
              "      <th>1</th>\n",
              "      <td>Real Madrid</td>\n",
              "      <td>A</td>\n",
              "    </tr>\n",
              "    <tr>\n",
              "      <th>2</th>\n",
              "      <td>Real Sociedad</td>\n",
              "      <td>A</td>\n",
              "    </tr>\n",
              "    <tr>\n",
              "      <th>3</th>\n",
              "      <td>Valencia CF</td>\n",
              "      <td>B</td>\n",
              "    </tr>\n",
              "    <tr>\n",
              "      <th>4</th>\n",
              "      <td>Athletic Club</td>\n",
              "      <td>B</td>\n",
              "    </tr>\n",
              "    <tr>\n",
              "      <th>5</th>\n",
              "      <td>Real Betis</td>\n",
              "      <td>B</td>\n",
              "    </tr>\n",
              "    <tr>\n",
              "      <th>6</th>\n",
              "      <td>Villareal</td>\n",
              "      <td>B</td>\n",
              "    </tr>\n",
              "    <tr>\n",
              "      <th>7</th>\n",
              "      <td>Levante UD</td>\n",
              "      <td>B</td>\n",
              "    </tr>\n",
              "    <tr>\n",
              "      <th>8</th>\n",
              "      <td>Getafe CF</td>\n",
              "      <td>B</td>\n",
              "    </tr>\n",
              "    <tr>\n",
              "      <th>9</th>\n",
              "      <td>RCD Espanyol</td>\n",
              "      <td>B</td>\n",
              "    </tr>\n",
              "    <tr>\n",
              "      <th>10</th>\n",
              "      <td>Sevilla</td>\n",
              "      <td>B</td>\n",
              "    </tr>\n",
              "    <tr>\n",
              "      <th>11</th>\n",
              "      <td>RC Celta</td>\n",
              "      <td>B</td>\n",
              "    </tr>\n",
              "    <tr>\n",
              "      <th>12</th>\n",
              "      <td>D. Alavés</td>\n",
              "      <td>B</td>\n",
              "    </tr>\n",
              "    <tr>\n",
              "      <th>13</th>\n",
              "      <td>Atlético</td>\n",
              "      <td>B</td>\n",
              "    </tr>\n",
              "    <tr>\n",
              "      <th>14</th>\n",
              "      <td>CD Leganés</td>\n",
              "      <td>C</td>\n",
              "    </tr>\n",
              "    <tr>\n",
              "      <th>15</th>\n",
              "      <td>Osasuna</td>\n",
              "      <td>C</td>\n",
              "    </tr>\n",
              "    <tr>\n",
              "      <th>16</th>\n",
              "      <td>SD Eibar</td>\n",
              "      <td>C</td>\n",
              "    </tr>\n",
              "    <tr>\n",
              "      <th>17</th>\n",
              "      <td>Real Valladolid</td>\n",
              "      <td>C</td>\n",
              "    </tr>\n",
              "    <tr>\n",
              "      <th>18</th>\n",
              "      <td>Mallorca</td>\n",
              "      <td>C</td>\n",
              "    </tr>\n",
              "    <tr>\n",
              "      <th>19</th>\n",
              "      <td>Menorca</td>\n",
              "      <td>C</td>\n",
              "    </tr>\n",
              "  </tbody>\n",
              "</table>\n",
              "</div>\n",
              "      <button class=\"colab-df-convert\" onclick=\"convertToInteractive('df-8c412c76-8723-4e37-84d5-2a43efebeb63')\"\n",
              "              title=\"Convert this dataframe to an interactive table.\"\n",
              "              style=\"display:none;\">\n",
              "        \n",
              "  <svg xmlns=\"http://www.w3.org/2000/svg\" height=\"24px\"viewBox=\"0 0 24 24\"\n",
              "       width=\"24px\">\n",
              "    <path d=\"M0 0h24v24H0V0z\" fill=\"none\"/>\n",
              "    <path d=\"M18.56 5.44l.94 2.06.94-2.06 2.06-.94-2.06-.94-.94-2.06-.94 2.06-2.06.94zm-11 1L8.5 8.5l.94-2.06 2.06-.94-2.06-.94L8.5 2.5l-.94 2.06-2.06.94zm10 10l.94 2.06.94-2.06 2.06-.94-2.06-.94-.94-2.06-.94 2.06-2.06.94z\"/><path d=\"M17.41 7.96l-1.37-1.37c-.4-.4-.92-.59-1.43-.59-.52 0-1.04.2-1.43.59L10.3 9.45l-7.72 7.72c-.78.78-.78 2.05 0 2.83L4 21.41c.39.39.9.59 1.41.59.51 0 1.02-.2 1.41-.59l7.78-7.78 2.81-2.81c.8-.78.8-2.07 0-2.86zM5.41 20L4 18.59l7.72-7.72 1.47 1.35L5.41 20z\"/>\n",
              "  </svg>\n",
              "      </button>\n",
              "      \n",
              "  <style>\n",
              "    .colab-df-container {\n",
              "      display:flex;\n",
              "      flex-wrap:wrap;\n",
              "      gap: 12px;\n",
              "    }\n",
              "\n",
              "    .colab-df-convert {\n",
              "      background-color: #E8F0FE;\n",
              "      border: none;\n",
              "      border-radius: 50%;\n",
              "      cursor: pointer;\n",
              "      display: none;\n",
              "      fill: #1967D2;\n",
              "      height: 32px;\n",
              "      padding: 0 0 0 0;\n",
              "      width: 32px;\n",
              "    }\n",
              "\n",
              "    .colab-df-convert:hover {\n",
              "      background-color: #E2EBFA;\n",
              "      box-shadow: 0px 1px 2px rgba(60, 64, 67, 0.3), 0px 1px 3px 1px rgba(60, 64, 67, 0.15);\n",
              "      fill: #174EA6;\n",
              "    }\n",
              "\n",
              "    [theme=dark] .colab-df-convert {\n",
              "      background-color: #3B4455;\n",
              "      fill: #D2E3FC;\n",
              "    }\n",
              "\n",
              "    [theme=dark] .colab-df-convert:hover {\n",
              "      background-color: #434B5C;\n",
              "      box-shadow: 0px 1px 3px 1px rgba(0, 0, 0, 0.15);\n",
              "      filter: drop-shadow(0px 1px 2px rgba(0, 0, 0, 0.3));\n",
              "      fill: #FFFFFF;\n",
              "    }\n",
              "  </style>\n",
              "\n",
              "      <script>\n",
              "        const buttonEl =\n",
              "          document.querySelector('#df-8c412c76-8723-4e37-84d5-2a43efebeb63 button.colab-df-convert');\n",
              "        buttonEl.style.display =\n",
              "          google.colab.kernel.accessAllowed ? 'block' : 'none';\n",
              "\n",
              "        async function convertToInteractive(key) {\n",
              "          const element = document.querySelector('#df-8c412c76-8723-4e37-84d5-2a43efebeb63');\n",
              "          const dataTable =\n",
              "            await google.colab.kernel.invokeFunction('convertToInteractive',\n",
              "                                                     [key], {});\n",
              "          if (!dataTable) return;\n",
              "\n",
              "          const docLinkHtml = 'Like what you see? Visit the ' +\n",
              "            '<a target=\"_blank\" href=https://colab.research.google.com/notebooks/data_table.ipynb>data table notebook</a>'\n",
              "            + ' to learn more about interactive tables.';\n",
              "          element.innerHTML = '';\n",
              "          dataTable['output_type'] = 'display_data';\n",
              "          await google.colab.output.renderOutput(dataTable, element);\n",
              "          const docLink = document.createElement('div');\n",
              "          docLink.innerHTML = docLinkHtml;\n",
              "          element.appendChild(docLink);\n",
              "        }\n",
              "      </script>\n",
              "    </div>\n",
              "  </div>\n",
              "  "
            ]
          },
          "metadata": {},
          "execution_count": 11
        }
      ],
      "source": [
        "# Mostrar equipos participantes en la liga\n",
        "equipos_liga"
      ]
    },
    {
      "cell_type": "markdown",
      "metadata": {
        "id": "ronhHuRduDnv"
      },
      "source": [
        "### 2.3.2. Enfrentamiento entre equipos - jornada aleatoria "
      ]
    },
    {
      "cell_type": "markdown",
      "metadata": {
        "id": "3euJZol5YOM9"
      },
      "source": [
        "#### 2.3.2.1. Ordenación aleatoría de los equipos"
      ]
    },
    {
      "cell_type": "markdown",
      "metadata": {
        "id": "v8q9VtbCt4vz"
      },
      "source": [
        "Nos piden que diseñemos  un algoritmo que realice la asignación de los partidos de una jornada, a los horarios que maximice la audiencia. Es decir, para una jornada dada debemos de aignar los horarios de forma que obtengamos la mejor audiencia posible para esa jornada.\n",
        "\n",
        "Por lo tanto, el algoritmo que diseñemos recibirá los partidos de una jornada y debera de asignar los horarios. Como de momento solo tenemos los equipos que van a participar en la Liga, debemos de crearnos una jornada para poder probar el algoritmo.\n",
        "\n",
        "Para ello nos creamos una función que cree una jornada, donde los enfrentamientos serán entre los equipos pares contra los impares."
      ]
    },
    {
      "cell_type": "code",
      "execution_count": 12,
      "metadata": {
        "id": "2sS2oZ8WMCZi"
      },
      "outputs": [],
      "source": [
        "# FUNCION para crear jornadas aleatorias \n",
        "\n",
        "def crear_jornada_aleatoria(equipos_liga):\n",
        "  df = equipos_liga.iloc[np.random.permutation(len(equipos_liga))]#ordenacion aleatoria\n",
        "  return df"
      ]
    },
    {
      "cell_type": "code",
      "execution_count": 13,
      "metadata": {
        "id": "9nkTZsG1w-Wh"
      },
      "outputs": [],
      "source": [
        "jornada_aleatoria = crear_jornada_aleatoria(equipos_liga)# Obtener jornada aleatoria"
      ]
    },
    {
      "cell_type": "code",
      "execution_count": 14,
      "metadata": {
        "colab": {
          "base_uri": "https://localhost:8080/",
          "height": 676
        },
        "id": "tO8ZJsQZx3Er",
        "outputId": "5d207522-b5fa-4b39-b368-a37245e1535c"
      },
      "outputs": [
        {
          "output_type": "execute_result",
          "data": {
            "text/plain": [
              "             nombre categoria\n",
              "14       CD Leganés         C\n",
              "15          Osasuna         C\n",
              "6         Villareal         B\n",
              "1       Real Madrid         A\n",
              "19          Menorca         C\n",
              "13         Atlético         B\n",
              "18         Mallorca         C\n",
              "3       Valencia CF         B\n",
              "10          Sevilla         B\n",
              "0      FC Barcelona         A\n",
              "16         SD Eibar         C\n",
              "9      RCD Espanyol         B\n",
              "2     Real Sociedad         A\n",
              "5        Real Betis         B\n",
              "17  Real Valladolid         C\n",
              "7        Levante UD         B\n",
              "4     Athletic Club         B\n",
              "11         RC Celta         B\n",
              "8         Getafe CF         B\n",
              "12        D. Alavés         B"
            ],
            "text/html": [
              "\n",
              "  <div id=\"df-47c7f1ce-7628-4aee-ac8f-71d59af548f1\">\n",
              "    <div class=\"colab-df-container\">\n",
              "      <div>\n",
              "<style scoped>\n",
              "    .dataframe tbody tr th:only-of-type {\n",
              "        vertical-align: middle;\n",
              "    }\n",
              "\n",
              "    .dataframe tbody tr th {\n",
              "        vertical-align: top;\n",
              "    }\n",
              "\n",
              "    .dataframe thead th {\n",
              "        text-align: right;\n",
              "    }\n",
              "</style>\n",
              "<table border=\"1\" class=\"dataframe\">\n",
              "  <thead>\n",
              "    <tr style=\"text-align: right;\">\n",
              "      <th></th>\n",
              "      <th>nombre</th>\n",
              "      <th>categoria</th>\n",
              "    </tr>\n",
              "  </thead>\n",
              "  <tbody>\n",
              "    <tr>\n",
              "      <th>14</th>\n",
              "      <td>CD Leganés</td>\n",
              "      <td>C</td>\n",
              "    </tr>\n",
              "    <tr>\n",
              "      <th>15</th>\n",
              "      <td>Osasuna</td>\n",
              "      <td>C</td>\n",
              "    </tr>\n",
              "    <tr>\n",
              "      <th>6</th>\n",
              "      <td>Villareal</td>\n",
              "      <td>B</td>\n",
              "    </tr>\n",
              "    <tr>\n",
              "      <th>1</th>\n",
              "      <td>Real Madrid</td>\n",
              "      <td>A</td>\n",
              "    </tr>\n",
              "    <tr>\n",
              "      <th>19</th>\n",
              "      <td>Menorca</td>\n",
              "      <td>C</td>\n",
              "    </tr>\n",
              "    <tr>\n",
              "      <th>13</th>\n",
              "      <td>Atlético</td>\n",
              "      <td>B</td>\n",
              "    </tr>\n",
              "    <tr>\n",
              "      <th>18</th>\n",
              "      <td>Mallorca</td>\n",
              "      <td>C</td>\n",
              "    </tr>\n",
              "    <tr>\n",
              "      <th>3</th>\n",
              "      <td>Valencia CF</td>\n",
              "      <td>B</td>\n",
              "    </tr>\n",
              "    <tr>\n",
              "      <th>10</th>\n",
              "      <td>Sevilla</td>\n",
              "      <td>B</td>\n",
              "    </tr>\n",
              "    <tr>\n",
              "      <th>0</th>\n",
              "      <td>FC Barcelona</td>\n",
              "      <td>A</td>\n",
              "    </tr>\n",
              "    <tr>\n",
              "      <th>16</th>\n",
              "      <td>SD Eibar</td>\n",
              "      <td>C</td>\n",
              "    </tr>\n",
              "    <tr>\n",
              "      <th>9</th>\n",
              "      <td>RCD Espanyol</td>\n",
              "      <td>B</td>\n",
              "    </tr>\n",
              "    <tr>\n",
              "      <th>2</th>\n",
              "      <td>Real Sociedad</td>\n",
              "      <td>A</td>\n",
              "    </tr>\n",
              "    <tr>\n",
              "      <th>5</th>\n",
              "      <td>Real Betis</td>\n",
              "      <td>B</td>\n",
              "    </tr>\n",
              "    <tr>\n",
              "      <th>17</th>\n",
              "      <td>Real Valladolid</td>\n",
              "      <td>C</td>\n",
              "    </tr>\n",
              "    <tr>\n",
              "      <th>7</th>\n",
              "      <td>Levante UD</td>\n",
              "      <td>B</td>\n",
              "    </tr>\n",
              "    <tr>\n",
              "      <th>4</th>\n",
              "      <td>Athletic Club</td>\n",
              "      <td>B</td>\n",
              "    </tr>\n",
              "    <tr>\n",
              "      <th>11</th>\n",
              "      <td>RC Celta</td>\n",
              "      <td>B</td>\n",
              "    </tr>\n",
              "    <tr>\n",
              "      <th>8</th>\n",
              "      <td>Getafe CF</td>\n",
              "      <td>B</td>\n",
              "    </tr>\n",
              "    <tr>\n",
              "      <th>12</th>\n",
              "      <td>D. Alavés</td>\n",
              "      <td>B</td>\n",
              "    </tr>\n",
              "  </tbody>\n",
              "</table>\n",
              "</div>\n",
              "      <button class=\"colab-df-convert\" onclick=\"convertToInteractive('df-47c7f1ce-7628-4aee-ac8f-71d59af548f1')\"\n",
              "              title=\"Convert this dataframe to an interactive table.\"\n",
              "              style=\"display:none;\">\n",
              "        \n",
              "  <svg xmlns=\"http://www.w3.org/2000/svg\" height=\"24px\"viewBox=\"0 0 24 24\"\n",
              "       width=\"24px\">\n",
              "    <path d=\"M0 0h24v24H0V0z\" fill=\"none\"/>\n",
              "    <path d=\"M18.56 5.44l.94 2.06.94-2.06 2.06-.94-2.06-.94-.94-2.06-.94 2.06-2.06.94zm-11 1L8.5 8.5l.94-2.06 2.06-.94-2.06-.94L8.5 2.5l-.94 2.06-2.06.94zm10 10l.94 2.06.94-2.06 2.06-.94-2.06-.94-.94-2.06-.94 2.06-2.06.94z\"/><path d=\"M17.41 7.96l-1.37-1.37c-.4-.4-.92-.59-1.43-.59-.52 0-1.04.2-1.43.59L10.3 9.45l-7.72 7.72c-.78.78-.78 2.05 0 2.83L4 21.41c.39.39.9.59 1.41.59.51 0 1.02-.2 1.41-.59l7.78-7.78 2.81-2.81c.8-.78.8-2.07 0-2.86zM5.41 20L4 18.59l7.72-7.72 1.47 1.35L5.41 20z\"/>\n",
              "  </svg>\n",
              "      </button>\n",
              "      \n",
              "  <style>\n",
              "    .colab-df-container {\n",
              "      display:flex;\n",
              "      flex-wrap:wrap;\n",
              "      gap: 12px;\n",
              "    }\n",
              "\n",
              "    .colab-df-convert {\n",
              "      background-color: #E8F0FE;\n",
              "      border: none;\n",
              "      border-radius: 50%;\n",
              "      cursor: pointer;\n",
              "      display: none;\n",
              "      fill: #1967D2;\n",
              "      height: 32px;\n",
              "      padding: 0 0 0 0;\n",
              "      width: 32px;\n",
              "    }\n",
              "\n",
              "    .colab-df-convert:hover {\n",
              "      background-color: #E2EBFA;\n",
              "      box-shadow: 0px 1px 2px rgba(60, 64, 67, 0.3), 0px 1px 3px 1px rgba(60, 64, 67, 0.15);\n",
              "      fill: #174EA6;\n",
              "    }\n",
              "\n",
              "    [theme=dark] .colab-df-convert {\n",
              "      background-color: #3B4455;\n",
              "      fill: #D2E3FC;\n",
              "    }\n",
              "\n",
              "    [theme=dark] .colab-df-convert:hover {\n",
              "      background-color: #434B5C;\n",
              "      box-shadow: 0px 1px 3px 1px rgba(0, 0, 0, 0.15);\n",
              "      filter: drop-shadow(0px 1px 2px rgba(0, 0, 0, 0.3));\n",
              "      fill: #FFFFFF;\n",
              "    }\n",
              "  </style>\n",
              "\n",
              "      <script>\n",
              "        const buttonEl =\n",
              "          document.querySelector('#df-47c7f1ce-7628-4aee-ac8f-71d59af548f1 button.colab-df-convert');\n",
              "        buttonEl.style.display =\n",
              "          google.colab.kernel.accessAllowed ? 'block' : 'none';\n",
              "\n",
              "        async function convertToInteractive(key) {\n",
              "          const element = document.querySelector('#df-47c7f1ce-7628-4aee-ac8f-71d59af548f1');\n",
              "          const dataTable =\n",
              "            await google.colab.kernel.invokeFunction('convertToInteractive',\n",
              "                                                     [key], {});\n",
              "          if (!dataTable) return;\n",
              "\n",
              "          const docLinkHtml = 'Like what you see? Visit the ' +\n",
              "            '<a target=\"_blank\" href=https://colab.research.google.com/notebooks/data_table.ipynb>data table notebook</a>'\n",
              "            + ' to learn more about interactive tables.';\n",
              "          element.innerHTML = '';\n",
              "          dataTable['output_type'] = 'display_data';\n",
              "          await google.colab.output.renderOutput(dataTable, element);\n",
              "          const docLink = document.createElement('div');\n",
              "          docLink.innerHTML = docLinkHtml;\n",
              "          element.appendChild(docLink);\n",
              "        }\n",
              "      </script>\n",
              "    </div>\n",
              "  </div>\n",
              "  "
            ]
          },
          "metadata": {},
          "execution_count": 14
        }
      ],
      "source": [
        "jornada_aleatoria # mostrar jornada creada"
      ]
    },
    {
      "cell_type": "markdown",
      "metadata": {
        "id": "mfsHUzodYW41"
      },
      "source": [
        "#### 2.3.2.1. Data Frame de la jornada"
      ]
    },
    {
      "cell_type": "markdown",
      "metadata": {
        "id": "p4F57K4K9-8G"
      },
      "source": [
        "Como hemos dicho en el ejercico 1, N es el número de partidos. Como tenemos estructurada la jornada ahora, no es sencillo de ver. Por ello, creamos un Data Frame donde se contienen:\n",
        "Número generado por el código ASCII de las clases de los equipos (cat_num),\n",
        "clase del partido (categoria),y nombre de los equipos que se enfrentan (equipos)"
      ]
    },
    {
      "cell_type": "code",
      "execution_count": 17,
      "metadata": {
        "id": "Dae9JDj-2K05"
      },
      "outputs": [],
      "source": [
        "# Creacion de un DF con las columnas:\n",
        "#    - Numero generado por el código ASCII de las clases de los equipos  (cat_num)\n",
        "#    - Clase del partido (categoria)\n",
        "#    - Nombre de los equipos que se enfrentan (equipos)\n",
        "\n",
        "# Cada fila contiene los datos de un enfrentamiento\n",
        "\n",
        "def crear_DF_jornada(df_original):\n",
        "  df_jornada = pd.DataFrame(columns=('cat_num','categoria','equipos'))          # 1\n",
        "  \n",
        "  for i in range(0,len(df_original),2):                                         # n/2\n",
        "    # obtener valor de la categoria de cada equipo (A, B o C):\n",
        "    cat_1 = df_original.iloc(axis=0)[i]['categoria']                            \n",
        "    cat_2 = df_original.iloc(axis=0)[i+1]['categoria']\n",
        "\n",
        "    if cat_1 < cat_2:\n",
        "      cp = cat_1 + cat_2 # Categoria del partido\n",
        "      cn = int(str(ord(cat_1)) + str(ord(cat_2)))# Categoria numerica\n",
        "      nom = df_original.iloc(axis=0)[i]['nombre'] + '  - vs -  '+ df_original.iloc(axis=0)[i+1]['nombre']# nombre de equipos\n",
        "    \n",
        "    else:\n",
        "      cp = cat_2 + cat_1 # Categoria del partido\n",
        "      cn = int(str(ord(cat_2)) + str(ord(cat_1)))# Categoria numerica\n",
        "      nom = df_original.iloc(axis=0)[i+1]['nombre'] + '  - vs -  '+ df_original.iloc(axis=0)[i]['nombre']\n",
        "  \n",
        "    # Asignamos fila al DF (enfrentamiento entre dos equipos)\n",
        "    df_jornada.loc[len(df_jornada)]=[cn,cp,nom]\n",
        "    \n",
        "  return df_jornada"
      ]
    },
    {
      "cell_type": "code",
      "execution_count": 18,
      "metadata": {
        "id": "-l5pKMFw6V4H"
      },
      "outputs": [],
      "source": [
        "# obtener un DF con los partidos de forma legible\n",
        "df_jornada = crear_DF_jornada(jornada_aleatoria)"
      ]
    },
    {
      "cell_type": "code",
      "execution_count": 19,
      "metadata": {
        "colab": {
          "base_uri": "https://localhost:8080/",
          "height": 362
        },
        "id": "6ueubKFq4Kwh",
        "outputId": "bc6daee6-1d04-42e1-fd69-1fe9fd5095c5"
      },
      "outputs": [
        {
          "output_type": "execute_result",
          "data": {
            "text/plain": [
              "  cat_num categoria                              equipos\n",
              "0    6767        CC          Osasuna  - vs -  CD Leganés\n",
              "1    6566        AB       Real Madrid  - vs -  Villareal\n",
              "2    6667        BC            Atlético  - vs -  Menorca\n",
              "3    6667        BC        Valencia CF  - vs -  Mallorca\n",
              "4    6566        AB        FC Barcelona  - vs -  Sevilla\n",
              "5    6667        BC       RCD Espanyol  - vs -  SD Eibar\n",
              "6    6566        AB    Real Sociedad  - vs -  Real Betis\n",
              "7    6667        BC  Levante UD  - vs -  Real Valladolid\n",
              "8    6666        BB      RC Celta  - vs -  Athletic Club\n",
              "9    6666        BB         D. Alavés  - vs -  Getafe CF"
            ],
            "text/html": [
              "\n",
              "  <div id=\"df-d1af1a85-c1a8-4c36-9e7c-b9b31c82dea4\">\n",
              "    <div class=\"colab-df-container\">\n",
              "      <div>\n",
              "<style scoped>\n",
              "    .dataframe tbody tr th:only-of-type {\n",
              "        vertical-align: middle;\n",
              "    }\n",
              "\n",
              "    .dataframe tbody tr th {\n",
              "        vertical-align: top;\n",
              "    }\n",
              "\n",
              "    .dataframe thead th {\n",
              "        text-align: right;\n",
              "    }\n",
              "</style>\n",
              "<table border=\"1\" class=\"dataframe\">\n",
              "  <thead>\n",
              "    <tr style=\"text-align: right;\">\n",
              "      <th></th>\n",
              "      <th>cat_num</th>\n",
              "      <th>categoria</th>\n",
              "      <th>equipos</th>\n",
              "    </tr>\n",
              "  </thead>\n",
              "  <tbody>\n",
              "    <tr>\n",
              "      <th>0</th>\n",
              "      <td>6767</td>\n",
              "      <td>CC</td>\n",
              "      <td>Osasuna  - vs -  CD Leganés</td>\n",
              "    </tr>\n",
              "    <tr>\n",
              "      <th>1</th>\n",
              "      <td>6566</td>\n",
              "      <td>AB</td>\n",
              "      <td>Real Madrid  - vs -  Villareal</td>\n",
              "    </tr>\n",
              "    <tr>\n",
              "      <th>2</th>\n",
              "      <td>6667</td>\n",
              "      <td>BC</td>\n",
              "      <td>Atlético  - vs -  Menorca</td>\n",
              "    </tr>\n",
              "    <tr>\n",
              "      <th>3</th>\n",
              "      <td>6667</td>\n",
              "      <td>BC</td>\n",
              "      <td>Valencia CF  - vs -  Mallorca</td>\n",
              "    </tr>\n",
              "    <tr>\n",
              "      <th>4</th>\n",
              "      <td>6566</td>\n",
              "      <td>AB</td>\n",
              "      <td>FC Barcelona  - vs -  Sevilla</td>\n",
              "    </tr>\n",
              "    <tr>\n",
              "      <th>5</th>\n",
              "      <td>6667</td>\n",
              "      <td>BC</td>\n",
              "      <td>RCD Espanyol  - vs -  SD Eibar</td>\n",
              "    </tr>\n",
              "    <tr>\n",
              "      <th>6</th>\n",
              "      <td>6566</td>\n",
              "      <td>AB</td>\n",
              "      <td>Real Sociedad  - vs -  Real Betis</td>\n",
              "    </tr>\n",
              "    <tr>\n",
              "      <th>7</th>\n",
              "      <td>6667</td>\n",
              "      <td>BC</td>\n",
              "      <td>Levante UD  - vs -  Real Valladolid</td>\n",
              "    </tr>\n",
              "    <tr>\n",
              "      <th>8</th>\n",
              "      <td>6666</td>\n",
              "      <td>BB</td>\n",
              "      <td>RC Celta  - vs -  Athletic Club</td>\n",
              "    </tr>\n",
              "    <tr>\n",
              "      <th>9</th>\n",
              "      <td>6666</td>\n",
              "      <td>BB</td>\n",
              "      <td>D. Alavés  - vs -  Getafe CF</td>\n",
              "    </tr>\n",
              "  </tbody>\n",
              "</table>\n",
              "</div>\n",
              "      <button class=\"colab-df-convert\" onclick=\"convertToInteractive('df-d1af1a85-c1a8-4c36-9e7c-b9b31c82dea4')\"\n",
              "              title=\"Convert this dataframe to an interactive table.\"\n",
              "              style=\"display:none;\">\n",
              "        \n",
              "  <svg xmlns=\"http://www.w3.org/2000/svg\" height=\"24px\"viewBox=\"0 0 24 24\"\n",
              "       width=\"24px\">\n",
              "    <path d=\"M0 0h24v24H0V0z\" fill=\"none\"/>\n",
              "    <path d=\"M18.56 5.44l.94 2.06.94-2.06 2.06-.94-2.06-.94-.94-2.06-.94 2.06-2.06.94zm-11 1L8.5 8.5l.94-2.06 2.06-.94-2.06-.94L8.5 2.5l-.94 2.06-2.06.94zm10 10l.94 2.06.94-2.06 2.06-.94-2.06-.94-.94-2.06-.94 2.06-2.06.94z\"/><path d=\"M17.41 7.96l-1.37-1.37c-.4-.4-.92-.59-1.43-.59-.52 0-1.04.2-1.43.59L10.3 9.45l-7.72 7.72c-.78.78-.78 2.05 0 2.83L4 21.41c.39.39.9.59 1.41.59.51 0 1.02-.2 1.41-.59l7.78-7.78 2.81-2.81c.8-.78.8-2.07 0-2.86zM5.41 20L4 18.59l7.72-7.72 1.47 1.35L5.41 20z\"/>\n",
              "  </svg>\n",
              "      </button>\n",
              "      \n",
              "  <style>\n",
              "    .colab-df-container {\n",
              "      display:flex;\n",
              "      flex-wrap:wrap;\n",
              "      gap: 12px;\n",
              "    }\n",
              "\n",
              "    .colab-df-convert {\n",
              "      background-color: #E8F0FE;\n",
              "      border: none;\n",
              "      border-radius: 50%;\n",
              "      cursor: pointer;\n",
              "      display: none;\n",
              "      fill: #1967D2;\n",
              "      height: 32px;\n",
              "      padding: 0 0 0 0;\n",
              "      width: 32px;\n",
              "    }\n",
              "\n",
              "    .colab-df-convert:hover {\n",
              "      background-color: #E2EBFA;\n",
              "      box-shadow: 0px 1px 2px rgba(60, 64, 67, 0.3), 0px 1px 3px 1px rgba(60, 64, 67, 0.15);\n",
              "      fill: #174EA6;\n",
              "    }\n",
              "\n",
              "    [theme=dark] .colab-df-convert {\n",
              "      background-color: #3B4455;\n",
              "      fill: #D2E3FC;\n",
              "    }\n",
              "\n",
              "    [theme=dark] .colab-df-convert:hover {\n",
              "      background-color: #434B5C;\n",
              "      box-shadow: 0px 1px 3px 1px rgba(0, 0, 0, 0.15);\n",
              "      filter: drop-shadow(0px 1px 2px rgba(0, 0, 0, 0.3));\n",
              "      fill: #FFFFFF;\n",
              "    }\n",
              "  </style>\n",
              "\n",
              "      <script>\n",
              "        const buttonEl =\n",
              "          document.querySelector('#df-d1af1a85-c1a8-4c36-9e7c-b9b31c82dea4 button.colab-df-convert');\n",
              "        buttonEl.style.display =\n",
              "          google.colab.kernel.accessAllowed ? 'block' : 'none';\n",
              "\n",
              "        async function convertToInteractive(key) {\n",
              "          const element = document.querySelector('#df-d1af1a85-c1a8-4c36-9e7c-b9b31c82dea4');\n",
              "          const dataTable =\n",
              "            await google.colab.kernel.invokeFunction('convertToInteractive',\n",
              "                                                     [key], {});\n",
              "          if (!dataTable) return;\n",
              "\n",
              "          const docLinkHtml = 'Like what you see? Visit the ' +\n",
              "            '<a target=\"_blank\" href=https://colab.research.google.com/notebooks/data_table.ipynb>data table notebook</a>'\n",
              "            + ' to learn more about interactive tables.';\n",
              "          element.innerHTML = '';\n",
              "          dataTable['output_type'] = 'display_data';\n",
              "          await google.colab.output.renderOutput(dataTable, element);\n",
              "          const docLink = document.createElement('div');\n",
              "          docLink.innerHTML = docLinkHtml;\n",
              "          element.appendChild(docLink);\n",
              "        }\n",
              "      </script>\n",
              "    </div>\n",
              "  </div>\n",
              "  "
            ]
          },
          "metadata": {},
          "execution_count": 19
        }
      ],
      "source": [
        "df_jornada # mostrar resultados"
      ]
    },
    {
      "cell_type": "markdown",
      "metadata": {
        "id": "xlm3zjOLXmRs"
      },
      "source": [
        "#### 2.3.2.1. Función de unión"
      ]
    },
    {
      "cell_type": "markdown",
      "metadata": {
        "id": "PQXqzuZQY0Dc"
      },
      "source": [
        "Para la obtención de la jornada lista para calcular la audiencia máxima mediante nuestro algoritmo:"
      ]
    },
    {
      "cell_type": "code",
      "execution_count": 20,
      "metadata": {
        "id": "JltdvbngZCLk"
      },
      "outputs": [],
      "source": [
        "def obterner_enfrentamientos_jornada_aleatorios(equipos_liga):\n",
        "  # Obtener jornada aleatoria a partir de los equipos del torneo\n",
        "  jornada_aleatoria = crear_jornada_aleatoria(equipos_liga)# Obtener jornada aleatoria\n",
        "  \n",
        "  # obtener un DF con los partidos de forma legible (Formato de nuestra funcion)\n",
        "  return crear_DF_jornada(jornada_aleatoria) "
      ]
    },
    {
      "cell_type": "markdown",
      "metadata": {
        "id": "MYK7Dsmh3c4d"
      },
      "source": [
        "# APARTADO 3 (*)"
      ]
    },
    {
      "cell_type": "markdown",
      "metadata": {
        "id": "7Z9U2W7bi-XS"
      },
      "source": [
        "Según el modelo para el espacio de soluciones<br>\n",
        "(*)¿Cual es la función objetivo?\n",
        "\n",
        "(*)¿Es un problema de maximización o minimización?"
      ]
    },
    {
      "cell_type": "markdown",
      "metadata": {
        "id": "hBalWLM7j1_d"
      },
      "source": [
        "**Respuesta**"
      ]
    },
    {
      "cell_type": "markdown",
      "metadata": {
        "id": "7nkv0N-5jTKA"
      },
      "source": [
        "La función objetivo es del tipo:\n",
        "\n",
        "> f(x1, ..., xn) = c1·x1 + ... + cn·xn\n",
        "\n",
        "donde:\n",
        "\n",
        "- x1, .., xn = son las audiencias de cada partido\n",
        "- c1, .., cn = son los coeficientes te reducción de audienzas (en función de los horarios)\n",
        "\n",
        "Se trata de un problema de maximización, donde debemos obtener la máxima audiencia para la jornada. "
      ]
    },
    {
      "cell_type": "markdown",
      "metadata": {
        "id": "1I0hwqc13hHD"
      },
      "source": [
        "# APARTADO 4(*)"
      ]
    },
    {
      "cell_type": "markdown",
      "metadata": {
        "id": "rlnTYgY1j6I2"
      },
      "source": [
        "Diseña un algoritmo para resolver el problema por fuerza bruta"
      ]
    },
    {
      "cell_type": "markdown",
      "metadata": {
        "id": "70rDgxYXkC8r"
      },
      "source": [
        "**Respuesta**"
      ]
    },
    {
      "cell_type": "markdown",
      "metadata": {
        "id": "VGW3DIlK8tqi"
      },
      "source": [
        "El peor caso que hemos estudiado de ordenación, es el de orden n². Por ello para el metodo por fuerza bruta he seleccionado el algoritmo de ordenación por selección, pues tiene una complejidad cuadrática O (n) = n² en todos los casos, porque siempre va a realizar las mismas operaciones."
      ]
    },
    {
      "cell_type": "markdown",
      "metadata": {
        "id": "Xl803OdX8zfu"
      },
      "source": [
        "Si hay que ordenar de menor a mayor el algoritmo, busca el menor número de todos dentro de la lista. Una vez localizado, lo pone en primer lugar intercambiándolo con el que allí esté. En la siguiente iteración, realiza la misma operación, pero ahora considerando la sublista a partir del segundo valor, y así sucesivamente hasta completar todos los elementos de la lista."
      ]
    },
    {
      "cell_type": "markdown",
      "metadata": {
        "id": "Ni3GnKOXHgjF"
      },
      "source": [
        "## 4.1. Ordenación por selección de menor a mayor"
      ]
    },
    {
      "cell_type": "markdown",
      "metadata": {
        "id": "WZ06W_35KpTZ"
      },
      "source": [
        "Una vez tenemos los datos de los datos de la jornada estructurados, debemos de ordanar los datos en base a la columna 'cat_num'. He creado una función que utiliza implementa el algoritmo de *ordenación por selección*  (donde la ordenación se realiza de menor a mayor) para DF, y ordena las filas en función de los datos de una columna.\n",
        "\n",
        "La función recibe el DF a ordenar y la columna sobre la que queremos ordenar:"
      ]
    },
    {
      "cell_type": "code",
      "execution_count": 21,
      "metadata": {
        "id": "pCFcLyhp9hcX"
      },
      "outputs": [],
      "source": [
        "# ordenacion ascendente (menor a mayor)\n",
        "def ordenacion_seleccion(df,col_ordenar):\n",
        "  \n",
        "  df_ordenado = df.copy() # para conservar df sin ordenar\n",
        "  \n",
        "  # De esta forma no tendremos que estar cambiando una fila por otra df. A costa\n",
        "  # de memoria, ganamos en simplicidad del codigo\n",
        "  for i in range(len(df)):\n",
        "    posicion_min = i # Almacenaremos el indice del menor valor\n",
        "    \n",
        "    for j in range(i+1,len(df)): # Recorremos el resto de la lista para ver cual es el menor de los que quedan\n",
        "      # El valor en 'posicion_min' es mayor que en 'j' --> Si : valor en j menor que en 'posicion_min'\n",
        "          \n",
        "      if (df_ordenado.iloc(axis=0)[posicion_min][col_ordenar] > df_ordenado.iloc(axis=0)[j][col_ordenar]):\n",
        "        posicion_min = j # el valor menor pasa a ser el que hay en 'j', almaceno incice en 'posicion_min'\n",
        "\n",
        "    # valor actual en la ultima posicion de la sublista ordenada (a excepcion del indice 'i'):\n",
        "    aux = df_ordenado.iloc(axis=0)[i].copy()\n",
        "    # si no pones  'copy' aux se mosifica en la siguiente intruccion, y por lo tanto \n",
        "    # estaria dos veces el valor de df_ordenado.iloc(axis=0)[posicion_min]\n",
        "    \n",
        "    # Valor que debe de ir en 'i' (menor que i+n y menor que i-n):\n",
        "    df_ordenado.loc[i] = df_ordenado.iloc(axis=0)[posicion_min]\n",
        "    # intarcambiamos, el valor original en 'i' pasa donde estaba el menor:\n",
        "    df_ordenado.loc[posicion_min] = aux\n",
        "\n",
        "  return df_ordenado    \n",
        "      "
      ]
    },
    {
      "cell_type": "code",
      "execution_count": 22,
      "metadata": {
        "id": "YYZ8NlzYLrrF"
      },
      "outputs": [],
      "source": [
        "partidos_ordenados = ordenacion_seleccion(df_jornada,'cat_num')"
      ]
    },
    {
      "cell_type": "code",
      "execution_count": 23,
      "metadata": {
        "colab": {
          "base_uri": "https://localhost:8080/",
          "height": 362
        },
        "id": "vRQYbY7pssa8",
        "outputId": "eae4880f-f98f-4974-e59d-78a25e8d6027"
      },
      "outputs": [
        {
          "output_type": "execute_result",
          "data": {
            "text/plain": [
              "  cat_num categoria                              equipos\n",
              "0    6566        AB       Real Madrid  - vs -  Villareal\n",
              "1    6566        AB        FC Barcelona  - vs -  Sevilla\n",
              "2    6566        AB    Real Sociedad  - vs -  Real Betis\n",
              "3    6666        BB      RC Celta  - vs -  Athletic Club\n",
              "4    6666        BB         D. Alavés  - vs -  Getafe CF\n",
              "5    6667        BC       RCD Espanyol  - vs -  SD Eibar\n",
              "6    6667        BC            Atlético  - vs -  Menorca\n",
              "7    6667        BC  Levante UD  - vs -  Real Valladolid\n",
              "8    6667        BC        Valencia CF  - vs -  Mallorca\n",
              "9    6767        CC          Osasuna  - vs -  CD Leganés"
            ],
            "text/html": [
              "\n",
              "  <div id=\"df-3382a366-f7ba-4b65-b3da-691daeae7d30\">\n",
              "    <div class=\"colab-df-container\">\n",
              "      <div>\n",
              "<style scoped>\n",
              "    .dataframe tbody tr th:only-of-type {\n",
              "        vertical-align: middle;\n",
              "    }\n",
              "\n",
              "    .dataframe tbody tr th {\n",
              "        vertical-align: top;\n",
              "    }\n",
              "\n",
              "    .dataframe thead th {\n",
              "        text-align: right;\n",
              "    }\n",
              "</style>\n",
              "<table border=\"1\" class=\"dataframe\">\n",
              "  <thead>\n",
              "    <tr style=\"text-align: right;\">\n",
              "      <th></th>\n",
              "      <th>cat_num</th>\n",
              "      <th>categoria</th>\n",
              "      <th>equipos</th>\n",
              "    </tr>\n",
              "  </thead>\n",
              "  <tbody>\n",
              "    <tr>\n",
              "      <th>0</th>\n",
              "      <td>6566</td>\n",
              "      <td>AB</td>\n",
              "      <td>Real Madrid  - vs -  Villareal</td>\n",
              "    </tr>\n",
              "    <tr>\n",
              "      <th>1</th>\n",
              "      <td>6566</td>\n",
              "      <td>AB</td>\n",
              "      <td>FC Barcelona  - vs -  Sevilla</td>\n",
              "    </tr>\n",
              "    <tr>\n",
              "      <th>2</th>\n",
              "      <td>6566</td>\n",
              "      <td>AB</td>\n",
              "      <td>Real Sociedad  - vs -  Real Betis</td>\n",
              "    </tr>\n",
              "    <tr>\n",
              "      <th>3</th>\n",
              "      <td>6666</td>\n",
              "      <td>BB</td>\n",
              "      <td>RC Celta  - vs -  Athletic Club</td>\n",
              "    </tr>\n",
              "    <tr>\n",
              "      <th>4</th>\n",
              "      <td>6666</td>\n",
              "      <td>BB</td>\n",
              "      <td>D. Alavés  - vs -  Getafe CF</td>\n",
              "    </tr>\n",
              "    <tr>\n",
              "      <th>5</th>\n",
              "      <td>6667</td>\n",
              "      <td>BC</td>\n",
              "      <td>RCD Espanyol  - vs -  SD Eibar</td>\n",
              "    </tr>\n",
              "    <tr>\n",
              "      <th>6</th>\n",
              "      <td>6667</td>\n",
              "      <td>BC</td>\n",
              "      <td>Atlético  - vs -  Menorca</td>\n",
              "    </tr>\n",
              "    <tr>\n",
              "      <th>7</th>\n",
              "      <td>6667</td>\n",
              "      <td>BC</td>\n",
              "      <td>Levante UD  - vs -  Real Valladolid</td>\n",
              "    </tr>\n",
              "    <tr>\n",
              "      <th>8</th>\n",
              "      <td>6667</td>\n",
              "      <td>BC</td>\n",
              "      <td>Valencia CF  - vs -  Mallorca</td>\n",
              "    </tr>\n",
              "    <tr>\n",
              "      <th>9</th>\n",
              "      <td>6767</td>\n",
              "      <td>CC</td>\n",
              "      <td>Osasuna  - vs -  CD Leganés</td>\n",
              "    </tr>\n",
              "  </tbody>\n",
              "</table>\n",
              "</div>\n",
              "      <button class=\"colab-df-convert\" onclick=\"convertToInteractive('df-3382a366-f7ba-4b65-b3da-691daeae7d30')\"\n",
              "              title=\"Convert this dataframe to an interactive table.\"\n",
              "              style=\"display:none;\">\n",
              "        \n",
              "  <svg xmlns=\"http://www.w3.org/2000/svg\" height=\"24px\"viewBox=\"0 0 24 24\"\n",
              "       width=\"24px\">\n",
              "    <path d=\"M0 0h24v24H0V0z\" fill=\"none\"/>\n",
              "    <path d=\"M18.56 5.44l.94 2.06.94-2.06 2.06-.94-2.06-.94-.94-2.06-.94 2.06-2.06.94zm-11 1L8.5 8.5l.94-2.06 2.06-.94-2.06-.94L8.5 2.5l-.94 2.06-2.06.94zm10 10l.94 2.06.94-2.06 2.06-.94-2.06-.94-.94-2.06-.94 2.06-2.06.94z\"/><path d=\"M17.41 7.96l-1.37-1.37c-.4-.4-.92-.59-1.43-.59-.52 0-1.04.2-1.43.59L10.3 9.45l-7.72 7.72c-.78.78-.78 2.05 0 2.83L4 21.41c.39.39.9.59 1.41.59.51 0 1.02-.2 1.41-.59l7.78-7.78 2.81-2.81c.8-.78.8-2.07 0-2.86zM5.41 20L4 18.59l7.72-7.72 1.47 1.35L5.41 20z\"/>\n",
              "  </svg>\n",
              "      </button>\n",
              "      \n",
              "  <style>\n",
              "    .colab-df-container {\n",
              "      display:flex;\n",
              "      flex-wrap:wrap;\n",
              "      gap: 12px;\n",
              "    }\n",
              "\n",
              "    .colab-df-convert {\n",
              "      background-color: #E8F0FE;\n",
              "      border: none;\n",
              "      border-radius: 50%;\n",
              "      cursor: pointer;\n",
              "      display: none;\n",
              "      fill: #1967D2;\n",
              "      height: 32px;\n",
              "      padding: 0 0 0 0;\n",
              "      width: 32px;\n",
              "    }\n",
              "\n",
              "    .colab-df-convert:hover {\n",
              "      background-color: #E2EBFA;\n",
              "      box-shadow: 0px 1px 2px rgba(60, 64, 67, 0.3), 0px 1px 3px 1px rgba(60, 64, 67, 0.15);\n",
              "      fill: #174EA6;\n",
              "    }\n",
              "\n",
              "    [theme=dark] .colab-df-convert {\n",
              "      background-color: #3B4455;\n",
              "      fill: #D2E3FC;\n",
              "    }\n",
              "\n",
              "    [theme=dark] .colab-df-convert:hover {\n",
              "      background-color: #434B5C;\n",
              "      box-shadow: 0px 1px 3px 1px rgba(0, 0, 0, 0.15);\n",
              "      filter: drop-shadow(0px 1px 2px rgba(0, 0, 0, 0.3));\n",
              "      fill: #FFFFFF;\n",
              "    }\n",
              "  </style>\n",
              "\n",
              "      <script>\n",
              "        const buttonEl =\n",
              "          document.querySelector('#df-3382a366-f7ba-4b65-b3da-691daeae7d30 button.colab-df-convert');\n",
              "        buttonEl.style.display =\n",
              "          google.colab.kernel.accessAllowed ? 'block' : 'none';\n",
              "\n",
              "        async function convertToInteractive(key) {\n",
              "          const element = document.querySelector('#df-3382a366-f7ba-4b65-b3da-691daeae7d30');\n",
              "          const dataTable =\n",
              "            await google.colab.kernel.invokeFunction('convertToInteractive',\n",
              "                                                     [key], {});\n",
              "          if (!dataTable) return;\n",
              "\n",
              "          const docLinkHtml = 'Like what you see? Visit the ' +\n",
              "            '<a target=\"_blank\" href=https://colab.research.google.com/notebooks/data_table.ipynb>data table notebook</a>'\n",
              "            + ' to learn more about interactive tables.';\n",
              "          element.innerHTML = '';\n",
              "          dataTable['output_type'] = 'display_data';\n",
              "          await google.colab.output.renderOutput(dataTable, element);\n",
              "          const docLink = document.createElement('div');\n",
              "          docLink.innerHTML = docLinkHtml;\n",
              "          element.appendChild(docLink);\n",
              "        }\n",
              "      </script>\n",
              "    </div>\n",
              "  </div>\n",
              "  "
            ]
          },
          "metadata": {},
          "execution_count": 23
        }
      ],
      "source": [
        "partidos_ordenados"
      ]
    },
    {
      "cell_type": "markdown",
      "metadata": {
        "id": "e3131_V4Hwjl"
      },
      "source": [
        "## 4.2. Ordenación por selección de mayor a menor"
      ]
    },
    {
      "cell_type": "markdown",
      "metadata": {
        "id": "HRwxP3tsLCrj"
      },
      "source": [
        "Para poder asignar los coeficientes a la lista de partidos ordenados de mayor a menor audiencia (partidos_ordenados) calculada en el apartado anterior, necesitamos ordenar de mayor a menor los coeficientes de reduccion de las audiencias.\n",
        "\n",
        "Si los coeficientes son los mismos para todas las jornadas (sin influir mes, dia, ..) solo necesitamos ordenarlos una vez. Realmente podríamos usar la función sort de pandas para ordenar la lista, pero como la implementación es la misma que la anterior, creamos la función quick sort que ordena de mayor a menor.\n",
        "\n",
        "La función implementa el algoritmo de *ordenación por selección* (ordenación de mayor a menor), y  recibe el DF a ordenar y la columna sobre la que queremos ordenar:"
      ]
    },
    {
      "cell_type": "code",
      "execution_count": 24,
      "metadata": {
        "id": "CnXpkNHaGeWi"
      },
      "outputs": [],
      "source": [
        "# ordenacion descendente (mayor a menor)\n",
        "def ordenacion_seleccion_mayor(df,col_ordenar):\n",
        "  \n",
        "  df_ordenado = df.copy() # para conservar df sin ordenar\n",
        "  \n",
        "  # De esta forma no tendremos que estar cambiando una fila por otra df. A costa\n",
        "  # de memoria, ganamos en simplicidad del codigo\n",
        "  for i in range(len(df)):\n",
        "    posicion_max = i # Almacenaremos el indice del mayor valor\n",
        "      \n",
        "    for j in range(i+1,len(df)): # Recorremos el resto de la lista para ver cual es el mayor de los que quedan\n",
        "      # El valor en 'posicion_max' es mayor que en 'j' --> Si : valor en j mayor que en 'posicion_max'\n",
        "          \n",
        "      if (df_ordenado.iloc(axis=0)[posicion_max][col_ordenar] <  df_ordenado.iloc(axis=0)[j][col_ordenar]):\n",
        "        posicion_max = j # el valor mayor pasa a ser el que hay en 'j', almaceno incice en 'posicion_max'\n",
        "          \n",
        "    # valor actual en la ultima posicion de la sublista ordenada (a excepcion del indice 'i'):\n",
        "    aux = df_ordenado.iloc(axis=0)[i].copy()\n",
        "    # si no pones  'copy' aux se mosifica en la siguiente intruccion, y por lo tanto \n",
        "    # estaria dos veces el valor de df_ordenado.iloc(axis=0)[posicion_min]\n",
        "    \n",
        "    # Valor que debe de ir en 'i' (mayor que i+n y mayor que i-n):\n",
        "    df_ordenado.loc[i] = df_ordenado.iloc(axis=0)[posicion_max]\n",
        "    # intarcambiamos, el valor original en 'i' pasa donde estaba el mayor:\n",
        "    df_ordenado.loc[posicion_max] = aux\n",
        "      \n",
        "  return df_ordenado    \n",
        "      "
      ]
    },
    {
      "cell_type": "code",
      "execution_count": 25,
      "metadata": {
        "id": "k1FpvQJQCixR"
      },
      "outputs": [],
      "source": [
        "cr_audiencias_ordenado = ordenacion_seleccion_mayor(cr_audiencias, 'cr')"
      ]
    },
    {
      "cell_type": "code",
      "execution_count": 26,
      "metadata": {
        "colab": {
          "base_uri": "https://localhost:8080/",
          "height": 362
        },
        "id": "pDA-rg3Gj5Lz",
        "outputId": "694773c3-2904-42a7-e174-22bf66f79bf2"
      },
      "outputs": [
        {
          "output_type": "execute_result",
          "data": {
            "text/plain": [
              "           dia    cr\n",
              "0   sabado_20h  1.00\n",
              "1  domingo_20h  1.00\n",
              "2  domingo_18h  0.85\n",
              "3   sabado_18h  0.80\n",
              "4  domingo_16h  0.75\n",
              "5   sabado_16h  0.70\n",
              "6   sabado_12h  0.55\n",
              "7  domingo_12h  0.45\n",
              "8  viernes_20h  0.40\n",
              "9    lunes_20h  0.40"
            ],
            "text/html": [
              "\n",
              "  <div id=\"df-1828b793-a18f-4eca-b0a4-099e929e5db3\">\n",
              "    <div class=\"colab-df-container\">\n",
              "      <div>\n",
              "<style scoped>\n",
              "    .dataframe tbody tr th:only-of-type {\n",
              "        vertical-align: middle;\n",
              "    }\n",
              "\n",
              "    .dataframe tbody tr th {\n",
              "        vertical-align: top;\n",
              "    }\n",
              "\n",
              "    .dataframe thead th {\n",
              "        text-align: right;\n",
              "    }\n",
              "</style>\n",
              "<table border=\"1\" class=\"dataframe\">\n",
              "  <thead>\n",
              "    <tr style=\"text-align: right;\">\n",
              "      <th></th>\n",
              "      <th>dia</th>\n",
              "      <th>cr</th>\n",
              "    </tr>\n",
              "  </thead>\n",
              "  <tbody>\n",
              "    <tr>\n",
              "      <th>0</th>\n",
              "      <td>sabado_20h</td>\n",
              "      <td>1.00</td>\n",
              "    </tr>\n",
              "    <tr>\n",
              "      <th>1</th>\n",
              "      <td>domingo_20h</td>\n",
              "      <td>1.00</td>\n",
              "    </tr>\n",
              "    <tr>\n",
              "      <th>2</th>\n",
              "      <td>domingo_18h</td>\n",
              "      <td>0.85</td>\n",
              "    </tr>\n",
              "    <tr>\n",
              "      <th>3</th>\n",
              "      <td>sabado_18h</td>\n",
              "      <td>0.80</td>\n",
              "    </tr>\n",
              "    <tr>\n",
              "      <th>4</th>\n",
              "      <td>domingo_16h</td>\n",
              "      <td>0.75</td>\n",
              "    </tr>\n",
              "    <tr>\n",
              "      <th>5</th>\n",
              "      <td>sabado_16h</td>\n",
              "      <td>0.70</td>\n",
              "    </tr>\n",
              "    <tr>\n",
              "      <th>6</th>\n",
              "      <td>sabado_12h</td>\n",
              "      <td>0.55</td>\n",
              "    </tr>\n",
              "    <tr>\n",
              "      <th>7</th>\n",
              "      <td>domingo_12h</td>\n",
              "      <td>0.45</td>\n",
              "    </tr>\n",
              "    <tr>\n",
              "      <th>8</th>\n",
              "      <td>viernes_20h</td>\n",
              "      <td>0.40</td>\n",
              "    </tr>\n",
              "    <tr>\n",
              "      <th>9</th>\n",
              "      <td>lunes_20h</td>\n",
              "      <td>0.40</td>\n",
              "    </tr>\n",
              "  </tbody>\n",
              "</table>\n",
              "</div>\n",
              "      <button class=\"colab-df-convert\" onclick=\"convertToInteractive('df-1828b793-a18f-4eca-b0a4-099e929e5db3')\"\n",
              "              title=\"Convert this dataframe to an interactive table.\"\n",
              "              style=\"display:none;\">\n",
              "        \n",
              "  <svg xmlns=\"http://www.w3.org/2000/svg\" height=\"24px\"viewBox=\"0 0 24 24\"\n",
              "       width=\"24px\">\n",
              "    <path d=\"M0 0h24v24H0V0z\" fill=\"none\"/>\n",
              "    <path d=\"M18.56 5.44l.94 2.06.94-2.06 2.06-.94-2.06-.94-.94-2.06-.94 2.06-2.06.94zm-11 1L8.5 8.5l.94-2.06 2.06-.94-2.06-.94L8.5 2.5l-.94 2.06-2.06.94zm10 10l.94 2.06.94-2.06 2.06-.94-2.06-.94-.94-2.06-.94 2.06-2.06.94z\"/><path d=\"M17.41 7.96l-1.37-1.37c-.4-.4-.92-.59-1.43-.59-.52 0-1.04.2-1.43.59L10.3 9.45l-7.72 7.72c-.78.78-.78 2.05 0 2.83L4 21.41c.39.39.9.59 1.41.59.51 0 1.02-.2 1.41-.59l7.78-7.78 2.81-2.81c.8-.78.8-2.07 0-2.86zM5.41 20L4 18.59l7.72-7.72 1.47 1.35L5.41 20z\"/>\n",
              "  </svg>\n",
              "      </button>\n",
              "      \n",
              "  <style>\n",
              "    .colab-df-container {\n",
              "      display:flex;\n",
              "      flex-wrap:wrap;\n",
              "      gap: 12px;\n",
              "    }\n",
              "\n",
              "    .colab-df-convert {\n",
              "      background-color: #E8F0FE;\n",
              "      border: none;\n",
              "      border-radius: 50%;\n",
              "      cursor: pointer;\n",
              "      display: none;\n",
              "      fill: #1967D2;\n",
              "      height: 32px;\n",
              "      padding: 0 0 0 0;\n",
              "      width: 32px;\n",
              "    }\n",
              "\n",
              "    .colab-df-convert:hover {\n",
              "      background-color: #E2EBFA;\n",
              "      box-shadow: 0px 1px 2px rgba(60, 64, 67, 0.3), 0px 1px 3px 1px rgba(60, 64, 67, 0.15);\n",
              "      fill: #174EA6;\n",
              "    }\n",
              "\n",
              "    [theme=dark] .colab-df-convert {\n",
              "      background-color: #3B4455;\n",
              "      fill: #D2E3FC;\n",
              "    }\n",
              "\n",
              "    [theme=dark] .colab-df-convert:hover {\n",
              "      background-color: #434B5C;\n",
              "      box-shadow: 0px 1px 3px 1px rgba(0, 0, 0, 0.15);\n",
              "      filter: drop-shadow(0px 1px 2px rgba(0, 0, 0, 0.3));\n",
              "      fill: #FFFFFF;\n",
              "    }\n",
              "  </style>\n",
              "\n",
              "      <script>\n",
              "        const buttonEl =\n",
              "          document.querySelector('#df-1828b793-a18f-4eca-b0a4-099e929e5db3 button.colab-df-convert');\n",
              "        buttonEl.style.display =\n",
              "          google.colab.kernel.accessAllowed ? 'block' : 'none';\n",
              "\n",
              "        async function convertToInteractive(key) {\n",
              "          const element = document.querySelector('#df-1828b793-a18f-4eca-b0a4-099e929e5db3');\n",
              "          const dataTable =\n",
              "            await google.colab.kernel.invokeFunction('convertToInteractive',\n",
              "                                                     [key], {});\n",
              "          if (!dataTable) return;\n",
              "\n",
              "          const docLinkHtml = 'Like what you see? Visit the ' +\n",
              "            '<a target=\"_blank\" href=https://colab.research.google.com/notebooks/data_table.ipynb>data table notebook</a>'\n",
              "            + ' to learn more about interactive tables.';\n",
              "          element.innerHTML = '';\n",
              "          dataTable['output_type'] = 'display_data';\n",
              "          await google.colab.output.renderOutput(dataTable, element);\n",
              "          const docLink = document.createElement('div');\n",
              "          docLink.innerHTML = docLinkHtml;\n",
              "          element.appendChild(docLink);\n",
              "        }\n",
              "      </script>\n",
              "    </div>\n",
              "  </div>\n",
              "  "
            ]
          },
          "metadata": {},
          "execution_count": 26
        }
      ],
      "source": [
        "cr_audiencias_ordenado"
      ]
    },
    {
      "cell_type": "markdown",
      "metadata": {
        "id": "bmaqAbiItrDy"
      },
      "source": [
        "## 4.3. Audiencia"
      ]
    },
    {
      "cell_type": "markdown",
      "metadata": {
        "id": "zBYNuyt3trD3"
      },
      "source": [
        "Para unir dos DF's necesitamos que los indices coincidan (o almenos como los quiero unir). Por esta razon cambiamos los índices de *cr_audiencias_ordenado* por los de *partidos_ordenados*: \n",
        "\n",
        "(Este problema se presenta en la ordenación con quick sort, en el caso de la ordenación por selección no debería de haber este problema)"
      ]
    },
    {
      "cell_type": "code",
      "execution_count": 27,
      "metadata": {
        "id": "v4ZtbagJtrD5"
      },
      "outputs": [],
      "source": [
        "cr_audiencias_ordenado.index = partidos_ordenados.index"
      ]
    },
    {
      "cell_type": "markdown",
      "metadata": {
        "id": "Oa2lDCsNtrD9"
      },
      "source": [
        "Añadimos las columnas de dia, y cr para tenerlo asignado a cada partido:"
      ]
    },
    {
      "cell_type": "code",
      "execution_count": 28,
      "metadata": {
        "id": "vNifC4tktrD-"
      },
      "outputs": [],
      "source": [
        "partidos_ordenados[['dia','cr']] = cr_audiencias_ordenado"
      ]
    },
    {
      "cell_type": "code",
      "execution_count": 29,
      "metadata": {
        "colab": {
          "base_uri": "https://localhost:8080/",
          "height": 362
        },
        "id": "h2p8XjSztrEB",
        "outputId": "afd9bb89-e9d3-4813-cd36-71ed37a69efb"
      },
      "outputs": [
        {
          "output_type": "execute_result",
          "data": {
            "text/plain": [
              "  cat_num categoria                              equipos          dia    cr\n",
              "0    6566        AB       Real Madrid  - vs -  Villareal   sabado_20h  1.00\n",
              "1    6566        AB        FC Barcelona  - vs -  Sevilla  domingo_20h  1.00\n",
              "2    6566        AB    Real Sociedad  - vs -  Real Betis  domingo_18h  0.85\n",
              "3    6666        BB      RC Celta  - vs -  Athletic Club   sabado_18h  0.80\n",
              "4    6666        BB         D. Alavés  - vs -  Getafe CF  domingo_16h  0.75\n",
              "5    6667        BC       RCD Espanyol  - vs -  SD Eibar   sabado_16h  0.70\n",
              "6    6667        BC            Atlético  - vs -  Menorca   sabado_12h  0.55\n",
              "7    6667        BC  Levante UD  - vs -  Real Valladolid  domingo_12h  0.45\n",
              "8    6667        BC        Valencia CF  - vs -  Mallorca  viernes_20h  0.40\n",
              "9    6767        CC          Osasuna  - vs -  CD Leganés    lunes_20h  0.40"
            ],
            "text/html": [
              "\n",
              "  <div id=\"df-957a4ce5-e998-4f57-a58c-6c831edadeb3\">\n",
              "    <div class=\"colab-df-container\">\n",
              "      <div>\n",
              "<style scoped>\n",
              "    .dataframe tbody tr th:only-of-type {\n",
              "        vertical-align: middle;\n",
              "    }\n",
              "\n",
              "    .dataframe tbody tr th {\n",
              "        vertical-align: top;\n",
              "    }\n",
              "\n",
              "    .dataframe thead th {\n",
              "        text-align: right;\n",
              "    }\n",
              "</style>\n",
              "<table border=\"1\" class=\"dataframe\">\n",
              "  <thead>\n",
              "    <tr style=\"text-align: right;\">\n",
              "      <th></th>\n",
              "      <th>cat_num</th>\n",
              "      <th>categoria</th>\n",
              "      <th>equipos</th>\n",
              "      <th>dia</th>\n",
              "      <th>cr</th>\n",
              "    </tr>\n",
              "  </thead>\n",
              "  <tbody>\n",
              "    <tr>\n",
              "      <th>0</th>\n",
              "      <td>6566</td>\n",
              "      <td>AB</td>\n",
              "      <td>Real Madrid  - vs -  Villareal</td>\n",
              "      <td>sabado_20h</td>\n",
              "      <td>1.00</td>\n",
              "    </tr>\n",
              "    <tr>\n",
              "      <th>1</th>\n",
              "      <td>6566</td>\n",
              "      <td>AB</td>\n",
              "      <td>FC Barcelona  - vs -  Sevilla</td>\n",
              "      <td>domingo_20h</td>\n",
              "      <td>1.00</td>\n",
              "    </tr>\n",
              "    <tr>\n",
              "      <th>2</th>\n",
              "      <td>6566</td>\n",
              "      <td>AB</td>\n",
              "      <td>Real Sociedad  - vs -  Real Betis</td>\n",
              "      <td>domingo_18h</td>\n",
              "      <td>0.85</td>\n",
              "    </tr>\n",
              "    <tr>\n",
              "      <th>3</th>\n",
              "      <td>6666</td>\n",
              "      <td>BB</td>\n",
              "      <td>RC Celta  - vs -  Athletic Club</td>\n",
              "      <td>sabado_18h</td>\n",
              "      <td>0.80</td>\n",
              "    </tr>\n",
              "    <tr>\n",
              "      <th>4</th>\n",
              "      <td>6666</td>\n",
              "      <td>BB</td>\n",
              "      <td>D. Alavés  - vs -  Getafe CF</td>\n",
              "      <td>domingo_16h</td>\n",
              "      <td>0.75</td>\n",
              "    </tr>\n",
              "    <tr>\n",
              "      <th>5</th>\n",
              "      <td>6667</td>\n",
              "      <td>BC</td>\n",
              "      <td>RCD Espanyol  - vs -  SD Eibar</td>\n",
              "      <td>sabado_16h</td>\n",
              "      <td>0.70</td>\n",
              "    </tr>\n",
              "    <tr>\n",
              "      <th>6</th>\n",
              "      <td>6667</td>\n",
              "      <td>BC</td>\n",
              "      <td>Atlético  - vs -  Menorca</td>\n",
              "      <td>sabado_12h</td>\n",
              "      <td>0.55</td>\n",
              "    </tr>\n",
              "    <tr>\n",
              "      <th>7</th>\n",
              "      <td>6667</td>\n",
              "      <td>BC</td>\n",
              "      <td>Levante UD  - vs -  Real Valladolid</td>\n",
              "      <td>domingo_12h</td>\n",
              "      <td>0.45</td>\n",
              "    </tr>\n",
              "    <tr>\n",
              "      <th>8</th>\n",
              "      <td>6667</td>\n",
              "      <td>BC</td>\n",
              "      <td>Valencia CF  - vs -  Mallorca</td>\n",
              "      <td>viernes_20h</td>\n",
              "      <td>0.40</td>\n",
              "    </tr>\n",
              "    <tr>\n",
              "      <th>9</th>\n",
              "      <td>6767</td>\n",
              "      <td>CC</td>\n",
              "      <td>Osasuna  - vs -  CD Leganés</td>\n",
              "      <td>lunes_20h</td>\n",
              "      <td>0.40</td>\n",
              "    </tr>\n",
              "  </tbody>\n",
              "</table>\n",
              "</div>\n",
              "      <button class=\"colab-df-convert\" onclick=\"convertToInteractive('df-957a4ce5-e998-4f57-a58c-6c831edadeb3')\"\n",
              "              title=\"Convert this dataframe to an interactive table.\"\n",
              "              style=\"display:none;\">\n",
              "        \n",
              "  <svg xmlns=\"http://www.w3.org/2000/svg\" height=\"24px\"viewBox=\"0 0 24 24\"\n",
              "       width=\"24px\">\n",
              "    <path d=\"M0 0h24v24H0V0z\" fill=\"none\"/>\n",
              "    <path d=\"M18.56 5.44l.94 2.06.94-2.06 2.06-.94-2.06-.94-.94-2.06-.94 2.06-2.06.94zm-11 1L8.5 8.5l.94-2.06 2.06-.94-2.06-.94L8.5 2.5l-.94 2.06-2.06.94zm10 10l.94 2.06.94-2.06 2.06-.94-2.06-.94-.94-2.06-.94 2.06-2.06.94z\"/><path d=\"M17.41 7.96l-1.37-1.37c-.4-.4-.92-.59-1.43-.59-.52 0-1.04.2-1.43.59L10.3 9.45l-7.72 7.72c-.78.78-.78 2.05 0 2.83L4 21.41c.39.39.9.59 1.41.59.51 0 1.02-.2 1.41-.59l7.78-7.78 2.81-2.81c.8-.78.8-2.07 0-2.86zM5.41 20L4 18.59l7.72-7.72 1.47 1.35L5.41 20z\"/>\n",
              "  </svg>\n",
              "      </button>\n",
              "      \n",
              "  <style>\n",
              "    .colab-df-container {\n",
              "      display:flex;\n",
              "      flex-wrap:wrap;\n",
              "      gap: 12px;\n",
              "    }\n",
              "\n",
              "    .colab-df-convert {\n",
              "      background-color: #E8F0FE;\n",
              "      border: none;\n",
              "      border-radius: 50%;\n",
              "      cursor: pointer;\n",
              "      display: none;\n",
              "      fill: #1967D2;\n",
              "      height: 32px;\n",
              "      padding: 0 0 0 0;\n",
              "      width: 32px;\n",
              "    }\n",
              "\n",
              "    .colab-df-convert:hover {\n",
              "      background-color: #E2EBFA;\n",
              "      box-shadow: 0px 1px 2px rgba(60, 64, 67, 0.3), 0px 1px 3px 1px rgba(60, 64, 67, 0.15);\n",
              "      fill: #174EA6;\n",
              "    }\n",
              "\n",
              "    [theme=dark] .colab-df-convert {\n",
              "      background-color: #3B4455;\n",
              "      fill: #D2E3FC;\n",
              "    }\n",
              "\n",
              "    [theme=dark] .colab-df-convert:hover {\n",
              "      background-color: #434B5C;\n",
              "      box-shadow: 0px 1px 3px 1px rgba(0, 0, 0, 0.15);\n",
              "      filter: drop-shadow(0px 1px 2px rgba(0, 0, 0, 0.3));\n",
              "      fill: #FFFFFF;\n",
              "    }\n",
              "  </style>\n",
              "\n",
              "      <script>\n",
              "        const buttonEl =\n",
              "          document.querySelector('#df-957a4ce5-e998-4f57-a58c-6c831edadeb3 button.colab-df-convert');\n",
              "        buttonEl.style.display =\n",
              "          google.colab.kernel.accessAllowed ? 'block' : 'none';\n",
              "\n",
              "        async function convertToInteractive(key) {\n",
              "          const element = document.querySelector('#df-957a4ce5-e998-4f57-a58c-6c831edadeb3');\n",
              "          const dataTable =\n",
              "            await google.colab.kernel.invokeFunction('convertToInteractive',\n",
              "                                                     [key], {});\n",
              "          if (!dataTable) return;\n",
              "\n",
              "          const docLinkHtml = 'Like what you see? Visit the ' +\n",
              "            '<a target=\"_blank\" href=https://colab.research.google.com/notebooks/data_table.ipynb>data table notebook</a>'\n",
              "            + ' to learn more about interactive tables.';\n",
              "          element.innerHTML = '';\n",
              "          dataTable['output_type'] = 'display_data';\n",
              "          await google.colab.output.renderOutput(dataTable, element);\n",
              "          const docLink = document.createElement('div');\n",
              "          docLink.innerHTML = docLinkHtml;\n",
              "          element.appendChild(docLink);\n",
              "        }\n",
              "      </script>\n",
              "    </div>\n",
              "  </div>\n",
              "  "
            ]
          },
          "metadata": {},
          "execution_count": 29
        }
      ],
      "source": [
        "partidos_ordenados"
      ]
    },
    {
      "cell_type": "markdown",
      "metadata": {
        "id": "5IXR4OlntrEI"
      },
      "source": [
        "Calculamos la audienCia esperada para el partido en función de la audiencia que genera cada partido según los equipos\n",
        "que se enfrentan y en horario de sábado a las 20h, y el coeficiente de reduccuión:"
      ]
    },
    {
      "cell_type": "code",
      "execution_count": 30,
      "metadata": {
        "id": "GlKmi1bltrEJ"
      },
      "outputs": [],
      "source": [
        "# Calculamos la audiencia para cada partido con el cr asignado al partido, y la\n",
        "# audiencia de un partido de esa categoria\n",
        "\n",
        "# La audiencia de cada categoria se encuentra en un diccionario llamado \n",
        "# mejor_audiencia, donde tiene como clave la categoria de los partidos (AA,AB,...)\n",
        "\n",
        "lista_audiencia = []# lista donde almacenaremos el calculo\n",
        "\n",
        "for i in range(len(partidos_ordenados)):# recorrer el numero de filas de partidos_ordenados\n",
        "  \n",
        "  # audiencia del partido = (cr del partido) * (audiencia de un partido de esa categoria)\n",
        "  \n",
        "  # mejor_audiencia[partidos_ordenados.iloc(axis=0)[i]['categoria']])\n",
        "  # |-> Acceder ala audiencia de la catego del partido almacenada en el dicionario\n",
        "  \n",
        "  lista_audiencia.append(partidos_ordenados.iloc(axis=0)[i]['cr'] * mejor_audiencia[partidos_ordenados.iloc(axis=0)[i]['categoria']])"
      ]
    },
    {
      "cell_type": "markdown",
      "metadata": {
        "id": "QFFrXYz3trEO"
      },
      "source": [
        "Asignamos la audiencia en una nueva columna ( de esta forma podremos consultar la audiencia de cada partido por separado):"
      ]
    },
    {
      "cell_type": "code",
      "execution_count": 31,
      "metadata": {
        "id": "g5ZwEb-gtrEP"
      },
      "outputs": [],
      "source": [
        "partidos_ordenados['audiencia']  = lista_audiencia"
      ]
    },
    {
      "cell_type": "code",
      "execution_count": 32,
      "metadata": {
        "colab": {
          "base_uri": "https://localhost:8080/",
          "height": 362
        },
        "id": "gTheSf0htrET",
        "outputId": "fcc86374-9e80-4370-97d8-c0bf52dbfa7d"
      },
      "outputs": [
        {
          "output_type": "execute_result",
          "data": {
            "text/plain": [
              "  cat_num categoria                              equipos          dia    cr  \\\n",
              "0    6566        AB       Real Madrid  - vs -  Villareal   sabado_20h  1.00   \n",
              "1    6566        AB        FC Barcelona  - vs -  Sevilla  domingo_20h  1.00   \n",
              "2    6566        AB    Real Sociedad  - vs -  Real Betis  domingo_18h  0.85   \n",
              "3    6666        BB      RC Celta  - vs -  Athletic Club   sabado_18h  0.80   \n",
              "4    6666        BB         D. Alavés  - vs -  Getafe CF  domingo_16h  0.75   \n",
              "5    6667        BC       RCD Espanyol  - vs -  SD Eibar   sabado_16h  0.70   \n",
              "6    6667        BC            Atlético  - vs -  Menorca   sabado_12h  0.55   \n",
              "7    6667        BC  Levante UD  - vs -  Real Valladolid  domingo_12h  0.45   \n",
              "8    6667        BC        Valencia CF  - vs -  Mallorca  viernes_20h  0.40   \n",
              "9    6767        CC          Osasuna  - vs -  CD Leganés    lunes_20h  0.40   \n",
              "\n",
              "   audiencia  \n",
              "0  1300000.0  \n",
              "1  1300000.0  \n",
              "2  1105000.0  \n",
              "3   720000.0  \n",
              "4   675000.0  \n",
              "5   525000.0  \n",
              "6   412500.0  \n",
              "7   337500.0  \n",
              "8   300000.0  \n",
              "9   188000.0  "
            ],
            "text/html": [
              "\n",
              "  <div id=\"df-3a5c9dbe-ec69-46cc-b54f-a102face735a\">\n",
              "    <div class=\"colab-df-container\">\n",
              "      <div>\n",
              "<style scoped>\n",
              "    .dataframe tbody tr th:only-of-type {\n",
              "        vertical-align: middle;\n",
              "    }\n",
              "\n",
              "    .dataframe tbody tr th {\n",
              "        vertical-align: top;\n",
              "    }\n",
              "\n",
              "    .dataframe thead th {\n",
              "        text-align: right;\n",
              "    }\n",
              "</style>\n",
              "<table border=\"1\" class=\"dataframe\">\n",
              "  <thead>\n",
              "    <tr style=\"text-align: right;\">\n",
              "      <th></th>\n",
              "      <th>cat_num</th>\n",
              "      <th>categoria</th>\n",
              "      <th>equipos</th>\n",
              "      <th>dia</th>\n",
              "      <th>cr</th>\n",
              "      <th>audiencia</th>\n",
              "    </tr>\n",
              "  </thead>\n",
              "  <tbody>\n",
              "    <tr>\n",
              "      <th>0</th>\n",
              "      <td>6566</td>\n",
              "      <td>AB</td>\n",
              "      <td>Real Madrid  - vs -  Villareal</td>\n",
              "      <td>sabado_20h</td>\n",
              "      <td>1.00</td>\n",
              "      <td>1300000.0</td>\n",
              "    </tr>\n",
              "    <tr>\n",
              "      <th>1</th>\n",
              "      <td>6566</td>\n",
              "      <td>AB</td>\n",
              "      <td>FC Barcelona  - vs -  Sevilla</td>\n",
              "      <td>domingo_20h</td>\n",
              "      <td>1.00</td>\n",
              "      <td>1300000.0</td>\n",
              "    </tr>\n",
              "    <tr>\n",
              "      <th>2</th>\n",
              "      <td>6566</td>\n",
              "      <td>AB</td>\n",
              "      <td>Real Sociedad  - vs -  Real Betis</td>\n",
              "      <td>domingo_18h</td>\n",
              "      <td>0.85</td>\n",
              "      <td>1105000.0</td>\n",
              "    </tr>\n",
              "    <tr>\n",
              "      <th>3</th>\n",
              "      <td>6666</td>\n",
              "      <td>BB</td>\n",
              "      <td>RC Celta  - vs -  Athletic Club</td>\n",
              "      <td>sabado_18h</td>\n",
              "      <td>0.80</td>\n",
              "      <td>720000.0</td>\n",
              "    </tr>\n",
              "    <tr>\n",
              "      <th>4</th>\n",
              "      <td>6666</td>\n",
              "      <td>BB</td>\n",
              "      <td>D. Alavés  - vs -  Getafe CF</td>\n",
              "      <td>domingo_16h</td>\n",
              "      <td>0.75</td>\n",
              "      <td>675000.0</td>\n",
              "    </tr>\n",
              "    <tr>\n",
              "      <th>5</th>\n",
              "      <td>6667</td>\n",
              "      <td>BC</td>\n",
              "      <td>RCD Espanyol  - vs -  SD Eibar</td>\n",
              "      <td>sabado_16h</td>\n",
              "      <td>0.70</td>\n",
              "      <td>525000.0</td>\n",
              "    </tr>\n",
              "    <tr>\n",
              "      <th>6</th>\n",
              "      <td>6667</td>\n",
              "      <td>BC</td>\n",
              "      <td>Atlético  - vs -  Menorca</td>\n",
              "      <td>sabado_12h</td>\n",
              "      <td>0.55</td>\n",
              "      <td>412500.0</td>\n",
              "    </tr>\n",
              "    <tr>\n",
              "      <th>7</th>\n",
              "      <td>6667</td>\n",
              "      <td>BC</td>\n",
              "      <td>Levante UD  - vs -  Real Valladolid</td>\n",
              "      <td>domingo_12h</td>\n",
              "      <td>0.45</td>\n",
              "      <td>337500.0</td>\n",
              "    </tr>\n",
              "    <tr>\n",
              "      <th>8</th>\n",
              "      <td>6667</td>\n",
              "      <td>BC</td>\n",
              "      <td>Valencia CF  - vs -  Mallorca</td>\n",
              "      <td>viernes_20h</td>\n",
              "      <td>0.40</td>\n",
              "      <td>300000.0</td>\n",
              "    </tr>\n",
              "    <tr>\n",
              "      <th>9</th>\n",
              "      <td>6767</td>\n",
              "      <td>CC</td>\n",
              "      <td>Osasuna  - vs -  CD Leganés</td>\n",
              "      <td>lunes_20h</td>\n",
              "      <td>0.40</td>\n",
              "      <td>188000.0</td>\n",
              "    </tr>\n",
              "  </tbody>\n",
              "</table>\n",
              "</div>\n",
              "      <button class=\"colab-df-convert\" onclick=\"convertToInteractive('df-3a5c9dbe-ec69-46cc-b54f-a102face735a')\"\n",
              "              title=\"Convert this dataframe to an interactive table.\"\n",
              "              style=\"display:none;\">\n",
              "        \n",
              "  <svg xmlns=\"http://www.w3.org/2000/svg\" height=\"24px\"viewBox=\"0 0 24 24\"\n",
              "       width=\"24px\">\n",
              "    <path d=\"M0 0h24v24H0V0z\" fill=\"none\"/>\n",
              "    <path d=\"M18.56 5.44l.94 2.06.94-2.06 2.06-.94-2.06-.94-.94-2.06-.94 2.06-2.06.94zm-11 1L8.5 8.5l.94-2.06 2.06-.94-2.06-.94L8.5 2.5l-.94 2.06-2.06.94zm10 10l.94 2.06.94-2.06 2.06-.94-2.06-.94-.94-2.06-.94 2.06-2.06.94z\"/><path d=\"M17.41 7.96l-1.37-1.37c-.4-.4-.92-.59-1.43-.59-.52 0-1.04.2-1.43.59L10.3 9.45l-7.72 7.72c-.78.78-.78 2.05 0 2.83L4 21.41c.39.39.9.59 1.41.59.51 0 1.02-.2 1.41-.59l7.78-7.78 2.81-2.81c.8-.78.8-2.07 0-2.86zM5.41 20L4 18.59l7.72-7.72 1.47 1.35L5.41 20z\"/>\n",
              "  </svg>\n",
              "      </button>\n",
              "      \n",
              "  <style>\n",
              "    .colab-df-container {\n",
              "      display:flex;\n",
              "      flex-wrap:wrap;\n",
              "      gap: 12px;\n",
              "    }\n",
              "\n",
              "    .colab-df-convert {\n",
              "      background-color: #E8F0FE;\n",
              "      border: none;\n",
              "      border-radius: 50%;\n",
              "      cursor: pointer;\n",
              "      display: none;\n",
              "      fill: #1967D2;\n",
              "      height: 32px;\n",
              "      padding: 0 0 0 0;\n",
              "      width: 32px;\n",
              "    }\n",
              "\n",
              "    .colab-df-convert:hover {\n",
              "      background-color: #E2EBFA;\n",
              "      box-shadow: 0px 1px 2px rgba(60, 64, 67, 0.3), 0px 1px 3px 1px rgba(60, 64, 67, 0.15);\n",
              "      fill: #174EA6;\n",
              "    }\n",
              "\n",
              "    [theme=dark] .colab-df-convert {\n",
              "      background-color: #3B4455;\n",
              "      fill: #D2E3FC;\n",
              "    }\n",
              "\n",
              "    [theme=dark] .colab-df-convert:hover {\n",
              "      background-color: #434B5C;\n",
              "      box-shadow: 0px 1px 3px 1px rgba(0, 0, 0, 0.15);\n",
              "      filter: drop-shadow(0px 1px 2px rgba(0, 0, 0, 0.3));\n",
              "      fill: #FFFFFF;\n",
              "    }\n",
              "  </style>\n",
              "\n",
              "      <script>\n",
              "        const buttonEl =\n",
              "          document.querySelector('#df-3a5c9dbe-ec69-46cc-b54f-a102face735a button.colab-df-convert');\n",
              "        buttonEl.style.display =\n",
              "          google.colab.kernel.accessAllowed ? 'block' : 'none';\n",
              "\n",
              "        async function convertToInteractive(key) {\n",
              "          const element = document.querySelector('#df-3a5c9dbe-ec69-46cc-b54f-a102face735a');\n",
              "          const dataTable =\n",
              "            await google.colab.kernel.invokeFunction('convertToInteractive',\n",
              "                                                     [key], {});\n",
              "          if (!dataTable) return;\n",
              "\n",
              "          const docLinkHtml = 'Like what you see? Visit the ' +\n",
              "            '<a target=\"_blank\" href=https://colab.research.google.com/notebooks/data_table.ipynb>data table notebook</a>'\n",
              "            + ' to learn more about interactive tables.';\n",
              "          element.innerHTML = '';\n",
              "          dataTable['output_type'] = 'display_data';\n",
              "          await google.colab.output.renderOutput(dataTable, element);\n",
              "          const docLink = document.createElement('div');\n",
              "          docLink.innerHTML = docLinkHtml;\n",
              "          element.appendChild(docLink);\n",
              "        }\n",
              "      </script>\n",
              "    </div>\n",
              "  </div>\n",
              "  "
            ]
          },
          "metadata": {},
          "execution_count": 32
        }
      ],
      "source": [
        "partidos_ordenados"
      ]
    },
    {
      "cell_type": "markdown",
      "metadata": {
        "id": "CxrT-FvAtrEY"
      },
      "source": [
        "Para calcular la audiencia total de la jornada, solo tenemos que representar sumar las audiencias de cada partido:"
      ]
    },
    {
      "cell_type": "code",
      "execution_count": 33,
      "metadata": {
        "colab": {
          "base_uri": "https://localhost:8080/"
        },
        "id": "Cy9KuJMZtrEd",
        "outputId": "50768734-9733-4768-94a7-6dc52bbe2599"
      },
      "outputs": [
        {
          "output_type": "stream",
          "name": "stdout",
          "text": [
            "Audiencia Total de la jornada =  6863000.0\n"
          ]
        }
      ],
      "source": [
        "print(\"Audiencia Total de la jornada = \", partidos_ordenados.loc(axis=1)['audiencia'].sum())"
      ]
    },
    {
      "cell_type": "markdown",
      "metadata": {
        "id": "dh0o2hxkvQ7u"
      },
      "source": [
        "## 4.4. Función para obtener la mejor organización de los partidos"
      ]
    },
    {
      "cell_type": "markdown",
      "metadata": {
        "id": "qtgU-0-MvQ7w"
      },
      "source": [
        "Hasta ahora se ha explicado paso a paso el procedimiento que he desarrollado para obtener el la mejor organización de los partidos. Tener el código por separado, no le facilita al cliente el uso de nuestro programa. Por esta razón se crea una función de tipo main para que apartir de una entrada, obtengamos la organización donde se maximiza la audiencia ( que es lo que el cliente nos hapedido)."
      ]
    },
    {
      "cell_type": "code",
      "execution_count": 34,
      "metadata": {
        "id": "rdbPBwDNvQ7x"
      },
      "outputs": [],
      "source": [
        "def FB_obtener_jornada_maxima_audiencia(df_jornada, cr_audiencias,mejor_audiencia,ordenar_cr = True):\n",
        "  \n",
        "  # Ordenamos los partidos en función del valor de la columna 'cat_num' \n",
        "  # (codigo ASCII) de menor a mayor, para ordenarlos de mayor a menor audiencia:\n",
        "  partidos_ordenados = ordenacion_seleccion(df_jornada,'cat_num')               #n^2\n",
        "  \n",
        "  # Ordenamos los coeficientes de reducción de audiencias de mayor a menor:\n",
        "  if ordenar_cr == True:# Si ya estan ordenados, podemos ahorrarnos realizar la ordenacion\n",
        "    cr_audiencias_ordenado = ordenacion_seleccion_mayor(cr_audiencias,'cr')     #n^2\n",
        "  \n",
        "  # Para unir dos DF's necesitamos que los indices coincidan (o almenos como \n",
        "  # los quiero unir). Por esta razon cambiamos los índices de \n",
        "  # cr_audiencias_ordenado por los de partidos_ordenados\n",
        "  cr_audiencias_ordenado.index = partidos_ordenados.index                       # C\n",
        "  \n",
        "  # Añadimos las columnas de dia, y cr para tenerlo asignado a cada partido:\n",
        "  partidos_ordenados[['dia','cr']] = cr_audiencias_ordenado                     # C\n",
        "  \n",
        "  # Calculamos la audiencia para cada partido con el cr asignado al partido, y la\n",
        "  # audiencia de un partido de esa categoria\n",
        "\n",
        "  # La audiencia de cada categoria se encuentra en un diccionario llamado \n",
        "  # mejor_audiencia, donde tiene como clave la categoria de los partidos (AA,AB,...)\n",
        "  \n",
        "  lista_audiencia = []# lista donde almacenaremos el calculo                    # C\n",
        "\n",
        "  for i in range(len(partidos_ordenados)):                                      # n\n",
        "    # recorrer el numero de filas de partidos_ordenados\n",
        "  \n",
        "    # audiencia del partido = (cr del partido) * (audiencia de un partido de esa categoria)\n",
        "  \n",
        "    # mejor_audiencia[partidos_ordenados.iloc(axis=0)[i]['categoria']])\n",
        "    # |-> Acceder ala audiencia de la catego del partido almacenada en el dicionario\n",
        "  \n",
        "    lista_audiencia.append(partidos_ordenados.iloc(axis=0)[i]['cr'] * mejor_audiencia[partidos_ordenados.iloc(axis=0)[i]['categoria']])\n",
        "  \n",
        "  # Asignamos la audiencia en una nueva columna ( de esta forma podremos consultar la audiencia de cada partido por separado):\n",
        "  partidos_ordenados['audiencia']  = lista_audiencia\n",
        "  \n",
        "  return partidos_ordenados\n",
        "  "
      ]
    },
    {
      "cell_type": "markdown",
      "metadata": {
        "id": "BcxZZ2433reT"
      },
      "source": [
        "# EJERCICIO 5"
      ]
    },
    {
      "cell_type": "markdown",
      "metadata": {
        "id": "tgrnsC2nkFa8"
      },
      "source": [
        "Calcula la complejidad del algoritmo por fuerza bruta"
      ]
    },
    {
      "cell_type": "markdown",
      "metadata": {
        "id": "9eUd3xwckP68"
      },
      "source": [
        "**Respuesta**"
      ]
    },
    {
      "cell_type": "markdown",
      "metadata": {
        "id": "-Q4FkzHg3oqh"
      },
      "source": [
        "La complejidad  de *FB_obtener_jornada_maxima_audiencia()* es del tipo **O(n²)**, donde n es el número de partidos (en este caso 10) :\n",
        "\n",
        "-  O(n²) --> Ordenar los partidos de mayor a menor audiencia\n",
        "-  O(n²) --> Ordenar los coeficientes de reducción de audiencia de mayor a menor \n",
        "-  C (Cosntantes. Resto de asignaciones)  --> Nuevas columnas, cambio de indice, ...\n",
        "-  n --> Bucle for\n",
        "\n",
        "**TOTAL = O(n²)**"
      ]
    },
    {
      "cell_type": "markdown",
      "metadata": {
        "id": "Yb2xYFuo3u8F"
      },
      "source": [
        "# EJERCICIO 6 (*)"
      ]
    },
    {
      "cell_type": "markdown",
      "metadata": {
        "id": "txbrmLmskReM"
      },
      "source": [
        "(*)Diseña un algoritmo que mejore la complejidad del algortimo por fuerza bruta. Argumenta porque crees que mejora el algoritmo por fuerza bruta"
      ]
    },
    {
      "cell_type": "markdown",
      "metadata": {
        "id": "hLrVwt5QkZPD"
      },
      "source": [
        "**Respuesta**"
      ]
    },
    {
      "cell_type": "markdown",
      "metadata": {
        "id": "ameCiFR7AJge"
      },
      "source": [
        "## 6.1. Quick sort DF menor a mayor - Ordenar partidos de la jornada de mayor a menor audiencia"
      ]
    },
    {
      "cell_type": "markdown",
      "metadata": {
        "id": "BtIA8HGtD4Lx"
      },
      "source": [
        "Cuando tenemos muchos datos se suele usar la estructura de Data Frame de Pandas. Como la hemos estado utilizando hasta ahora, para no cambiar de estructura de datos seguimos trabajando con ella. \n",
        "\n",
        "Una vez tenemos los datos de los datos de la jornada estructurados, debemos de ordanar los datos en base a la columna 'cat_num'. He creado una función que utiliza implementa el algoritmo de Quick sort para DF, y ordena las filas en función de los datos de una columna.\n",
        "\n",
        "La función recibe el DF a ordenar y la columna sobre la que queremos ordenar:"
      ]
    },
    {
      "cell_type": "code",
      "execution_count": 36,
      "metadata": {
        "id": "vwxb3hUL8-nd"
      },
      "outputs": [],
      "source": [
        "def quick_sort_liga(df, col_ordenar):  \n",
        "  # df = Data Frame (DF)\n",
        "  # col_ordenar = Columna de df sobre la que queremos ordenar el DF\n",
        "  if len(df) == 1: # tenemos una serie\n",
        "    # Solo hay un partido\n",
        "    return df\n",
        "  \n",
        "  elif len(df) == 2:\n",
        "    # Disponemos de 2 partidos (4 equipos).\n",
        "    # los ordenamos de menor a mayor\n",
        "    \n",
        "    # comparamos los valores en cada fila para la columna a ordenar, para situar\n",
        "    # en primer lugar la fila con el valor menor:\n",
        "    \n",
        "    if df.iloc(axis=0)[0][col_ordenar] < df.iloc(axis=0)[1][col_ordenar]:\n",
        "      # el orden de las filas actual es correcto\n",
        "      return df\n",
        "    else:\n",
        "      # el orden de las filas actual NO es correcto, queremos menor-mayor\n",
        "      return pd.DataFrame([df.iloc(axis=0)[1], df.iloc(axis=0)[0]])\n",
        "    \n",
        "  else: # Listas con mas de 2 elementos\n",
        "    \n",
        "    # Sublista con valores menores o iguales al pivote\n",
        "    izq = pd.DataFrame(columns=df.columns) \n",
        "    \n",
        "    # Sublista con valores mayores al pivote\n",
        "    der = pd.DataFrame(columns=df.columns) \n",
        "    \n",
        "    # pivote: Es el elemento que nos permite dividir la lista en dos sublistas\n",
        "    \n",
        "    # Para calcular el pivote usamos la media:\n",
        "    suma = df.loc(axis =1)[col_ordenar].sum() # Sumamos los valores de la columna\n",
        "    pivote = suma/len(df) # Calcular pivote\n",
        "    \n",
        "    # Dividir la lista en sublistas mediante el pivote\n",
        "    for i in range(len(df)):\n",
        "      # 'i' recore el numero de filas\n",
        "      \n",
        "      # comprovamos si el valor para fila 'i' y la columna a sobre la que ordenar\n",
        "      # (col_ordenar) es menor o mayor que el pivote\n",
        "      \n",
        "      # Sublista con valores menores o iguales al pivote:\n",
        "      if df.iloc(axis=0)[i][col_ordenar] <= pivote:\n",
        "        izq = izq.append(df.iloc(axis=0)[i])# Añadimo la fila a la sublista (DF)\n",
        "        \n",
        "      else: # Sublista con valores mayores al pivote\n",
        "        der = der.append(df.iloc(axis=0)[i])# Añadimo la fila a la sublista (DF)\n",
        "        \n",
        "    # Se repite el proceso de forma recursiva para cada sublista mientras \n",
        "    # contengan más de uno o dos elementos. \n",
        "    \n",
        "    # Como hay numero repetidos, debemos de tenerlo en cuenta, porque podria estar\n",
        "    # dividiendo la lista y estar todos en un lado y la otra sublista vacia\n",
        "    if len(izq)>0 and len(der)>0: \n",
        "      \n",
        "      # Una vez terminado este proceso todos los elementos estarán ordenados. En\n",
        "      # una lista única\n",
        "      df_I = quick_sort_liga(izq,col_ordenar)                                   \n",
        "      df_D = quick_sort_liga(der,col_ordenar)\n",
        "      \n",
        "      return  df_I.append(df_D)\n",
        "    \n",
        "    else:\n",
        "      return df\n",
        "  "
      ]
    },
    {
      "cell_type": "markdown",
      "metadata": {
        "id": "wQHTLvYD6XRt"
      },
      "source": [
        "Ordenamos los partidos en función del valor de la columna *'cat_num'* (codigo ASCII) de menor a mayor, para ordenarlos de mayor a menor audiencia:"
      ]
    },
    {
      "cell_type": "code",
      "execution_count": 37,
      "metadata": {
        "id": "htW6yDqeANeY"
      },
      "outputs": [],
      "source": [
        "partidos_ordenados = quick_sort_liga(df_jornada,'cat_num')"
      ]
    },
    {
      "cell_type": "code",
      "execution_count": 38,
      "metadata": {
        "colab": {
          "base_uri": "https://localhost:8080/",
          "height": 362
        },
        "id": "4kfS5QyN6QA0",
        "outputId": "5e3c7202-a2e7-466e-d2a6-63aff303565c"
      },
      "outputs": [
        {
          "output_type": "execute_result",
          "data": {
            "text/plain": [
              "  cat_num categoria                              equipos\n",
              "1    6566        AB       Real Madrid  - vs -  Villareal\n",
              "4    6566        AB        FC Barcelona  - vs -  Sevilla\n",
              "6    6566        AB    Real Sociedad  - vs -  Real Betis\n",
              "9    6666        BB         D. Alavés  - vs -  Getafe CF\n",
              "8    6666        BB      RC Celta  - vs -  Athletic Club\n",
              "2    6667        BC            Atlético  - vs -  Menorca\n",
              "3    6667        BC        Valencia CF  - vs -  Mallorca\n",
              "5    6667        BC       RCD Espanyol  - vs -  SD Eibar\n",
              "7    6667        BC  Levante UD  - vs -  Real Valladolid\n",
              "0    6767        CC          Osasuna  - vs -  CD Leganés"
            ],
            "text/html": [
              "\n",
              "  <div id=\"df-9ea80843-ac0c-4a6e-9411-b8539f3ff45d\">\n",
              "    <div class=\"colab-df-container\">\n",
              "      <div>\n",
              "<style scoped>\n",
              "    .dataframe tbody tr th:only-of-type {\n",
              "        vertical-align: middle;\n",
              "    }\n",
              "\n",
              "    .dataframe tbody tr th {\n",
              "        vertical-align: top;\n",
              "    }\n",
              "\n",
              "    .dataframe thead th {\n",
              "        text-align: right;\n",
              "    }\n",
              "</style>\n",
              "<table border=\"1\" class=\"dataframe\">\n",
              "  <thead>\n",
              "    <tr style=\"text-align: right;\">\n",
              "      <th></th>\n",
              "      <th>cat_num</th>\n",
              "      <th>categoria</th>\n",
              "      <th>equipos</th>\n",
              "    </tr>\n",
              "  </thead>\n",
              "  <tbody>\n",
              "    <tr>\n",
              "      <th>1</th>\n",
              "      <td>6566</td>\n",
              "      <td>AB</td>\n",
              "      <td>Real Madrid  - vs -  Villareal</td>\n",
              "    </tr>\n",
              "    <tr>\n",
              "      <th>4</th>\n",
              "      <td>6566</td>\n",
              "      <td>AB</td>\n",
              "      <td>FC Barcelona  - vs -  Sevilla</td>\n",
              "    </tr>\n",
              "    <tr>\n",
              "      <th>6</th>\n",
              "      <td>6566</td>\n",
              "      <td>AB</td>\n",
              "      <td>Real Sociedad  - vs -  Real Betis</td>\n",
              "    </tr>\n",
              "    <tr>\n",
              "      <th>9</th>\n",
              "      <td>6666</td>\n",
              "      <td>BB</td>\n",
              "      <td>D. Alavés  - vs -  Getafe CF</td>\n",
              "    </tr>\n",
              "    <tr>\n",
              "      <th>8</th>\n",
              "      <td>6666</td>\n",
              "      <td>BB</td>\n",
              "      <td>RC Celta  - vs -  Athletic Club</td>\n",
              "    </tr>\n",
              "    <tr>\n",
              "      <th>2</th>\n",
              "      <td>6667</td>\n",
              "      <td>BC</td>\n",
              "      <td>Atlético  - vs -  Menorca</td>\n",
              "    </tr>\n",
              "    <tr>\n",
              "      <th>3</th>\n",
              "      <td>6667</td>\n",
              "      <td>BC</td>\n",
              "      <td>Valencia CF  - vs -  Mallorca</td>\n",
              "    </tr>\n",
              "    <tr>\n",
              "      <th>5</th>\n",
              "      <td>6667</td>\n",
              "      <td>BC</td>\n",
              "      <td>RCD Espanyol  - vs -  SD Eibar</td>\n",
              "    </tr>\n",
              "    <tr>\n",
              "      <th>7</th>\n",
              "      <td>6667</td>\n",
              "      <td>BC</td>\n",
              "      <td>Levante UD  - vs -  Real Valladolid</td>\n",
              "    </tr>\n",
              "    <tr>\n",
              "      <th>0</th>\n",
              "      <td>6767</td>\n",
              "      <td>CC</td>\n",
              "      <td>Osasuna  - vs -  CD Leganés</td>\n",
              "    </tr>\n",
              "  </tbody>\n",
              "</table>\n",
              "</div>\n",
              "      <button class=\"colab-df-convert\" onclick=\"convertToInteractive('df-9ea80843-ac0c-4a6e-9411-b8539f3ff45d')\"\n",
              "              title=\"Convert this dataframe to an interactive table.\"\n",
              "              style=\"display:none;\">\n",
              "        \n",
              "  <svg xmlns=\"http://www.w3.org/2000/svg\" height=\"24px\"viewBox=\"0 0 24 24\"\n",
              "       width=\"24px\">\n",
              "    <path d=\"M0 0h24v24H0V0z\" fill=\"none\"/>\n",
              "    <path d=\"M18.56 5.44l.94 2.06.94-2.06 2.06-.94-2.06-.94-.94-2.06-.94 2.06-2.06.94zm-11 1L8.5 8.5l.94-2.06 2.06-.94-2.06-.94L8.5 2.5l-.94 2.06-2.06.94zm10 10l.94 2.06.94-2.06 2.06-.94-2.06-.94-.94-2.06-.94 2.06-2.06.94z\"/><path d=\"M17.41 7.96l-1.37-1.37c-.4-.4-.92-.59-1.43-.59-.52 0-1.04.2-1.43.59L10.3 9.45l-7.72 7.72c-.78.78-.78 2.05 0 2.83L4 21.41c.39.39.9.59 1.41.59.51 0 1.02-.2 1.41-.59l7.78-7.78 2.81-2.81c.8-.78.8-2.07 0-2.86zM5.41 20L4 18.59l7.72-7.72 1.47 1.35L5.41 20z\"/>\n",
              "  </svg>\n",
              "      </button>\n",
              "      \n",
              "  <style>\n",
              "    .colab-df-container {\n",
              "      display:flex;\n",
              "      flex-wrap:wrap;\n",
              "      gap: 12px;\n",
              "    }\n",
              "\n",
              "    .colab-df-convert {\n",
              "      background-color: #E8F0FE;\n",
              "      border: none;\n",
              "      border-radius: 50%;\n",
              "      cursor: pointer;\n",
              "      display: none;\n",
              "      fill: #1967D2;\n",
              "      height: 32px;\n",
              "      padding: 0 0 0 0;\n",
              "      width: 32px;\n",
              "    }\n",
              "\n",
              "    .colab-df-convert:hover {\n",
              "      background-color: #E2EBFA;\n",
              "      box-shadow: 0px 1px 2px rgba(60, 64, 67, 0.3), 0px 1px 3px 1px rgba(60, 64, 67, 0.15);\n",
              "      fill: #174EA6;\n",
              "    }\n",
              "\n",
              "    [theme=dark] .colab-df-convert {\n",
              "      background-color: #3B4455;\n",
              "      fill: #D2E3FC;\n",
              "    }\n",
              "\n",
              "    [theme=dark] .colab-df-convert:hover {\n",
              "      background-color: #434B5C;\n",
              "      box-shadow: 0px 1px 3px 1px rgba(0, 0, 0, 0.15);\n",
              "      filter: drop-shadow(0px 1px 2px rgba(0, 0, 0, 0.3));\n",
              "      fill: #FFFFFF;\n",
              "    }\n",
              "  </style>\n",
              "\n",
              "      <script>\n",
              "        const buttonEl =\n",
              "          document.querySelector('#df-9ea80843-ac0c-4a6e-9411-b8539f3ff45d button.colab-df-convert');\n",
              "        buttonEl.style.display =\n",
              "          google.colab.kernel.accessAllowed ? 'block' : 'none';\n",
              "\n",
              "        async function convertToInteractive(key) {\n",
              "          const element = document.querySelector('#df-9ea80843-ac0c-4a6e-9411-b8539f3ff45d');\n",
              "          const dataTable =\n",
              "            await google.colab.kernel.invokeFunction('convertToInteractive',\n",
              "                                                     [key], {});\n",
              "          if (!dataTable) return;\n",
              "\n",
              "          const docLinkHtml = 'Like what you see? Visit the ' +\n",
              "            '<a target=\"_blank\" href=https://colab.research.google.com/notebooks/data_table.ipynb>data table notebook</a>'\n",
              "            + ' to learn more about interactive tables.';\n",
              "          element.innerHTML = '';\n",
              "          dataTable['output_type'] = 'display_data';\n",
              "          await google.colab.output.renderOutput(dataTable, element);\n",
              "          const docLink = document.createElement('div');\n",
              "          docLink.innerHTML = docLinkHtml;\n",
              "          element.appendChild(docLink);\n",
              "        }\n",
              "      </script>\n",
              "    </div>\n",
              "  </div>\n",
              "  "
            ]
          },
          "metadata": {},
          "execution_count": 38
        }
      ],
      "source": [
        "partidos_ordenados"
      ]
    },
    {
      "cell_type": "markdown",
      "metadata": {
        "id": "1eKfM4qbALVY"
      },
      "source": [
        "## 6.2. Quick sort DF mayor a menor - Coeficientes de reducción de audiencias de mayor a menor"
      ]
    },
    {
      "cell_type": "markdown",
      "metadata": {
        "id": "mdGulhGXCQi2"
      },
      "source": [
        "Para poder asignar los coeficientes a la lista de partidos ordenados de mayor a menor audiencia (partidos_ordenado) calculada en el apartado anterior, necesitamos ordenar de mayor a menor los coeficientes de reduccion de las audiencias.\n",
        "\n",
        "Si los coeficientes son los mismos para todas las jornadas (sin influir mes, dia, ..) solo necesitamos ordenarlos una vez. Realmente podríamos usar la función sort de pandas para ordenar la lista, pero como la implementación es la misma que la anterior, creamos la función quick sort que ordena de mayor a menor.\n",
        "\n",
        "Cuando tenemos muchos datos se suele usar la estructura de Data Frame de Pandas. Como la hemos estado utilizando hasta ahora, para no cambiar de estructura de datos seguimos trabajando con ella. \n",
        "\n",
        "La función recibe el DF a ordenar y la columna sobre la que queremos ordenar:"
      ]
    },
    {
      "cell_type": "code",
      "execution_count": 40,
      "metadata": {
        "id": "klya9jPABCo2"
      },
      "outputs": [],
      "source": [
        "# Cambian solo unos signos con respecto de quick_sort_liga()\n",
        "# Esta funcion ordena de mayor a menor\n",
        "\n",
        "def quick_sort_liga_mayor(df, col_ordenar):  \n",
        "  # df = Data Frame (DF)\n",
        "  # col_ordenar = Columna de df sobre la que queremos ordenar el DF\n",
        "  if len(df) == 1: # tenemos una serie\n",
        "    # Solo hay un partido\n",
        "    return df\n",
        "  \n",
        "  elif len(df) == 2:\n",
        "    # Disponemos de 2 partidos (4 equipos).\n",
        "    # los ordenamos de menor a mayor\n",
        "    \n",
        "    # comparamos los valores en cada fila para la columna a ordenar, para situar\n",
        "    # en primer lugar la fila con el valor menor:\n",
        "    \n",
        "    if df.iloc(axis=0)[0][col_ordenar] > df.iloc(axis=0)[1][col_ordenar]: # UNICO CAMBIO '>'\n",
        "      # el orden de las filas actual es correcto\n",
        "      return df\n",
        "    else:\n",
        "      # el orden de las filas actual NO es correcto, queremos menor-mayor\n",
        "      return pd.DataFrame([df.iloc(axis=0)[1], df.iloc(axis=0)[0]])\n",
        "    \n",
        "  else: # Listas con mas de 2 elementos\n",
        "    \n",
        "    # Sublista con valores mayores o iguales al pivote\n",
        "    izq = pd.DataFrame(columns=df.columns) \n",
        "    \n",
        "    # Sublista con valores menores al pivote\n",
        "    der = pd.DataFrame(columns=df.columns) \n",
        "    \n",
        "    # pivote: Es el elemento que nos permite dividir la lista en dos sublistas\n",
        "    \n",
        "    # Para calcular el pivote usamos la media:\n",
        "    suma = df.loc(axis =1)[col_ordenar].sum() # Sumamos los valores de la columna\n",
        "    pivote = suma/len(df) # Calcular pivote\n",
        "    \n",
        "    # Dividir la lista en sublistas mediante el pivote\n",
        "    for i in range(len(df)):\n",
        "      # 'i' recore el numero de filas\n",
        "      \n",
        "      # comprovamos si el valor para fila 'i' y la columna a sobre la que ordenar\n",
        "      # (col_ordenar) es menor o mayor que el pivote\n",
        "      \n",
        "      # Sublista con valores mayores o iguales al pivote:\n",
        "      if df.iloc(axis=0)[i][col_ordenar] >= pivote: # UNICO CAMBIO '>='\n",
        "        izq = izq.append(df.iloc(axis=0)[i])# Añadimo la fila a la sublista (DF)\n",
        "        \n",
        "      else: # Sublista con valores menores al pivote\n",
        "        der = der.append(df.iloc(axis=0)[i])# Añadimo la fila a la sublista (DF)\n",
        "        \n",
        "    # Se repite el proceso de forma recursiva para cada sublista mientras \n",
        "    # contengan más de uno o dos elementos. \n",
        "    \n",
        "    # Como hay numero repetidos, debemos de tenerlo en cuenta, porque podria estar\n",
        "    # dividiendo la lista y estar todos en un lado y la otra sublista vacia\n",
        "    if len(izq)>0 and len(der)>0: \n",
        "      \n",
        "      # Una vez terminado este proceso todos los elementos estarán ordenados. En\n",
        "      # una lista única\n",
        "      df_I = quick_sort_liga_mayor(izq,col_ordenar)\n",
        "      df_D = quick_sort_liga_mayor(der,col_ordenar)\n",
        "      \n",
        "      return  df_I.append(df_D)\n",
        "    \n",
        "    else:\n",
        "      return df\n",
        "  "
      ]
    },
    {
      "cell_type": "markdown",
      "metadata": {
        "id": "r_nzihkV6pZU"
      },
      "source": [
        "Ordenamos los coeficientes de reducción de mayor a menor:"
      ]
    },
    {
      "cell_type": "code",
      "execution_count": 41,
      "metadata": {
        "id": "ovCElouwAeGW"
      },
      "outputs": [],
      "source": [
        "cr_audiencias_ordenado = quick_sort_liga_mayor(cr_audiencias,'cr')"
      ]
    },
    {
      "cell_type": "code",
      "execution_count": 42,
      "metadata": {
        "colab": {
          "base_uri": "https://localhost:8080/",
          "height": 362
        },
        "id": "EYLmEVcNPg1v",
        "outputId": "29db1db5-5e9b-4765-85c9-838d5edd280f"
      },
      "outputs": [
        {
          "output_type": "execute_result",
          "data": {
            "text/plain": [
              "           dia    cr\n",
              "8  domingo_20h  1.00\n",
              "4   sabado_20h  1.00\n",
              "7  domingo_18h  0.85\n",
              "3   sabado_18h  0.80\n",
              "6  domingo_16h  0.75\n",
              "2   sabado_16h  0.70\n",
              "1   sabado_12h  0.55\n",
              "5  domingo_12h  0.45\n",
              "9    lunes_20h  0.40\n",
              "0  viernes_20h  0.40"
            ],
            "text/html": [
              "\n",
              "  <div id=\"df-851f44ce-abdd-452d-84b2-fb0b33d04b28\">\n",
              "    <div class=\"colab-df-container\">\n",
              "      <div>\n",
              "<style scoped>\n",
              "    .dataframe tbody tr th:only-of-type {\n",
              "        vertical-align: middle;\n",
              "    }\n",
              "\n",
              "    .dataframe tbody tr th {\n",
              "        vertical-align: top;\n",
              "    }\n",
              "\n",
              "    .dataframe thead th {\n",
              "        text-align: right;\n",
              "    }\n",
              "</style>\n",
              "<table border=\"1\" class=\"dataframe\">\n",
              "  <thead>\n",
              "    <tr style=\"text-align: right;\">\n",
              "      <th></th>\n",
              "      <th>dia</th>\n",
              "      <th>cr</th>\n",
              "    </tr>\n",
              "  </thead>\n",
              "  <tbody>\n",
              "    <tr>\n",
              "      <th>8</th>\n",
              "      <td>domingo_20h</td>\n",
              "      <td>1.00</td>\n",
              "    </tr>\n",
              "    <tr>\n",
              "      <th>4</th>\n",
              "      <td>sabado_20h</td>\n",
              "      <td>1.00</td>\n",
              "    </tr>\n",
              "    <tr>\n",
              "      <th>7</th>\n",
              "      <td>domingo_18h</td>\n",
              "      <td>0.85</td>\n",
              "    </tr>\n",
              "    <tr>\n",
              "      <th>3</th>\n",
              "      <td>sabado_18h</td>\n",
              "      <td>0.80</td>\n",
              "    </tr>\n",
              "    <tr>\n",
              "      <th>6</th>\n",
              "      <td>domingo_16h</td>\n",
              "      <td>0.75</td>\n",
              "    </tr>\n",
              "    <tr>\n",
              "      <th>2</th>\n",
              "      <td>sabado_16h</td>\n",
              "      <td>0.70</td>\n",
              "    </tr>\n",
              "    <tr>\n",
              "      <th>1</th>\n",
              "      <td>sabado_12h</td>\n",
              "      <td>0.55</td>\n",
              "    </tr>\n",
              "    <tr>\n",
              "      <th>5</th>\n",
              "      <td>domingo_12h</td>\n",
              "      <td>0.45</td>\n",
              "    </tr>\n",
              "    <tr>\n",
              "      <th>9</th>\n",
              "      <td>lunes_20h</td>\n",
              "      <td>0.40</td>\n",
              "    </tr>\n",
              "    <tr>\n",
              "      <th>0</th>\n",
              "      <td>viernes_20h</td>\n",
              "      <td>0.40</td>\n",
              "    </tr>\n",
              "  </tbody>\n",
              "</table>\n",
              "</div>\n",
              "      <button class=\"colab-df-convert\" onclick=\"convertToInteractive('df-851f44ce-abdd-452d-84b2-fb0b33d04b28')\"\n",
              "              title=\"Convert this dataframe to an interactive table.\"\n",
              "              style=\"display:none;\">\n",
              "        \n",
              "  <svg xmlns=\"http://www.w3.org/2000/svg\" height=\"24px\"viewBox=\"0 0 24 24\"\n",
              "       width=\"24px\">\n",
              "    <path d=\"M0 0h24v24H0V0z\" fill=\"none\"/>\n",
              "    <path d=\"M18.56 5.44l.94 2.06.94-2.06 2.06-.94-2.06-.94-.94-2.06-.94 2.06-2.06.94zm-11 1L8.5 8.5l.94-2.06 2.06-.94-2.06-.94L8.5 2.5l-.94 2.06-2.06.94zm10 10l.94 2.06.94-2.06 2.06-.94-2.06-.94-.94-2.06-.94 2.06-2.06.94z\"/><path d=\"M17.41 7.96l-1.37-1.37c-.4-.4-.92-.59-1.43-.59-.52 0-1.04.2-1.43.59L10.3 9.45l-7.72 7.72c-.78.78-.78 2.05 0 2.83L4 21.41c.39.39.9.59 1.41.59.51 0 1.02-.2 1.41-.59l7.78-7.78 2.81-2.81c.8-.78.8-2.07 0-2.86zM5.41 20L4 18.59l7.72-7.72 1.47 1.35L5.41 20z\"/>\n",
              "  </svg>\n",
              "      </button>\n",
              "      \n",
              "  <style>\n",
              "    .colab-df-container {\n",
              "      display:flex;\n",
              "      flex-wrap:wrap;\n",
              "      gap: 12px;\n",
              "    }\n",
              "\n",
              "    .colab-df-convert {\n",
              "      background-color: #E8F0FE;\n",
              "      border: none;\n",
              "      border-radius: 50%;\n",
              "      cursor: pointer;\n",
              "      display: none;\n",
              "      fill: #1967D2;\n",
              "      height: 32px;\n",
              "      padding: 0 0 0 0;\n",
              "      width: 32px;\n",
              "    }\n",
              "\n",
              "    .colab-df-convert:hover {\n",
              "      background-color: #E2EBFA;\n",
              "      box-shadow: 0px 1px 2px rgba(60, 64, 67, 0.3), 0px 1px 3px 1px rgba(60, 64, 67, 0.15);\n",
              "      fill: #174EA6;\n",
              "    }\n",
              "\n",
              "    [theme=dark] .colab-df-convert {\n",
              "      background-color: #3B4455;\n",
              "      fill: #D2E3FC;\n",
              "    }\n",
              "\n",
              "    [theme=dark] .colab-df-convert:hover {\n",
              "      background-color: #434B5C;\n",
              "      box-shadow: 0px 1px 3px 1px rgba(0, 0, 0, 0.15);\n",
              "      filter: drop-shadow(0px 1px 2px rgba(0, 0, 0, 0.3));\n",
              "      fill: #FFFFFF;\n",
              "    }\n",
              "  </style>\n",
              "\n",
              "      <script>\n",
              "        const buttonEl =\n",
              "          document.querySelector('#df-851f44ce-abdd-452d-84b2-fb0b33d04b28 button.colab-df-convert');\n",
              "        buttonEl.style.display =\n",
              "          google.colab.kernel.accessAllowed ? 'block' : 'none';\n",
              "\n",
              "        async function convertToInteractive(key) {\n",
              "          const element = document.querySelector('#df-851f44ce-abdd-452d-84b2-fb0b33d04b28');\n",
              "          const dataTable =\n",
              "            await google.colab.kernel.invokeFunction('convertToInteractive',\n",
              "                                                     [key], {});\n",
              "          if (!dataTable) return;\n",
              "\n",
              "          const docLinkHtml = 'Like what you see? Visit the ' +\n",
              "            '<a target=\"_blank\" href=https://colab.research.google.com/notebooks/data_table.ipynb>data table notebook</a>'\n",
              "            + ' to learn more about interactive tables.';\n",
              "          element.innerHTML = '';\n",
              "          dataTable['output_type'] = 'display_data';\n",
              "          await google.colab.output.renderOutput(dataTable, element);\n",
              "          const docLink = document.createElement('div');\n",
              "          docLink.innerHTML = docLinkHtml;\n",
              "          element.appendChild(docLink);\n",
              "        }\n",
              "      </script>\n",
              "    </div>\n",
              "  </div>\n",
              "  "
            ]
          },
          "metadata": {},
          "execution_count": 42
        }
      ],
      "source": [
        "cr_audiencias_ordenado"
      ]
    },
    {
      "cell_type": "markdown",
      "metadata": {
        "id": "BKsOIx-wZmcP"
      },
      "source": [
        "## 6.4. Función para obtener la mejor organización de los partidos"
      ]
    },
    {
      "cell_type": "markdown",
      "metadata": {
        "id": "f0eb8zPMZ4qg"
      },
      "source": [
        "El procedimiento es el mismo que para el algoritmo de fuerza bruta, lo único es que utilizaremos el algoritmo Quick sort para ordenar:"
      ]
    },
    {
      "cell_type": "code",
      "execution_count": 44,
      "metadata": {
        "id": "EUtp3oX_Zle2"
      },
      "outputs": [],
      "source": [
        "def obtener_jornada_maxima_audiencia(df_jornada, cr_audiencias,mejor_audiencia,ordenar_cr = True):\n",
        "  \n",
        "  # Ordenamos los partidos en función del valor de la columna 'cat_num' \n",
        "  # (codigo ASCII) de menor a mayor, para ordenarlos de mayor a menor audiencia:\n",
        "  partidos_ordenados = quick_sort_liga(df_jornada,'cat_num')                    #  O(n·log(n)).\n",
        "  \n",
        "  # Ordenamos los coeficientes de reducción de audiencias de mayor a menor:\n",
        "  if ordenar_cr == True:# Si ya estan ordenados, podemos ahorrarnos realizar la ordenacion\n",
        "    cr_audiencias_ordenado = quick_sort_liga_mayor(cr_audiencias,'cr')          # O(n·log(n)).\n",
        "  else:\n",
        "    cr_audiencias_ordenado = cr_audiencias\n",
        "  \n",
        "  # Para unir dos DF's necesitamos que los indices coincidan (o almenos como \n",
        "  # los quiero unir). Por esta razon cambiamos los índices de \n",
        "  # cr_audiencias_ordenado por los de partidos_ordenados\n",
        "  cr_audiencias_ordenado.index = partidos_ordenados.index                       # C\n",
        "  \n",
        "  # Añadimos las columnas de dia, y cr para tenerlo asignado a cada partido:\n",
        "  partidos_ordenados[['dia','cr']] = cr_audiencias_ordenado                     # C\n",
        "  \n",
        "  # Calculamos la audiencia para cada partido con el cr asignado al partido, y la\n",
        "  # audiencia de un partido de esa categoria\n",
        "\n",
        "  # La audiencia de cada categoria se encuentra en un diccionario llamado \n",
        "  # mejor_audiencia, donde tiene como clave la categoria de los partidos (AA,AB,...)\n",
        "  \n",
        "  lista_audiencia = []# lista donde almacenaremos el calculo                    # C\n",
        "\n",
        "  for i in range(len(partidos_ordenados)):                                      # n\n",
        "    # recorrer el numero de filas de partidos_ordenados\n",
        "  \n",
        "    # audiencia del partido = (cr del partido) * (audiencia de un partido de esa categoria)\n",
        "  \n",
        "    # mejor_audiencia[partidos_ordenados.iloc(axis=0)[i]['categoria']])\n",
        "    # |-> Acceder ala audiencia de la catego del partido almacenada en el dicionario\n",
        "  \n",
        "    lista_audiencia.append(partidos_ordenados.iloc(axis=0)[i]['cr'] * mejor_audiencia[partidos_ordenados.iloc(axis=0)[i]['categoria']])\n",
        "  \n",
        "  # Asignamos la audiencia en una nueva columna ( de esta forma podremos consultar la audiencia de cada partido por separado):\n",
        "  partidos_ordenados['audiencia']  = lista_audiencia\n",
        "  \n",
        "  return partidos_ordenados\n",
        "  "
      ]
    },
    {
      "cell_type": "markdown",
      "metadata": {
        "id": "2MhoWtUfL5F0"
      },
      "source": [
        "En el ejercicio nos piden que organicemos una jornada dada. Para generar de forma automatica una jornada aleatoria y además calcular la máxima audiencia he realizado la siguiente función que realiza todos los procedimientos:"
      ]
    },
    {
      "cell_type": "code",
      "execution_count": 45,
      "metadata": {
        "id": "B5SRKKj6Ja9c"
      },
      "outputs": [],
      "source": [
        "def simular_jornada(equipos_liga, cr_audiencias,mejor_audiencia,ordenar_cr = True):\n",
        "  # Obtener jornada aleatoria a partir de los equipos del torneo\n",
        "  jornada_aleatoria = crear_jornada_aleatoria(equipos_liga)# Obtener jornada aleatoria\n",
        "  \n",
        "  # obtener un DF con los partidos de forma legible (Formato de nuestra funcion)\n",
        "  df_jornada = crear_DF_jornada(jornada_aleatoria)                              # O(n)\n",
        "  \n",
        "  return obtener_jornada_maxima_audiencia(df_jornada, cr_audiencias,mejor_audiencia,ordenar_cr = True)# O(n·log(n))"
      ]
    },
    {
      "cell_type": "markdown",
      "metadata": {
        "id": "nGYpsrUJ3xdm"
      },
      "source": [
        "# EJERCICIO 7 (*)"
      ]
    },
    {
      "cell_type": "markdown",
      "metadata": {
        "id": "eGDB4K6uk1iN"
      },
      "source": [
        "(*)Calcula la complejidad del algoritmo "
      ]
    },
    {
      "cell_type": "markdown",
      "metadata": {
        "id": "NhpTh_BPk1ms"
      },
      "source": [
        "**Respuesta**"
      ]
    },
    {
      "cell_type": "markdown",
      "metadata": {
        "id": "xRYp01BO21rm"
      },
      "source": [
        "La complejidad  de *obtener_jornada_maxima_audiencia()* es del tipo **O(n·log(n))**, donde n es el número de partidos (en este caso 10) :\n",
        "\n",
        "-  O(n·log(n)) --> Ordenar los partidos de mayor a menor audiencia\n",
        "-  O(n·log(n)) --> Ordenar los coeficientes de reducción de audiencia de mayor a menor \n",
        "-  C (Cosntantes. Resto de asignaciones)  --> Nuevas columnas, cambio de indice, ...\n",
        "-  n --> Bucle for\n",
        "\n",
        "**TOTAL = O(n·log(n))**"
      ]
    },
    {
      "cell_type": "markdown",
      "metadata": {
        "id": "3aBhF4lv3ENv"
      },
      "source": [
        "Debemos de tener encuenta que si se tratara de organizar la liga entera, solo ordenariamos en una ocasión los coeficientes de reducción de audiencia. De lo contrario siempre tendremos una complejidad de 2 n·log(n)"
      ]
    },
    {
      "cell_type": "markdown",
      "metadata": {
        "id": "pV5FE6eopaIx"
      },
      "source": [
        "La complejidad  de *simular_jornada())* es del tipo **O(n·log(n))**, donde n es el número de partidos (en este caso 10) :\n",
        "\n",
        "-   O(n) --> *crear_jornada_aleatoria()*. Es dificil de saber que hace esa función así que nos ponemos en el peor caso\n",
        "-  O(n) = n/2 +C --> *crear_DF_jornada()*\n",
        "-  O(n·log(n)) --> *obtener_jornada_maxima_audiencia()* \n",
        "\n",
        "\n",
        "**TOTAL = O(n·log(n))**"
      ]
    },
    {
      "cell_type": "markdown",
      "metadata": {
        "id": "dmfm1_7J38PD"
      },
      "source": [
        "# EJERCICIO 8"
      ]
    },
    {
      "cell_type": "markdown",
      "metadata": {
        "id": "3M6QjTsSkmYe"
      },
      "source": [
        "Según el problema (y tenga sentido), diseña un juego de datos de entrada aleatorios"
      ]
    },
    {
      "cell_type": "markdown",
      "metadata": {
        "id": "Jc3_OlyNkvjZ"
      },
      "source": [
        "**Respuesta**"
      ]
    },
    {
      "cell_type": "markdown",
      "metadata": {
        "id": "qlbKh682xXvg"
      },
      "source": [
        "Esta ejercicio ya ha sido realizado, cuando hemos realizado las pruebas que explican el funcionaminto del código paso por paso. Estamos usando los equipos de la liga española 2018/19. Podemos simular una jornada:"
      ]
    },
    {
      "cell_type": "code",
      "execution_count": 46,
      "metadata": {
        "id": "30umDVBUyBWl"
      },
      "outputs": [],
      "source": [
        "jornada_aleatoria = obterner_enfrentamientos_jornada_aleatorios(equipos_liga)"
      ]
    },
    {
      "cell_type": "code",
      "execution_count": 47,
      "metadata": {
        "colab": {
          "base_uri": "https://localhost:8080/",
          "height": 362
        },
        "id": "MWWs2bdvzz3Y",
        "outputId": "4beb4516-f9f9-4a87-b678-35ac83ec865a"
      },
      "outputs": [
        {
          "output_type": "execute_result",
          "data": {
            "text/plain": [
              "  cat_num categoria                           equipos\n",
              "0    6667        BC      Levante UD  - vs -  SD Eibar\n",
              "1    6567        AC     FC Barcelona  - vs -  Menorca\n",
              "2    6667        BC     Getafe CF  - vs -  CD Leganés\n",
              "3    6666        BB  Athletic Club  - vs -  D. Alavés\n",
              "4    6767        CC  Osasuna  - vs -  Real Valladolid\n",
              "5    6566        AB    Real Sociedad  - vs -  Sevilla\n",
              "6    6667        BC       Villareal  - vs -  Mallorca\n",
              "7    6666        BB      Real Betis  - vs -  Atlético\n",
              "8    6666        BB    RC Celta  - vs -  RCD Espanyol\n",
              "9    6566        AB  Real Madrid  - vs -  Valencia CF"
            ],
            "text/html": [
              "\n",
              "  <div id=\"df-5d90c1bf-bc6c-4614-8003-74f9620e1dbb\">\n",
              "    <div class=\"colab-df-container\">\n",
              "      <div>\n",
              "<style scoped>\n",
              "    .dataframe tbody tr th:only-of-type {\n",
              "        vertical-align: middle;\n",
              "    }\n",
              "\n",
              "    .dataframe tbody tr th {\n",
              "        vertical-align: top;\n",
              "    }\n",
              "\n",
              "    .dataframe thead th {\n",
              "        text-align: right;\n",
              "    }\n",
              "</style>\n",
              "<table border=\"1\" class=\"dataframe\">\n",
              "  <thead>\n",
              "    <tr style=\"text-align: right;\">\n",
              "      <th></th>\n",
              "      <th>cat_num</th>\n",
              "      <th>categoria</th>\n",
              "      <th>equipos</th>\n",
              "    </tr>\n",
              "  </thead>\n",
              "  <tbody>\n",
              "    <tr>\n",
              "      <th>0</th>\n",
              "      <td>6667</td>\n",
              "      <td>BC</td>\n",
              "      <td>Levante UD  - vs -  SD Eibar</td>\n",
              "    </tr>\n",
              "    <tr>\n",
              "      <th>1</th>\n",
              "      <td>6567</td>\n",
              "      <td>AC</td>\n",
              "      <td>FC Barcelona  - vs -  Menorca</td>\n",
              "    </tr>\n",
              "    <tr>\n",
              "      <th>2</th>\n",
              "      <td>6667</td>\n",
              "      <td>BC</td>\n",
              "      <td>Getafe CF  - vs -  CD Leganés</td>\n",
              "    </tr>\n",
              "    <tr>\n",
              "      <th>3</th>\n",
              "      <td>6666</td>\n",
              "      <td>BB</td>\n",
              "      <td>Athletic Club  - vs -  D. Alavés</td>\n",
              "    </tr>\n",
              "    <tr>\n",
              "      <th>4</th>\n",
              "      <td>6767</td>\n",
              "      <td>CC</td>\n",
              "      <td>Osasuna  - vs -  Real Valladolid</td>\n",
              "    </tr>\n",
              "    <tr>\n",
              "      <th>5</th>\n",
              "      <td>6566</td>\n",
              "      <td>AB</td>\n",
              "      <td>Real Sociedad  - vs -  Sevilla</td>\n",
              "    </tr>\n",
              "    <tr>\n",
              "      <th>6</th>\n",
              "      <td>6667</td>\n",
              "      <td>BC</td>\n",
              "      <td>Villareal  - vs -  Mallorca</td>\n",
              "    </tr>\n",
              "    <tr>\n",
              "      <th>7</th>\n",
              "      <td>6666</td>\n",
              "      <td>BB</td>\n",
              "      <td>Real Betis  - vs -  Atlético</td>\n",
              "    </tr>\n",
              "    <tr>\n",
              "      <th>8</th>\n",
              "      <td>6666</td>\n",
              "      <td>BB</td>\n",
              "      <td>RC Celta  - vs -  RCD Espanyol</td>\n",
              "    </tr>\n",
              "    <tr>\n",
              "      <th>9</th>\n",
              "      <td>6566</td>\n",
              "      <td>AB</td>\n",
              "      <td>Real Madrid  - vs -  Valencia CF</td>\n",
              "    </tr>\n",
              "  </tbody>\n",
              "</table>\n",
              "</div>\n",
              "      <button class=\"colab-df-convert\" onclick=\"convertToInteractive('df-5d90c1bf-bc6c-4614-8003-74f9620e1dbb')\"\n",
              "              title=\"Convert this dataframe to an interactive table.\"\n",
              "              style=\"display:none;\">\n",
              "        \n",
              "  <svg xmlns=\"http://www.w3.org/2000/svg\" height=\"24px\"viewBox=\"0 0 24 24\"\n",
              "       width=\"24px\">\n",
              "    <path d=\"M0 0h24v24H0V0z\" fill=\"none\"/>\n",
              "    <path d=\"M18.56 5.44l.94 2.06.94-2.06 2.06-.94-2.06-.94-.94-2.06-.94 2.06-2.06.94zm-11 1L8.5 8.5l.94-2.06 2.06-.94-2.06-.94L8.5 2.5l-.94 2.06-2.06.94zm10 10l.94 2.06.94-2.06 2.06-.94-2.06-.94-.94-2.06-.94 2.06-2.06.94z\"/><path d=\"M17.41 7.96l-1.37-1.37c-.4-.4-.92-.59-1.43-.59-.52 0-1.04.2-1.43.59L10.3 9.45l-7.72 7.72c-.78.78-.78 2.05 0 2.83L4 21.41c.39.39.9.59 1.41.59.51 0 1.02-.2 1.41-.59l7.78-7.78 2.81-2.81c.8-.78.8-2.07 0-2.86zM5.41 20L4 18.59l7.72-7.72 1.47 1.35L5.41 20z\"/>\n",
              "  </svg>\n",
              "      </button>\n",
              "      \n",
              "  <style>\n",
              "    .colab-df-container {\n",
              "      display:flex;\n",
              "      flex-wrap:wrap;\n",
              "      gap: 12px;\n",
              "    }\n",
              "\n",
              "    .colab-df-convert {\n",
              "      background-color: #E8F0FE;\n",
              "      border: none;\n",
              "      border-radius: 50%;\n",
              "      cursor: pointer;\n",
              "      display: none;\n",
              "      fill: #1967D2;\n",
              "      height: 32px;\n",
              "      padding: 0 0 0 0;\n",
              "      width: 32px;\n",
              "    }\n",
              "\n",
              "    .colab-df-convert:hover {\n",
              "      background-color: #E2EBFA;\n",
              "      box-shadow: 0px 1px 2px rgba(60, 64, 67, 0.3), 0px 1px 3px 1px rgba(60, 64, 67, 0.15);\n",
              "      fill: #174EA6;\n",
              "    }\n",
              "\n",
              "    [theme=dark] .colab-df-convert {\n",
              "      background-color: #3B4455;\n",
              "      fill: #D2E3FC;\n",
              "    }\n",
              "\n",
              "    [theme=dark] .colab-df-convert:hover {\n",
              "      background-color: #434B5C;\n",
              "      box-shadow: 0px 1px 3px 1px rgba(0, 0, 0, 0.15);\n",
              "      filter: drop-shadow(0px 1px 2px rgba(0, 0, 0, 0.3));\n",
              "      fill: #FFFFFF;\n",
              "    }\n",
              "  </style>\n",
              "\n",
              "      <script>\n",
              "        const buttonEl =\n",
              "          document.querySelector('#df-5d90c1bf-bc6c-4614-8003-74f9620e1dbb button.colab-df-convert');\n",
              "        buttonEl.style.display =\n",
              "          google.colab.kernel.accessAllowed ? 'block' : 'none';\n",
              "\n",
              "        async function convertToInteractive(key) {\n",
              "          const element = document.querySelector('#df-5d90c1bf-bc6c-4614-8003-74f9620e1dbb');\n",
              "          const dataTable =\n",
              "            await google.colab.kernel.invokeFunction('convertToInteractive',\n",
              "                                                     [key], {});\n",
              "          if (!dataTable) return;\n",
              "\n",
              "          const docLinkHtml = 'Like what you see? Visit the ' +\n",
              "            '<a target=\"_blank\" href=https://colab.research.google.com/notebooks/data_table.ipynb>data table notebook</a>'\n",
              "            + ' to learn more about interactive tables.';\n",
              "          element.innerHTML = '';\n",
              "          dataTable['output_type'] = 'display_data';\n",
              "          await google.colab.output.renderOutput(dataTable, element);\n",
              "          const docLink = document.createElement('div');\n",
              "          docLink.innerHTML = docLinkHtml;\n",
              "          element.appendChild(docLink);\n",
              "        }\n",
              "      </script>\n",
              "    </div>\n",
              "  </div>\n",
              "  "
            ]
          },
          "metadata": {},
          "execution_count": 47
        }
      ],
      "source": [
        "jornada_aleatoria"
      ]
    },
    {
      "cell_type": "markdown",
      "metadata": {
        "id": "faAtKWyb3-Z4"
      },
      "source": [
        "# EJERCICIO 9"
      ]
    },
    {
      "cell_type": "markdown",
      "metadata": {
        "id": "zy5ZROmjlGo1"
      },
      "source": [
        "Aplica el algoritmo al juego de datos generado"
      ]
    },
    {
      "cell_type": "markdown",
      "metadata": {
        "id": "_Cmj-PVylMsa"
      },
      "source": [
        "**Respuesta**"
      ]
    },
    {
      "cell_type": "markdown",
      "metadata": {
        "id": "QVLGjb311NWc"
      },
      "source": [
        "Utilizamos la jornada aleatoria creada en el ejercicio 8:"
      ]
    },
    {
      "cell_type": "code",
      "execution_count": 48,
      "metadata": {
        "colab": {
          "base_uri": "https://localhost:8080/",
          "height": 362
        },
        "id": "Jkx8GeiYlUz1",
        "outputId": "2cc029cc-2407-4650-91eb-4b58f6aa525a"
      },
      "outputs": [
        {
          "output_type": "execute_result",
          "data": {
            "text/plain": [
              "  cat_num categoria                           equipos          dia    cr  \\\n",
              "9    6566        AB  Real Madrid  - vs -  Valencia CF  domingo_20h  1.00   \n",
              "5    6566        AB    Real Sociedad  - vs -  Sevilla   sabado_20h  1.00   \n",
              "1    6567        AC     FC Barcelona  - vs -  Menorca  domingo_18h  0.85   \n",
              "3    6666        BB  Athletic Club  - vs -  D. Alavés   sabado_18h  0.80   \n",
              "7    6666        BB      Real Betis  - vs -  Atlético  domingo_16h  0.75   \n",
              "8    6666        BB    RC Celta  - vs -  RCD Espanyol   sabado_16h  0.70   \n",
              "0    6667        BC      Levante UD  - vs -  SD Eibar   sabado_12h  0.55   \n",
              "2    6667        BC     Getafe CF  - vs -  CD Leganés  domingo_12h  0.45   \n",
              "6    6667        BC       Villareal  - vs -  Mallorca    lunes_20h  0.40   \n",
              "4    6767        CC  Osasuna  - vs -  Real Valladolid  viernes_20h  0.40   \n",
              "\n",
              "   audiencia  \n",
              "9  1300000.0  \n",
              "5  1300000.0  \n",
              "1   850000.0  \n",
              "3   720000.0  \n",
              "7   675000.0  \n",
              "8   630000.0  \n",
              "0   412500.0  \n",
              "2   337500.0  \n",
              "6   300000.0  \n",
              "4   188000.0  "
            ],
            "text/html": [
              "\n",
              "  <div id=\"df-e86bd007-0344-4162-b2c2-79e5d942bf86\">\n",
              "    <div class=\"colab-df-container\">\n",
              "      <div>\n",
              "<style scoped>\n",
              "    .dataframe tbody tr th:only-of-type {\n",
              "        vertical-align: middle;\n",
              "    }\n",
              "\n",
              "    .dataframe tbody tr th {\n",
              "        vertical-align: top;\n",
              "    }\n",
              "\n",
              "    .dataframe thead th {\n",
              "        text-align: right;\n",
              "    }\n",
              "</style>\n",
              "<table border=\"1\" class=\"dataframe\">\n",
              "  <thead>\n",
              "    <tr style=\"text-align: right;\">\n",
              "      <th></th>\n",
              "      <th>cat_num</th>\n",
              "      <th>categoria</th>\n",
              "      <th>equipos</th>\n",
              "      <th>dia</th>\n",
              "      <th>cr</th>\n",
              "      <th>audiencia</th>\n",
              "    </tr>\n",
              "  </thead>\n",
              "  <tbody>\n",
              "    <tr>\n",
              "      <th>9</th>\n",
              "      <td>6566</td>\n",
              "      <td>AB</td>\n",
              "      <td>Real Madrid  - vs -  Valencia CF</td>\n",
              "      <td>domingo_20h</td>\n",
              "      <td>1.00</td>\n",
              "      <td>1300000.0</td>\n",
              "    </tr>\n",
              "    <tr>\n",
              "      <th>5</th>\n",
              "      <td>6566</td>\n",
              "      <td>AB</td>\n",
              "      <td>Real Sociedad  - vs -  Sevilla</td>\n",
              "      <td>sabado_20h</td>\n",
              "      <td>1.00</td>\n",
              "      <td>1300000.0</td>\n",
              "    </tr>\n",
              "    <tr>\n",
              "      <th>1</th>\n",
              "      <td>6567</td>\n",
              "      <td>AC</td>\n",
              "      <td>FC Barcelona  - vs -  Menorca</td>\n",
              "      <td>domingo_18h</td>\n",
              "      <td>0.85</td>\n",
              "      <td>850000.0</td>\n",
              "    </tr>\n",
              "    <tr>\n",
              "      <th>3</th>\n",
              "      <td>6666</td>\n",
              "      <td>BB</td>\n",
              "      <td>Athletic Club  - vs -  D. Alavés</td>\n",
              "      <td>sabado_18h</td>\n",
              "      <td>0.80</td>\n",
              "      <td>720000.0</td>\n",
              "    </tr>\n",
              "    <tr>\n",
              "      <th>7</th>\n",
              "      <td>6666</td>\n",
              "      <td>BB</td>\n",
              "      <td>Real Betis  - vs -  Atlético</td>\n",
              "      <td>domingo_16h</td>\n",
              "      <td>0.75</td>\n",
              "      <td>675000.0</td>\n",
              "    </tr>\n",
              "    <tr>\n",
              "      <th>8</th>\n",
              "      <td>6666</td>\n",
              "      <td>BB</td>\n",
              "      <td>RC Celta  - vs -  RCD Espanyol</td>\n",
              "      <td>sabado_16h</td>\n",
              "      <td>0.70</td>\n",
              "      <td>630000.0</td>\n",
              "    </tr>\n",
              "    <tr>\n",
              "      <th>0</th>\n",
              "      <td>6667</td>\n",
              "      <td>BC</td>\n",
              "      <td>Levante UD  - vs -  SD Eibar</td>\n",
              "      <td>sabado_12h</td>\n",
              "      <td>0.55</td>\n",
              "      <td>412500.0</td>\n",
              "    </tr>\n",
              "    <tr>\n",
              "      <th>2</th>\n",
              "      <td>6667</td>\n",
              "      <td>BC</td>\n",
              "      <td>Getafe CF  - vs -  CD Leganés</td>\n",
              "      <td>domingo_12h</td>\n",
              "      <td>0.45</td>\n",
              "      <td>337500.0</td>\n",
              "    </tr>\n",
              "    <tr>\n",
              "      <th>6</th>\n",
              "      <td>6667</td>\n",
              "      <td>BC</td>\n",
              "      <td>Villareal  - vs -  Mallorca</td>\n",
              "      <td>lunes_20h</td>\n",
              "      <td>0.40</td>\n",
              "      <td>300000.0</td>\n",
              "    </tr>\n",
              "    <tr>\n",
              "      <th>4</th>\n",
              "      <td>6767</td>\n",
              "      <td>CC</td>\n",
              "      <td>Osasuna  - vs -  Real Valladolid</td>\n",
              "      <td>viernes_20h</td>\n",
              "      <td>0.40</td>\n",
              "      <td>188000.0</td>\n",
              "    </tr>\n",
              "  </tbody>\n",
              "</table>\n",
              "</div>\n",
              "      <button class=\"colab-df-convert\" onclick=\"convertToInteractive('df-e86bd007-0344-4162-b2c2-79e5d942bf86')\"\n",
              "              title=\"Convert this dataframe to an interactive table.\"\n",
              "              style=\"display:none;\">\n",
              "        \n",
              "  <svg xmlns=\"http://www.w3.org/2000/svg\" height=\"24px\"viewBox=\"0 0 24 24\"\n",
              "       width=\"24px\">\n",
              "    <path d=\"M0 0h24v24H0V0z\" fill=\"none\"/>\n",
              "    <path d=\"M18.56 5.44l.94 2.06.94-2.06 2.06-.94-2.06-.94-.94-2.06-.94 2.06-2.06.94zm-11 1L8.5 8.5l.94-2.06 2.06-.94-2.06-.94L8.5 2.5l-.94 2.06-2.06.94zm10 10l.94 2.06.94-2.06 2.06-.94-2.06-.94-.94-2.06-.94 2.06-2.06.94z\"/><path d=\"M17.41 7.96l-1.37-1.37c-.4-.4-.92-.59-1.43-.59-.52 0-1.04.2-1.43.59L10.3 9.45l-7.72 7.72c-.78.78-.78 2.05 0 2.83L4 21.41c.39.39.9.59 1.41.59.51 0 1.02-.2 1.41-.59l7.78-7.78 2.81-2.81c.8-.78.8-2.07 0-2.86zM5.41 20L4 18.59l7.72-7.72 1.47 1.35L5.41 20z\"/>\n",
              "  </svg>\n",
              "      </button>\n",
              "      \n",
              "  <style>\n",
              "    .colab-df-container {\n",
              "      display:flex;\n",
              "      flex-wrap:wrap;\n",
              "      gap: 12px;\n",
              "    }\n",
              "\n",
              "    .colab-df-convert {\n",
              "      background-color: #E8F0FE;\n",
              "      border: none;\n",
              "      border-radius: 50%;\n",
              "      cursor: pointer;\n",
              "      display: none;\n",
              "      fill: #1967D2;\n",
              "      height: 32px;\n",
              "      padding: 0 0 0 0;\n",
              "      width: 32px;\n",
              "    }\n",
              "\n",
              "    .colab-df-convert:hover {\n",
              "      background-color: #E2EBFA;\n",
              "      box-shadow: 0px 1px 2px rgba(60, 64, 67, 0.3), 0px 1px 3px 1px rgba(60, 64, 67, 0.15);\n",
              "      fill: #174EA6;\n",
              "    }\n",
              "\n",
              "    [theme=dark] .colab-df-convert {\n",
              "      background-color: #3B4455;\n",
              "      fill: #D2E3FC;\n",
              "    }\n",
              "\n",
              "    [theme=dark] .colab-df-convert:hover {\n",
              "      background-color: #434B5C;\n",
              "      box-shadow: 0px 1px 3px 1px rgba(0, 0, 0, 0.15);\n",
              "      filter: drop-shadow(0px 1px 2px rgba(0, 0, 0, 0.3));\n",
              "      fill: #FFFFFF;\n",
              "    }\n",
              "  </style>\n",
              "\n",
              "      <script>\n",
              "        const buttonEl =\n",
              "          document.querySelector('#df-e86bd007-0344-4162-b2c2-79e5d942bf86 button.colab-df-convert');\n",
              "        buttonEl.style.display =\n",
              "          google.colab.kernel.accessAllowed ? 'block' : 'none';\n",
              "\n",
              "        async function convertToInteractive(key) {\n",
              "          const element = document.querySelector('#df-e86bd007-0344-4162-b2c2-79e5d942bf86');\n",
              "          const dataTable =\n",
              "            await google.colab.kernel.invokeFunction('convertToInteractive',\n",
              "                                                     [key], {});\n",
              "          if (!dataTable) return;\n",
              "\n",
              "          const docLinkHtml = 'Like what you see? Visit the ' +\n",
              "            '<a target=\"_blank\" href=https://colab.research.google.com/notebooks/data_table.ipynb>data table notebook</a>'\n",
              "            + ' to learn more about interactive tables.';\n",
              "          element.innerHTML = '';\n",
              "          dataTable['output_type'] = 'display_data';\n",
              "          await google.colab.output.renderOutput(dataTable, element);\n",
              "          const docLink = document.createElement('div');\n",
              "          docLink.innerHTML = docLinkHtml;\n",
              "          element.appendChild(docLink);\n",
              "        }\n",
              "      </script>\n",
              "    </div>\n",
              "  </div>\n",
              "  "
            ]
          },
          "metadata": {},
          "execution_count": 48
        }
      ],
      "source": [
        "obtener_jornada_maxima_audiencia(jornada_aleatoria,cr_audiencias,mejor_audiencia)"
      ]
    },
    {
      "cell_type": "markdown",
      "metadata": {
        "id": "z0RoOMm2MaKk"
      },
      "source": [
        "Supongamos que el cliente ya tiene todas las jornadas de la liga y quiere comparar las audiencias de cada jornada. Para ello he realizado la siguiente función que genera una gráfica donde en el eje X tenemos los diás ordenados de más a menos audiencia, y el eje Y toma los valores de la audiencia:"
      ]
    },
    {
      "cell_type": "code",
      "execution_count": 49,
      "metadata": {
        "id": "swYkBiIRDkHG"
      },
      "outputs": [],
      "source": [
        "import matplotlib.pyplot as plt\n",
        "plt.ioff() # evitar que se sobreescriban los gráficos "
      ]
    },
    {
      "cell_type": "code",
      "execution_count": 50,
      "metadata": {
        "id": "VGO5lfFmDO5N"
      },
      "outputs": [],
      "source": [
        "\n",
        "def grafica_audiencias_jornadas(*args):# Puede recibir cualquier numero de df's)\n",
        "  fig,axis = plt.subplots(1,1)\n",
        "  \n",
        "  for df in args:\n",
        "    \n",
        "    x = list(range(len(df)))\n",
        "    axis.plot(x,df.loc(axis=1)[\"audiencia\"],'-o',label='Audiencias',linewidth=3) # creación del gráfico\n",
        "    \n",
        "  axis.legend(loc='best') # Leyenda\n",
        "  axis.set_xlabel('Dias') # nombre eje x\n",
        "  axis.set_ylabel('Audiencias') # nombre eje y\n",
        "  axis.set_title('Divide y vencerás') # titulo\n",
        "  plt.xticks(x, df.loc(axis=1)[\"dia\"], rotation='vertical')\n",
        "  plt.show()\n",
        "  \n",
        "  return"
      ]
    },
    {
      "cell_type": "markdown",
      "metadata": {
        "id": "j6p3J8PMNKQq"
      },
      "source": [
        "Creemos por ejemplo 3 jornadas, y comparemos las audiencias gráficamente:"
      ]
    },
    {
      "cell_type": "code",
      "execution_count": 51,
      "metadata": {
        "id": "xl2MJfaQ1hnT"
      },
      "outputs": [],
      "source": [
        "# como cr_audiencias es el mismo para todas las jornadas, podemos ordenarlo \n",
        "# antes de llamar a \"simular_jornada()\", y asi no tener que ordenarlo 3 veces \n",
        "# (la ordenacion tiene una complejidad de n*logn)\n",
        "\n",
        "cr_audiencias_ordenado = quick_sort_liga_mayor(cr_audiencias, 'cr')"
      ]
    },
    {
      "cell_type": "code",
      "execution_count": 52,
      "metadata": {
        "id": "QButplu8Kr_j"
      },
      "outputs": [],
      "source": [
        "jornada_1 = simular_jornada(equipos_liga, cr_audiencias_ordenado, mejor_audiencia, ordenar_cr = False)\n",
        "jornada_2 = simular_jornada(equipos_liga, cr_audiencias_ordenado, mejor_audiencia, ordenar_cr = False)\n",
        "jornada_3 = simular_jornada(equipos_liga, cr_audiencias_ordenado, mejor_audiencia, ordenar_cr = False)"
      ]
    },
    {
      "cell_type": "code",
      "execution_count": 53,
      "metadata": {
        "colab": {
          "base_uri": "https://localhost:8080/",
          "height": 352
        },
        "id": "gdiF4EsQJU-2",
        "outputId": "2bc27615-635a-4def-9507-f2724058c101"
      },
      "outputs": [
        {
          "output_type": "display_data",
          "data": {
            "text/plain": [
              "<Figure size 432x288 with 1 Axes>"
            ],
            "image/png": "[encoded data removed]"
          },
          "metadata": {
            "needs_background": "light"
          }
        }
      ],
      "source": [
        "grafica_audiencias_jornadas(jornada_1,jornada_2,jornada_3)"
      ]
    },
    {
      "cell_type": "markdown",
      "metadata": {
        "id": "_70d6Idr4Ag4"
      },
      "source": [
        "# EJERCICIO 10"
      ]
    },
    {
      "cell_type": "markdown",
      "metadata": {
        "id": "eTFWUJQrtGcv"
      },
      "source": [
        "Enumera las referencias que has utilizado(si ha sido necesario) para llevar a cabo el trabajo"
      ]
    },
    {
      "cell_type": "markdown",
      "metadata": {
        "id": "YKQ_mRBttWsP"
      },
      "source": [
        "**Respuesta**"
      ]
    },
    {
      "cell_type": "markdown",
      "metadata": {
        "id": "ND2kozsEQh6c"
      },
      "source": [
        "https://rneto.es/blog/quicksort-bridge-typescript/"
      ]
    },
    {
      "cell_type": "markdown",
      "metadata": {
        "id": "VMgnWB0P4Dqm"
      },
      "source": [
        "# EJERCICIO 11"
      ]
    },
    {
      "cell_type": "markdown",
      "metadata": {
        "id": "kAkDPUyRtYyH"
      },
      "source": [
        "Describe brevemente las lineas de como crees que es posible avanzar en el estudio del problema. Ten en cuenta incluso posibles variaciones del problema y/o variaciones al alza del tamaño"
      ]
    },
    {
      "cell_type": "markdown",
      "metadata": {
        "id": "IE0uZmo-tZu-"
      },
      "source": [
        "**Respuesta**"
      ]
    },
    {
      "cell_type": "markdown",
      "metadata": {
        "id": "Tw-bYIdBNzvy"
      },
      "source": [
        "Una mejora de cara al cliente seria la creación de un algoritmo obtuviera todas las jornadas, es decir, que organizara la Liga. Una vez organizada por este algorimo apliariamos el nuestro para organizar las jornadas de forma que se maximizara la audiencia.\n",
        "\n",
        "Otra mejora, sería la incorporación de la opción de jugar más de un partido en un horario. El problema no se podría abordar del mismo modo, una de las tecnicas que podriamos utilizar para resolver el problema es ramificación y poda."
      ]
    }
  ],
  "metadata": {
    "colab": {
      "collapsed_sections": [],
      "name": "Conv2_Practicafinal_JuanOlivan.ipynb",
      "provenance": [],
      "include_colab_link": true
    },
    "kernelspec": {
      "display_name": "Python 3",
      "language": "python",
      "name": "python3"
    },
    "language_info": {
      "codemirror_mode": {
        "name": "ipython",
        "version": 3
      },
      "file_extension": ".py",
      "mimetype": "text/x-python",
      "name": "python",
      "nbconvert_exporter": "python",
      "pygments_lexer": "ipython3",
      "version": "3.8.8"
    }
  },
  "nbformat": 4,
  "nbformat_minor": 0
}